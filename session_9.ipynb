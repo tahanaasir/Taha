{
  "nbformat": 4,
  "nbformat_minor": 0,
  "metadata": {
    "colab": {
      "provenance": [],
      "authorship_tag": "ABX9TyOydAHKS0+TpPXs4J7R/eHy",
      "include_colab_link": true
    },
    "kernelspec": {
      "name": "python3",
      "display_name": "Python 3"
    },
    "language_info": {
      "name": "python"
    }
  },
  "cells": [
    {
      "cell_type": "markdown",
      "metadata": {
        "id": "view-in-github",
        "colab_type": "text"
      },
      "source": [
        "<a href=\"https://colab.research.google.com/github/tahanaasir/Taha/blob/main/session_9.ipynb\" target=\"_parent\"><img src=\"https://colab.research.google.com/assets/colab-badge.svg\" alt=\"Open In Colab\"/></a>"
      ]
    },
    {
      "cell_type": "markdown",
      "source": [
        "Program 1: Write a function called make_shirt() that accepts a size and the text of a message that should be printed on the shirt. The function should print a sentence summarizing the size of the shirt and message printed on it. Call the function once using positional arguments to make a shirt. Call the function a second time using keywords arguments. "
      ],
      "metadata": {
        "id": "PCzHpwIBDlRo"
      }
    },
    {
      "cell_type": "code",
      "execution_count": null,
      "metadata": {
        "colab": {
          "base_uri": "https://localhost:8080/"
        },
        "id": "eL9zrd020DOt",
        "outputId": "9ec585ed-d324-44e2-e5c0-f4e0f398a466"
      },
      "outputs": [
        {
          "output_type": "stream",
          "name": "stdout",
          "text": [
            "\n",
            "The size of the shirt is 35 and message to be printed is YOLO\n"
          ]
        }
      ],
      "source": [
        "#Function definition with two parameters\n",
        "def make_shirt(size,message):\n",
        "  print(f\"\\nThe size of the shirt is {size} and message to be printed is {message.upper()}\")\n",
        "make_shirt(35, 'yolo')       #Function call with two parameters  "
      ]
    },
    {
      "cell_type": "markdown",
      "source": [
        "Program 2: Modify the make_shirt() function so that shirts are large by default with the message that reads I Love Python. Make a large shirt and a medium shirt with the default message, and a shirt with the different message."
      ],
      "metadata": {
        "id": "ZcWGuAd7EtIY"
      }
    },
    {
      "cell_type": "code",
      "source": [
        "#a program to tell about the size of the shirt with the message\n",
        "def make_shirt(size='Large', message='I love Python'):\n",
        "  print(f\"\\nThe size of the shirt is {size} and message to be printed is message {message.title()}\")\n",
        "make_shirt()    #shirts size are large by the default with the message I love pyhton\n",
        "make_shirt(size='Medium and Large')\n",
        "make_shirt(size='XXL', message='Essentials'.upper())  "
      ],
      "metadata": {
        "colab": {
          "base_uri": "https://localhost:8080/"
        },
        "id": "bojZklfSLst1",
        "outputId": "1cf5d4ef-4519-45c8-df79-cb2211417fdb"
      },
      "execution_count": null,
      "outputs": [
        {
          "output_type": "stream",
          "name": "stdout",
          "text": [
            "\n",
            "The size of the shirt is Large and message to be printed is message I Love Python\n",
            "\n",
            "The size of the shirt is Medium and Large and message to be printed is message I Love Python\n",
            "\n",
            "The size of the shirt is XXL and message to be printed is message Essentials\n"
          ]
        }
      ]
    },
    {
      "cell_type": "markdown",
      "source": [
        "Program 3: Write a function called describe_city() that accepts the name of a city and its country. The function should print a simple sentence, such as Reykjavik is in iceland. Give the parameter for the country a default value. Call your function for three different citites, at least one of which is not in the default country."
      ],
      "metadata": {
        "id": "LlnthVmkFXBG"
      }
    },
    {
      "cell_type": "code",
      "source": [
        "#a program to describe a city\n",
        "def describe_city(city, country='United Arab Emirates'):\n",
        "  print(f\"\\n{city.title()} is in {country.title()}\")\n",
        "\n",
        "describe_city('Abu Dhabi')\n",
        "describe_city('reykjavik', 'iceland')\n",
        "describe_city('Dubai')"
      ],
      "metadata": {
        "colab": {
          "base_uri": "https://localhost:8080/"
        },
        "id": "kwLYtcsKOd7H",
        "outputId": "bc59319c-02a5-4d6e-d32a-d2e9ee71a7b7"
      },
      "execution_count": null,
      "outputs": [
        {
          "output_type": "stream",
          "name": "stdout",
          "text": [
            "\n",
            "Abu Dhabi is in United Arab Emirates\n",
            "\n",
            "Reykjavik is in Iceland\n",
            "\n",
            "Dubai is in United Arab Emirates\n"
          ]
        }
      ]
    },
    {
      "cell_type": "markdown",
      "source": [
        "Program 4:\n",
        "Calculate sum of two numbers using sum() function with return type. And also set the default values in the function definition. "
      ],
      "metadata": {
        "id": "fX-DAI6-GmVS"
      }
    },
    {
      "cell_type": "code",
      "source": [
        "#funtion definition with two parameters \n",
        "def sum(a=15 , b= 20):\n",
        "  return a+b\n",
        "result = sum(30)  #passing in 30 here will override the first default values\n",
        "print('The sum of 30 and 20 is: ', result)\n",
        "\n",
        "result = sum(5,6)  #passing in 5 and 6 here will override both default values\n",
        "print('The sum of 5 and 6 is: ', result)\n",
        "\n",
        "print('The sum of default value is : ', sum())"
      ],
      "metadata": {
        "id": "L0mEVyqCQNi9",
        "colab": {
          "base_uri": "https://localhost:8080/"
        },
        "outputId": "ffd7f6df-7543-4a25-e85d-ba0d70421d76"
      },
      "execution_count": null,
      "outputs": [
        {
          "output_type": "stream",
          "name": "stdout",
          "text": [
            "The sum of 30 and 20 is:  50\n",
            "The sum of 5 and 6 is:  11\n",
            "The sum of default value is :  35\n"
          ]
        }
      ]
    }
  ]
}