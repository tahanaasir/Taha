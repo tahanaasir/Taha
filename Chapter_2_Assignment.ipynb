{
  "nbformat": 4,
  "nbformat_minor": 0,
  "metadata": {
    "colab": {
      "provenance": [],
      "collapsed_sections": [],
      "authorship_tag": "ABX9TyOW19tlyom/h1WJ1ays5rTf",
      "include_colab_link": true
    },
    "kernelspec": {
      "name": "python3",
      "display_name": "Python 3"
    },
    "language_info": {
      "name": "python"
    }
  },
  "cells": [
    {
      "cell_type": "markdown",
      "metadata": {
        "id": "view-in-github",
        "colab_type": "text"
      },
      "source": [
        "<a href=\"https://colab.research.google.com/github/tahanaasir/Taha/blob/main/Chapter_2_Assignment.ipynb\" target=\"_parent\"><img src=\"https://colab.research.google.com/assets/colab-badge.svg\" alt=\"Open In Colab\"/></a>"
      ]
    },
    {
      "cell_type": "code",
      "execution_count": null,
      "metadata": {
        "colab": {
          "base_uri": "https://localhost:8080/"
        },
        "id": "EHfaFqPVC5Ak",
        "outputId": "bd7e61e3-b012-4e78-e008-242595903aa1"
      },
      "outputs": [
        {
          "output_type": "stream",
          "name": "stdout",
          "text": [
            "Hi there, the Python language is on of the easiet language.\n",
            "It is also the most popular programming language.\n"
          ]
        }
      ],
      "source": [
        "# a program to assigning a message in a variable, then printing it.\n",
        "# then changing the message of the same variable and printing the new message.\n",
        "\n",
        "message= 'Hi there, the Python language is on of the easiet language.'\n",
        "print(message)\n",
        "\n",
        "message= 'It is also the most popular programming language.'\n",
        "print(message)"
      ]
    },
    {
      "cell_type": "code",
      "source": [
        "# a program to write a quote of a famous person\n",
        "\n",
        "quote= 'When you have dream, you have got to grab it and never let it go.'\n",
        "\n",
        "print('Carol Burnett once quoted a famous proverb. He said,' + str(quote))"
      ],
      "metadata": {
        "colab": {
          "base_uri": "https://localhost:8080/"
        },
        "id": "HwLUUT8aHGNt",
        "outputId": "b8526f2a-6fac-4404-efd9-cf3abb0aa88f"
      },
      "execution_count": null,
      "outputs": [
        {
          "output_type": "stream",
          "name": "stdout",
          "text": [
            "Carol Burnett once quoted a famous proverb. He said,When you have dream, you have got to grab it and never let it go.\n"
          ]
        }
      ]
    },
    {
      "cell_type": "code",
      "source": [
        "# a program to use of lstrip(), rstrip(),strip(), \\n, \\t\n",
        "\n",
        "# use of lstrip()\n",
        "\n",
        "word_1= '             Python'\n",
        "new_word_1= word_1.lstrip()\n",
        "print(word_1)\n",
        "print(new_word_1)\n",
        "\n",
        "# use of rstrip()\n",
        "\n",
        "word_2= 'Python                  is cool'\n",
        "new_word_2= word_2.rstrip()\n",
        "print(word_2)\n",
        "print(new_word_2)\n",
        "\n",
        "# use of strip()\n",
        "\n",
        "word_3= '              Nice work'\n",
        "new_word_3= word_3.strip()\n",
        "print(word_3)\n",
        "print(new_word_3)\n",
        "\n",
        "# use of \\n\n",
        "\n",
        "print('Friends that have my back when I need help: \\n Ziyan \\n Ameer \\n Haris \\n Awais \\n Asif \\n Obaid')\n",
        "\n",
        "# use of \\t\n",
        "\n",
        "print('World most dangerous ride is \\t Sling Shot')"
      ],
      "metadata": {
        "colab": {
          "base_uri": "https://localhost:8080/"
        },
        "id": "SpkAw79LIXc_",
        "outputId": "9ccf1cd0-6f0c-496a-914a-40355289cf8f"
      },
      "execution_count": 1,
      "outputs": [
        {
          "output_type": "stream",
          "name": "stdout",
          "text": [
            "             Python\n",
            "Python\n",
            "Python                  is cool\n",
            "Python                  is cool\n",
            "              Nice work\n",
            "Nice work\n",
            "Friends that have my back when I need help: \n",
            " Ziyan \n",
            " Ameer \n",
            " Haris \n",
            " Awais \n",
            " Asif \n",
            " Obaid\n",
            "World most dangerous ride is \t Sling Shot\n"
          ]
        }
      ]
    },
    {
      "cell_type": "code",
      "source": [
        "# a program to represent your favourite number \n",
        "\n",
        "print('Enter your favorite number =')\n",
        "fav_num= int(input())\n",
        "\n",
        "print('Your favorite number is' +str(fav_num))"
      ],
      "metadata": {
        "colab": {
          "base_uri": "https://localhost:8080/"
        },
        "id": "B8fymlD2LtQy",
        "outputId": "6776b931-d73e-45e7-beb2-e4fdeb91119f"
      },
      "execution_count": null,
      "outputs": [
        {
          "output_type": "stream",
          "name": "stdout",
          "text": [
            "Enter your favorite number =\n",
            "22\n",
            "Your favorite number is22\n"
          ]
        }
      ]
    },
    {
      "cell_type": "code",
      "source": [
        "# a program to calculate how many USBs a girl bought in $50 if \n",
        "# the price of USB is $6\n",
        "\n",
        "print('Enter the amount available=')\n",
        "amount= float(input())\n",
        "\n",
        "amount_of_USB= 6\n",
        "print('A single USB stick costs' +str(amount_of_USB) + 'dollars')\n",
        "\n",
        "USBs_bought= amount// amount_of_USB\n",
        "balance= amount % amount_of_USB\n",
        "\n",
        "print('You have' +str(amount) + 'dollars and you can buy' + str(USBs_bought) + 'sticks')\n",
        "print('Balance =' +str(balance))"
      ],
      "metadata": {
        "colab": {
          "base_uri": "https://localhost:8080/"
        },
        "id": "GWaweZ--UPW6",
        "outputId": "7e46bb05-6ca3-4c2d-946e-3b9eb54325a0"
      },
      "execution_count": null,
      "outputs": [
        {
          "output_type": "stream",
          "name": "stdout",
          "text": [
            "Enter the amount available=\n",
            "20\n",
            "A single USB stick costs6dollars\n",
            "You have20.0dollars and you can buy3.0sticks\n",
            "Balance =2.0\n"
          ]
        }
      ]
    }
  ]
}