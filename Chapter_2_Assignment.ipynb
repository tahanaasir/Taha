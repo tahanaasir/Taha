{
  "nbformat": 4,
  "nbformat_minor": 0,
  "metadata": {
    "colab": {
      "provenance": [],
      "collapsed_sections": [],
      "authorship_tag": "ABX9TyOhsZCQK16tld3+8/ulZnkE",
      "include_colab_link": true
    },
    "kernelspec": {
      "name": "python3",
      "display_name": "Python 3"
    },
    "language_info": {
      "name": "python"
    }
  },
  "cells": [
    {
      "cell_type": "markdown",
      "metadata": {
        "id": "view-in-github",
        "colab_type": "text"
      },
      "source": [
        "<a href=\"https://colab.research.google.com/github/tahanaasir/Taha/blob/main/Chapter_2_Assignment.ipynb\" target=\"_parent\"><img src=\"https://colab.research.google.com/assets/colab-badge.svg\" alt=\"Open In Colab\"/></a>"
      ]
    },
    {
      "cell_type": "code",
      "execution_count": null,
      "metadata": {
        "colab": {
          "base_uri": "https://localhost:8080/"
        },
        "id": "EHfaFqPVC5Ak",
        "outputId": "bd7e61e3-b012-4e78-e008-242595903aa1"
      },
      "outputs": [
        {
          "output_type": "stream",
          "name": "stdout",
          "text": [
            "Hi there, the Python language is on of the easiet language.\n",
            "It is also the most popular programming language.\n"
          ]
        }
      ],
      "source": [
        "Exercise 1: Variables☑️\n",
        "Assign a message to a variable, and print that message. Then change the value of the variable to a new message, and print the new message.\n",
        "\n",
        "# a program to assigning a message in a variable, then printing it.\n",
        "# then changing the message of the same variable and printing the new message.\n",
        "\n",
        "message= 'Hi there, the Python language is on of the easiet language.'\n",
        "print(message)\n",
        "\n",
        "message= 'It is also the most popular programming language.'\n",
        "print(message)"
      ]
    },
    {
      "cell_type": "markdown",
      "source": [
        "Exercise 2: Variables ☑️\n",
        "Find a quote from a famous person you admire. Print the quote and the name of its author.\n",
        "\n",
        "Your output should look something like the following, including the quotation marks:\n",
        "\n",
        "Albert Einstein once said, “A person who never made a mistake never tried anything new."
      ],
      "metadata": {
        "id": "wtcR3jgzpJgG"
      }
    },
    {
      "cell_type": "code",
      "source": [
        "# a program to write a quote of a famous person\n",
        "\n",
        "quote= 'When you have dream, you have got to grab it and never let it go.'\n",
        "\n",
        "print('Carol Burnett once quoted a famous proverb. He said,' + str(quote))"
      ],
      "metadata": {
        "colab": {
          "base_uri": "https://localhost:8080/"
        },
        "id": "HwLUUT8aHGNt",
        "outputId": "b8526f2a-6fac-4404-efd9-cf3abb0aa88f"
      },
      "execution_count": null,
      "outputs": [
        {
          "output_type": "stream",
          "name": "stdout",
          "text": [
            "Carol Burnett once quoted a famous proverb. He said,When you have dream, you have got to grab it and never let it go.\n"
          ]
        }
      ]
    },
    {
      "cell_type": "markdown",
      "source": [
        "Exercise 3: Stripping Names ☑️\n",
        "Tidy up the code to make it easier to understand\n",
        "\n",
        "Use a variable to represent a person’s name, and include some whitespace characters at the beginning and end of the name. Make sure you use each character combination, “\\t” and “\\n”, at least once.\n",
        "\n",
        "Print the name once, so the whitespace around the name is displayed.\n",
        "\n",
        "Then print the name using each of the three stripping functions, lstrip(), rstrip(), and strip()."
      ],
      "metadata": {
        "id": "O8mGqYOfo8oX"
      }
    },
    {
      "cell_type": "code",
      "source": [
        "# a program to use of lstrip(), rstrip(),strip(), \\n, \\t\n",
        "\n",
        "# use of lstrip()\n",
        "\n",
        "word_1= '             Python'\n",
        "new_word_1= word_1.lstrip()\n",
        "print(word_1)\n",
        "print(new_word_1)\n",
        "\n",
        "# use of rstrip()\n",
        "\n",
        "word_2= 'Python                  is cool'\n",
        "new_word_2= word_2.rstrip()\n",
        "print(word_2)\n",
        "print(new_word_2)\n",
        "\n",
        "# use of strip()\n",
        "\n",
        "word_3= '              Nice work'\n",
        "new_word_3= word_3.strip()\n",
        "print(word_3)\n",
        "print(new_word_3)\n",
        "\n",
        "# use of \\n\n",
        "\n",
        "print('Friends that have my back when I need help: \\n Ziyan \\n Ameer \\n Haris \\n Awais \\n Asif \\n Obaid')\n",
        "\n",
        "# use of \\t\n",
        "\n",
        "print('World most dangerous ride is \\t Sling Shot')"
      ],
      "metadata": {
        "colab": {
          "base_uri": "https://localhost:8080/"
        },
        "id": "SpkAw79LIXc_",
        "outputId": "9ccf1cd0-6f0c-496a-914a-40355289cf8f"
      },
      "execution_count": null,
      "outputs": [
        {
          "output_type": "stream",
          "name": "stdout",
          "text": [
            "             Python\n",
            "Python\n",
            "Python                  is cool\n",
            "Python                  is cool\n",
            "              Nice work\n",
            "Nice work\n",
            "Friends that have my back when I need help: \n",
            " Ziyan \n",
            " Ameer \n",
            " Haris \n",
            " Awais \n",
            " Asif \n",
            " Obaid\n",
            "World most dangerous ride is \t Sling Shot\n"
          ]
        }
      ]
    },
    {
      "cell_type": "markdown",
      "source": [
        "Exercise 4: Favorite Number ☑️\n",
        "Use a variable to represent your favorite number. Then,using that variable, create a message that reveals your favorite number. Print that message."
      ],
      "metadata": {
        "id": "YY0veDC1o3hD"
      }
    },
    {
      "cell_type": "code",
      "source": [
        "# a program to represent your favourite number \n",
        "\n",
        "print('Enter your favorite number =')\n",
        "fav_num= int(input())\n",
        "\n",
        "print('Your favorite number is' +str(fav_num))"
      ],
      "metadata": {
        "colab": {
          "base_uri": "https://localhost:8080/"
        },
        "id": "B8fymlD2LtQy",
        "outputId": "6776b931-d73e-45e7-beb2-e4fdeb91119f"
      },
      "execution_count": null,
      "outputs": [
        {
          "output_type": "stream",
          "name": "stdout",
          "text": [
            "Enter your favorite number =\n",
            "22\n",
            "Your favorite number is22\n"
          ]
        }
      ]
    },
    {
      "cell_type": "markdown",
      "source": [
        "Exercise 5: USB Shopper ☑️\n",
        "A girl heads to a computer shop to buy some USB sticks. She loves USB sticks and wants as many as she can get for £50. They are £6 each.\n",
        "\n",
        "Write a programme that calculates how many USB sticks she can buy and how many pounds she will have left.\n",
        "\n",
        "You will to use the arithmetic operators to complete this exercise."
      ],
      "metadata": {
        "id": "kIZhEYAbouir"
      }
    },
    {
      "cell_type": "code",
      "source": [
        "# a program to calculate how many USBs a girl bought in $50 if \n",
        "# the price of USB is $6\n",
        "\n",
        "print('Enter the amount available=')\n",
        "amount= float(input())\n",
        "\n",
        "amount_of_USB= 6\n",
        "print('A single USB stick costs' +str(amount_of_USB) + 'dollars')\n",
        "\n",
        "USBs_bought= amount// amount_of_USB\n",
        "balance= amount % amount_of_USB\n",
        "\n",
        "print('You have' +str(amount) + 'dollars and you can buy' + str(USBs_bought) + 'sticks')\n",
        "print('Balance =' +str(balance))"
      ],
      "metadata": {
        "colab": {
          "base_uri": "https://localhost:8080/"
        },
        "id": "GWaweZ--UPW6",
        "outputId": "7e46bb05-6ca3-4c2d-946e-3b9eb54325a0"
      },
      "execution_count": null,
      "outputs": [
        {
          "output_type": "stream",
          "name": "stdout",
          "text": [
            "Enter the amount available=\n",
            "20\n",
            "A single USB stick costs6dollars\n",
            "You have20.0dollars and you can buy3.0sticks\n",
            "Balance =2.0\n"
          ]
        }
      ]
    }
  ]
}