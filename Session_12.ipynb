{
  "nbformat": 4,
  "nbformat_minor": 0,
  "metadata": {
    "colab": {
      "provenance": [],
      "authorship_tag": "ABX9TyOprsCL+tIdxlfWecuehfYd",
      "include_colab_link": true
    },
    "kernelspec": {
      "name": "python3",
      "display_name": "Python 3"
    },
    "language_info": {
      "name": "python"
    }
  },
  "cells": [
    {
      "cell_type": "markdown",
      "metadata": {
        "id": "view-in-github",
        "colab_type": "text"
      },
      "source": [
        "<a href=\"https://colab.research.google.com/github/tahanaasir/Taha/blob/main/Session_12.ipynb\" target=\"_parent\"><img src=\"https://colab.research.google.com/assets/colab-badge.svg\" alt=\"Open In Colab\"/></a>"
      ]
    },
    {
      "cell_type": "markdown",
      "source": [
        "Program 1:  Write a program to convert Kilometer to miles"
      ],
      "metadata": {
        "id": "zA49vpZAHuly"
      }
    },
    {
      "cell_type": "code",
      "execution_count": null,
      "metadata": {
        "colab": {
          "base_uri": "https://localhost:8080/"
        },
        "id": "iEUkCKVqDD_V",
        "outputId": "82ce173d-c02b-4b9e-a917-694d3b504e61"
      },
      "outputs": [
        {
          "output_type": "stream",
          "name": "stdout",
          "text": [
            "Enter the value of kilometer.4\n",
            "6.00 kilometer is equal to 2.49 miles\n"
          ]
        }
      ],
      "source": [
        "kilometer=float(input('Enter the value of kilometer.'))\n",
        "conv_fac=0.62137119\n",
        "miles= kilometer * conv_fac\n",
        "print('%0.2f kilometer is equal to %0.2f miles' %(kilometers,miles))"
      ]
    },
    {
      "cell_type": "markdown",
      "source": [
        "Program 2:  Write a program to convert temperature in Celsius to Fahrenheit"
      ],
      "metadata": {
        "id": "-FLZz6gUK81q"
      }
    },
    {
      "cell_type": "code",
      "source": [
        "celsius_1 = float(input('Enter the value in celsius degree.'))\n",
        "fahrenheit_1 = (celsius_1 * 1.8)+32\n",
        "print('The %2f celcius is equal to %2f fahrenheit' %(celsius_1,fahrenheit_1))"
      ],
      "metadata": {
        "colab": {
          "base_uri": "https://localhost:8080/"
        },
        "id": "eOVkv7D8LA9y",
        "outputId": "33c5731a-365b-4735-e9d9-555375bdc129"
      },
      "execution_count": null,
      "outputs": [
        {
          "output_type": "stream",
          "name": "stdout",
          "text": [
            "Enter the value in celsius degree.45\n",
            "The 45.000000 celcius is equal to 113.000000 fahrenheit\n"
          ]
        }
      ]
    },
    {
      "cell_type": "markdown",
      "source": [
        "Program 3:  Write a program to Check if a Number is Positive, Negative or 0"
      ],
      "metadata": {
        "id": "8TuJcpbxNFlV"
      }
    },
    {
      "cell_type": "code",
      "source": [
        "n= float(input('Enter the number.'))\n",
        "if n >= 0:\n",
        " if n == 0:\n",
        "  print('Its zero.')\n",
        " else:\n",
        "  print(\"The number is positive.\")\n",
        "else:\n",
        " print(\"The number is negative\")"
      ],
      "metadata": {
        "colab": {
          "base_uri": "https://localhost:8080/"
        },
        "id": "SyEWaC8KNGte",
        "outputId": "290f3efe-6925-4862-ff20-8e4990b3991c"
      },
      "execution_count": null,
      "outputs": [
        {
          "output_type": "stream",
          "name": "stdout",
          "text": [
            "Enter the number.9\n",
            "The number is positive.\n"
          ]
        }
      ]
    },
    {
      "cell_type": "markdown",
      "source": [
        "Program 4:  Write a Program to Check Prime Number\n",
        "Hint: Prime numbers are only divisible by itself and are greater than 1. e.g. 2,5,11,13,19,….."
      ],
      "metadata": {
        "id": "1Fi4Bq-xPx0J"
      }
    },
    {
      "cell_type": "code",
      "source": [
        "num= int(input('Enter a number:'))\n",
        "\n",
        "if num > 1:\n",
        "  for i in range(2,num):\n",
        "    if (num % i) == 0 :\n",
        "      print(num, \"is not a prime number\")\n",
        "      break\n",
        "  else:\n",
        "    print(num, \"is a prime number\")\n",
        "\n",
        "else:\n",
        "  print(num, \"is not a prime number\")        "
      ],
      "metadata": {
        "colab": {
          "base_uri": "https://localhost:8080/"
        },
        "id": "CyMefws1P2Wh",
        "outputId": "5c44d14e-eaa7-45e0-bd6a-91de7b04c0c5"
      },
      "execution_count": null,
      "outputs": [
        {
          "output_type": "stream",
          "name": "stdout",
          "text": [
            "Enter a number:11\n",
            "11 is a prime number\n"
          ]
        }
      ]
    },
    {
      "cell_type": "code",
      "source": [
        "num= int(input('Enter a number:'))\n",
        "\n",
        "if num > 1:\n",
        "  for i in range(2,num):\n",
        "    if (num % i) == 0 :\n",
        "      print(num, \"is not a prime number\")\n",
        "      break\n",
        "  else:\n",
        "    print(num, \"is a prime number\")\n",
        "\n",
        "else:\n",
        "  print(num, \"is not a prime number\")  "
      ],
      "metadata": {
        "colab": {
          "base_uri": "https://localhost:8080/"
        },
        "id": "pZ8_uZxoQo5t",
        "outputId": "7246e20c-b00f-4563-f8c9-8cf112fcc693"
      },
      "execution_count": null,
      "outputs": [
        {
          "output_type": "stream",
          "name": "stdout",
          "text": [
            "Enter a number:12\n",
            "12 is not a prime number\n"
          ]
        }
      ]
    },
    {
      "cell_type": "markdown",
      "source": [
        "Program 5:  Write a Program to Display the multiplication Table"
      ],
      "metadata": {
        "id": "sJl5V-A2QrTA"
      }
    },
    {
      "cell_type": "code",
      "source": [
        "for i in range (1, 11):\n",
        "  print(num, 'x', i, '=', num*i)"
      ],
      "metadata": {
        "colab": {
          "base_uri": "https://localhost:8080/"
        },
        "id": "rRuODp6-Q3C7",
        "outputId": "73cd3ae3-bb48-435d-dc8d-f107f4c1b0a8"
      },
      "execution_count": null,
      "outputs": [
        {
          "output_type": "stream",
          "name": "stdout",
          "text": [
            "12 x 1 = 12\n",
            "12 x 2 = 24\n",
            "12 x 3 = 36\n",
            "12 x 4 = 48\n",
            "12 x 5 = 60\n",
            "12 x 6 = 72\n",
            "12 x 7 = 84\n",
            "12 x 8 = 96\n",
            "12 x 9 = 108\n",
            "12 x 10 = 120\n"
          ]
        }
      ]
    },
    {
      "cell_type": "markdown",
      "source": [
        "Program 6:  Write a  Program to Print the Fibonacci series\n",
        "Hint: A Fibonacci sequence is the integer sequence of 0, 1, 1, 2, 3, 5, 8..\n",
        "The first two terms are 0 and 1. All other terms are obtained by adding the preceding two terms. This means to say the nth term is the sum of (n-1)th and (n-2)th term."
      ],
      "metadata": {
        "id": "wbD-y8wWRzq7"
      }
    },
    {
      "cell_type": "code",
      "source": [
        "nterms= int(input('Enter how many terms you want.'))\n",
        "n1, n2 = 0, 1\n",
        "count=0\n",
        "if nterms <=0:\n",
        "  print('Please enter a positive integer.')\n",
        "elif nterms == 1:\n",
        "  print('Fibonacci sequence upto',nterms,':')\n",
        "  print(n1)\n",
        "else:\n",
        "  print('Fibonacci sequence')\n",
        "  while count < nterms:\n",
        "    print(n1)\n",
        "    nth = n1+n2\n",
        "    n1=n2\n",
        "    n2=nth\n",
        "    count+=1    "
      ],
      "metadata": {
        "colab": {
          "base_uri": "https://localhost:8080/"
        },
        "id": "4wuhibWWR3dh",
        "outputId": "c197d1b5-9761-4a5a-bd43-1dee5c8752ed"
      },
      "execution_count": null,
      "outputs": [
        {
          "output_type": "stream",
          "name": "stdout",
          "text": [
            "Enter how many terms you want.9\n",
            "Fibonacci sequence\n",
            "0\n",
            "1\n",
            "1\n",
            "2\n",
            "3\n",
            "5\n",
            "8\n",
            "13\n",
            "21\n"
          ]
        }
      ]
    },
    {
      "cell_type": "markdown",
      "source": [
        "Program 7:  Write a program to check if a string is palindrome or not\n",
        "Hint: A palindrome is a string that is the same read forward or backward. For example, \"dad\" is the same in forward or reverse direction. "
      ],
      "metadata": {
        "id": "e3upD5fyVIkw"
      }
    },
    {
      "cell_type": "code",
      "source": [
        "my_str = 'aIbohPhobia'\n",
        "my_str = my_str.casefold()\n",
        "rev_str = reversed(my_str)\n",
        "if list (my_str) == list(rev_str):\n",
        "  print('The string is palindrome.')\n",
        "\n",
        "else:\n",
        "  print('The string is not a palindrome')  "
      ],
      "metadata": {
        "colab": {
          "base_uri": "https://localhost:8080/"
        },
        "id": "4OzhplReVZAy",
        "outputId": "06005bfe-05c9-476d-f91b-aeaca74431a1"
      },
      "execution_count": null,
      "outputs": [
        {
          "output_type": "stream",
          "name": "stdout",
          "text": [
            "The string is palindrome.\n"
          ]
        }
      ]
    },
    {
      "cell_type": "markdown",
      "source": [
        "Program 8:  Write a Program to Merge Two Dictionaries\n",
        "Hints: use ** to unpack dictionaries dictionary 1 and dictionary 2. Then, the dictionaries are merged by placing them inside {}"
      ],
      "metadata": {
        "id": "PRij_zbvYrUx"
      }
    },
    {
      "cell_type": "code",
      "source": [
        "dict_1 = {1: 'a', 2: 'b'}\n",
        "dict_2 = {3: 'c', 4: 'd'}\n",
        "print({**dict_1,**dict_2})"
      ],
      "metadata": {
        "colab": {
          "base_uri": "https://localhost:8080/"
        },
        "id": "XaRNZQeaYyhW",
        "outputId": "4a8cec15-0736-4e68-e1a4-5c9642671980"
      },
      "execution_count": null,
      "outputs": [
        {
          "output_type": "stream",
          "name": "stdout",
          "text": [
            "{1: 'a', 2: 'b', 3: 'c', 4: 'd'}\n"
          ]
        }
      ]
    },
    {
      "cell_type": "markdown",
      "source": [
        "Program 9:  Write a  program to Count the Number of Occurrence of Character in String"
      ],
      "metadata": {
        "id": "2up-rsZ4anJi"
      }
    },
    {
      "cell_type": "code",
      "source": [
        "count = 0\n",
        "my_string = 'Mississipi'\n",
        "my_char = 's'\n",
        "for i in my_string:\n",
        "  if i == my_char:\n",
        "    count+=1\n",
        "print(count)    "
      ],
      "metadata": {
        "colab": {
          "base_uri": "https://localhost:8080/"
        },
        "id": "pF4bwiWSavNM",
        "outputId": "b33d87ef-a6d6-4067-f344-98714b9a3e65"
      },
      "execution_count": null,
      "outputs": [
        {
          "output_type": "stream",
          "name": "stdout",
          "text": [
            "4\n"
          ]
        }
      ]
    },
    {
      "cell_type": "markdown",
      "source": [
        "Program 10:  Write a program to find the largest number among the three input numbers"
      ],
      "metadata": {
        "id": "SQeVDQ4hc4hs"
      }
    },
    {
      "cell_type": "code",
      "source": [
        "num1= 15\n",
        "num2= 20\n",
        "num3= 10\n",
        "if (num1 >= num2) and (num1 >= num3):\n",
        "  largest= num1\n",
        "elif (num2 >= num1) and (num2 >= num3):\n",
        "  largest= num2\n",
        "else:\n",
        "  largest = num2\n",
        "print('The largest number is', largest)    "
      ],
      "metadata": {
        "colab": {
          "base_uri": "https://localhost:8080/"
        },
        "id": "PQLMDZJAc8b_",
        "outputId": "c6a437a0-1fd7-430a-f99b-4fe4d8ca79f3"
      },
      "execution_count": null,
      "outputs": [
        {
          "output_type": "stream",
          "name": "stdout",
          "text": [
            "The largest number is 20\n"
          ]
        }
      ]
    }
  ]
}