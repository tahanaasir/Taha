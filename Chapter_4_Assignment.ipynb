{
  "nbformat": 4,
  "nbformat_minor": 0,
  "metadata": {
    "colab": {
      "provenance": [],
      "authorship_tag": "ABX9TyMYWbpZKe64fdxH+6Y/xRbo",
      "include_colab_link": true
    },
    "kernelspec": {
      "name": "python3",
      "display_name": "Python 3"
    },
    "language_info": {
      "name": "python"
    }
  },
  "cells": [
    {
      "cell_type": "markdown",
      "metadata": {
        "id": "view-in-github",
        "colab_type": "text"
      },
      "source": [
        "<a href=\"https://colab.research.google.com/github/tahanaasir/Taha/blob/main/Chapter_4_Assignment.ipynb\" target=\"_parent\"><img src=\"https://colab.research.google.com/assets/colab-badge.svg\" alt=\"Open In Colab\"/></a>"
      ]
    },
    {
      "cell_type": "code",
      "execution_count": null,
      "metadata": {
        "colab": {
          "base_uri": "https://localhost:8080/"
        },
        "id": "Eq1tkuZOFqvh",
        "outputId": "b074ce2e-7d6b-408b-d5e0-1d1ef11f3341"
      },
      "outputs": [
        {
          "output_type": "stream",
          "name": "stdout",
          "text": [
            "Congrats, you have earned 5 points.\n"
          ]
        }
      ],
      "source": [
        "#Exercise 1: Alien Colors #1 ☑️\n",
        "Imagine an alien was just shot down in a game. Create a variable called alien_color and assign it a value of 'green', 'yellow', or 'red'.\n",
        "\n",
        "•Write an if statement to test whether the alien’s color is green. If it is, print a message that the player just earned 5 points.\n",
        "\n",
        "•Write one version of this program that passes the if test and another that fails. (The version that fails will have no output.)\n",
        "\n",
        "   \n",
        "\n",
        "# a program to tell wether the alien color is green or not \n",
        "\n",
        "# the condition in this section is true\n",
        "alien_color = 'green'          # alien_color saves the color green\n",
        "\n",
        "# if the color sorted in the variable. Is green, then the condition is true\n",
        "if alien_color == 'green':\n",
        "  print('Congrats, you have earned 5 points.')\n",
        "\n",
        "\n",
        "# the condition in this section is false, therefore there will be no output\n",
        "alien_color = 'blue'           # here, blue is sorted instead of green\n",
        "\n",
        "if alien_color == 'green':     # the condition will be false since the color is not green \n",
        "  print('Congrats, you have earned 5 points.')"
      ]
    },
    {
      "cell_type": "markdown",
      "source": [
        "Exercise 2: Alien Colors #2 ☑️\n",
        "Choose a color for an alien as you did in Exercise 5-3, and write an if-else chain.\n",
        "\n",
        "•If the alien’s color is green, print a statement that the player just earned 5 points for shooting the alien.\n",
        "\n",
        "•If the alien’s color isn’t green, print a statement that the player just earned 10 points.\n",
        "\n",
        "•Write one version of this program that runs the if block and another that runs the else block."
      ],
      "metadata": {
        "id": "N6iijH-JlEGC"
      }
    },
    {
      "cell_type": "code",
      "source": [
        "# a program of using if-else statements\n",
        "\n",
        "# in this section, the if statement is true\n",
        "alien_color = 'white'\n",
        "\n",
        "if alien_color == 'white':\n",
        "  print('Congrats, you have earned 5 points.')\n",
        "\n",
        "else:\n",
        "  print('Congrats, you have earned 10 points.')\n",
        "\n",
        "# in this section, the else statement is true\n",
        "alien_color = 'pink'\n",
        "\n",
        "if alien_color == 'white':\n",
        "  print('Congrats, you have earned 5 points.')\n",
        "\n",
        "else:\n",
        "  print('Congrats, you have earned 10 points.')  "
      ],
      "metadata": {
        "colab": {
          "base_uri": "https://localhost:8080/"
        },
        "id": "26MuaUvILR9K",
        "outputId": "6731276f-158c-4156-8582-f309efa95278"
      },
      "execution_count": null,
      "outputs": [
        {
          "output_type": "stream",
          "name": "stdout",
          "text": [
            "Congrats, you have earned 5 points.\n",
            "Congrats, you have earned 10 points.\n"
          ]
        }
      ]
    },
    {
      "cell_type": "markdown",
      "source": [
        "Exercise 3: Alien Colors #3 ☑️\n",
        "Turn your if-else chain from Exercise 5-4 into an if-elifelse chain.\n",
        "\n",
        "• If the alien is green, print a message that the player earned 5 points.\n",
        "\n",
        "• If the alien is yellow, print a message that the player earned 10 points.\n",
        "\n",
        "• If the alien is red, print a message that the player earned 15 points.\n",
        "\n",
        "• Write three versions of this program, making sure each message is printed for the appropriate color alien."
      ],
      "metadata": {
        "id": "fAS0VEUjlPZS"
      }
    },
    {
      "cell_type": "code",
      "source": [
        "# a program to demonstrate the working of if-elif-else statement\n",
        "\n",
        "# the first condition is true in this section\n",
        "alien_color = 'blue'\n",
        "\n",
        "if alien_color == 'blue':\n",
        "  print('You have earned 5 points.')\n",
        "\n",
        "elif alien_color == 'white':\n",
        "  print('You have earned 10 points.') \n",
        "\n",
        "else:\n",
        "  print('You have earned 15 points.')   \n",
        "\n",
        "\n",
        "# the second condition in this section is true\n",
        "alien_color = 'white'\n",
        "\n",
        "if alien_color == 'blue':\n",
        "  print('You have earned 5 points.')\n",
        "\n",
        "elif alien_color == 'white':\n",
        "  print('You have earned 10 points.')\n",
        "\n",
        "else:\n",
        "  print('You have earned 15 points.')  \n",
        "\n",
        "\n",
        "# third condition in this section is true\n",
        "alien_color = 'brown'\n",
        "\n",
        "if alien_color == 'blue':\n",
        "  print('You have earned 5 points.')\n",
        "\n",
        "elif alien_color == 'white':\n",
        "  print('You have earned 10 points.')\n",
        "\n",
        "else:\n",
        "  print('You have earned 15 points.')    "
      ],
      "metadata": {
        "colab": {
          "base_uri": "https://localhost:8080/"
        },
        "id": "8S4-lgDfZo1u",
        "outputId": "3e647060-30ee-4a2c-a700-1c0fb43e5d7a"
      },
      "execution_count": null,
      "outputs": [
        {
          "output_type": "stream",
          "name": "stdout",
          "text": [
            "You have earned 5 points.\n",
            "You have earned 10 points.\n",
            "You have earned 15 points.\n"
          ]
        }
      ]
    },
    {
      "cell_type": "markdown",
      "source": [
        "Exercise 5: Favorite Fruit ☑️\n",
        "Make a list of your favorite fruits, and then write a series of independent if statements that check for certain fruits in your list.\n",
        "\n",
        "•Make a list of your three favorite fruits and call it favorite_fruits.\n",
        "\n",
        "•Write five if statements. Each should check whether a certain kind of fruit is in your list. If the fruit is in your list, the if block\n",
        "\n",
        "should print a statement,such as You really like bananas!"
      ],
      "metadata": {
        "id": "mBV0Cz8-mNAk"
      }
    },
    {
      "cell_type": "code",
      "source": [
        "# a program to write a series of independent if statements\n",
        "\n",
        "fav_fruits = ['kiwi', 'pineapple', 'watermelon']\n",
        "\n",
        "if 'kiwi' in fav_fruits:\n",
        "  print('Damn, you really like kiwis')\n",
        "\n",
        "if 'pineapple' in fav_fruits:\n",
        "  print('Damn, you really love pineapples')\n",
        "\n",
        "if 'watermelon' in fav_fruits:\n",
        "  print('Damn, you really really like watermelons.')\n",
        "\n",
        "if 'apple' in fav_fruits:\n",
        "  print('Damn, you really like apples')\n",
        "\n",
        "if 'banana' in fav_fruits:\n",
        "  print('Damn, you really like bananas')        "
      ],
      "metadata": {
        "colab": {
          "base_uri": "https://localhost:8080/"
        },
        "id": "EH6Xx52VbtCC",
        "outputId": "22895364-6f66-462a-eae0-511ea43f5edb"
      },
      "execution_count": null,
      "outputs": [
        {
          "output_type": "stream",
          "name": "stdout",
          "text": [
            "Damn, you really like kiwis\n",
            "Damn, you really love pineapples\n",
            "Damn, you really really like watermelons.\n"
          ]
        }
      ]
    },
    {
      "cell_type": "markdown",
      "source": [
        "Exercise 4: Stages of Life ☑️\n",
        "Write an if-elif-else chain that determines a person’s stage of life. Set a value for the variable age, and then:\n",
        "\n",
        "•If the person is less than 2 years old, print a message that the person is a baby.\n",
        "\n",
        "•If the person is at least 2 years old but less than 4, print a message that the person is a toddler.\n",
        "\n",
        "•If the person is at least 4 years old but less than 13, print a message that the person is a kid.\n",
        "\n",
        "•If the person is at least 13 years old but less than 20, print a message that the person is a teenager.\n",
        "\n",
        "•If the person is at least 20 years old but less than 65, print a message that the person is an adult.\n",
        "\n",
        "•If the person is age 65 or older, print a message that the person is an elder."
      ],
      "metadata": {
        "id": "xoAoczl8l2wO"
      }
    },
    {
      "cell_type": "code",
      "source": [
        "# a program that asks for age and tells the stage of life\n",
        "\n",
        "print('Enter your age = ')\n",
        "age = int(input())\n",
        "\n",
        "if age < 2:\n",
        "  print('You are an infant.')\n",
        "\n",
        "elif age == 2 or age < 4:\n",
        "  print('You are a toddler.')\n",
        "\n",
        "elif age == 4 or age < 13:\n",
        "  print('You are a kid.')\n",
        "\n",
        "elif age == 13 or age < 20:\n",
        "  print('You are a teenager.')\n",
        "\n",
        "elif age == 20 or age < 65:\n",
        "  print('You are an adult.')\n",
        "\n",
        "else:\n",
        "  print('You are an elder.')          "
      ],
      "metadata": {
        "colab": {
          "base_uri": "https://localhost:8080/"
        },
        "id": "WBtDQsONdZkd",
        "outputId": "f1a25676-ce4b-454a-e3be-4b5ee2c0fc29"
      },
      "execution_count": null,
      "outputs": [
        {
          "output_type": "stream",
          "name": "stdout",
          "text": [
            "Enter your age = \n",
            "24\n",
            "You are an adult.\n"
          ]
        }
      ]
    }
  ]
}