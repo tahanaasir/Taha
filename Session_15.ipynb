{
  "nbformat": 4,
  "nbformat_minor": 0,
  "metadata": {
    "colab": {
      "provenance": [],
      "authorship_tag": "ABX9TyOxosmxtHmTHgRzbU0VR18B",
      "include_colab_link": true
    },
    "kernelspec": {
      "name": "python3",
      "display_name": "Python 3"
    },
    "language_info": {
      "name": "python"
    }
  },
  "cells": [
    {
      "cell_type": "markdown",
      "metadata": {
        "id": "view-in-github",
        "colab_type": "text"
      },
      "source": [
        "<a href=\"https://colab.research.google.com/github/tahanaasir/Taha/blob/main/Session_15.ipynb\" target=\"_parent\"><img src=\"https://colab.research.google.com/assets/colab-badge.svg\" alt=\"Open In Colab\"/></a>"
      ]
    },
    {
      "cell_type": "markdown",
      "source": [
        "Write a program to create a function which returns square root of a number. Call the function to print square root of consecutive 10 numbers."
      ],
      "metadata": {
        "id": "avfJ3kglgRCK"
      }
    },
    {
      "cell_type": "code",
      "source": [
        "#define function\n",
        "def square_root(num):\n",
        "  return num*num\n",
        "\n",
        "for i in range(1,11):\n",
        "#calling function\n",
        "  result = square_root(i)\n",
        "  print('Square of', i, '=', result)  "
      ],
      "metadata": {
        "colab": {
          "base_uri": "https://localhost:8080/"
        },
        "id": "P2sl9GCDgVab",
        "outputId": "8ce3f115-8f71-4bbe-85b8-233b00fcea5a"
      },
      "execution_count": null,
      "outputs": [
        {
          "output_type": "stream",
          "name": "stdout",
          "text": [
            "Square of 1 = 1\n",
            "Square of 2 = 4\n",
            "Square of 3 = 9\n",
            "Square of 4 = 16\n",
            "Square of 5 = 25\n",
            "Square of 6 = 36\n",
            "Square of 7 = 49\n",
            "Square of 8 = 64\n",
            "Square of 9 = 81\n",
            "Square of 10 = 100\n"
          ]
        }
      ]
    },
    {
      "cell_type": "markdown",
      "source": [
        "What are the uses of following functions :\n",
        "lstrip\n",
        "rstrip\n",
        "strip\n",
        "Write codes to use the above functions."
      ],
      "metadata": {
        "id": "9oC1-BpZJWPu"
      }
    },
    {
      "cell_type": "code",
      "source": [
        "# use of lstrip() method returns a copy of the string with leading characters removed (based on the string argument passed).\n",
        "\n",
        "word_1= '             Taha Nasir'\n",
        "new_word_1= word_1.lstrip()\n",
        "print(word_1)\n",
        "print(new_word_1)\n",
        "\n",
        "# use of rstrip() method removes any trailing characters (characters at the end a string), space is the default trailing character to remove.\n",
        "\n",
        "word_2= 'Taha                  Nasir'\n",
        "new_word_2= word_2.rstrip()\n",
        "print(word_2)\n",
        "print(new_word_2)\n",
        "\n",
        "# use of strip() method removes any leading (spaces at the beginning) and trailing (spaces at the end) characters (space is the default leading character to remove).\n",
        "\n",
        "word_3= '              Happy New Year'\n",
        "new_word_3= word_3.strip()\n",
        "print(word_3)\n",
        "print(new_word_3)"
      ],
      "metadata": {
        "colab": {
          "base_uri": "https://localhost:8080/"
        },
        "id": "jgFL-gbUn0ET",
        "outputId": "5111a83a-9238-4617-9d7d-ff4c611e859e"
      },
      "execution_count": null,
      "outputs": [
        {
          "output_type": "stream",
          "name": "stdout",
          "text": [
            "             Taha Nasir\n",
            "Taha Nasir\n",
            "Taha                  Nasir\n",
            "Taha                  Nasir\n",
            "              Happy New Year\n",
            "Happy New Year\n"
          ]
        }
      ]
    },
    {
      "cell_type": "markdown",
      "source": [
        "If-else\n",
        "Write a Python program to check whether an alphabet is a vowel or consonant"
      ],
      "metadata": {
        "id": "r-sqoK0bpjXO"
      }
    },
    {
      "cell_type": "code",
      "source": [
        "alphabet = input('Enter the alphabet: ')\n",
        "\n",
        "if alphabet in ('a', 'e', 'i', 'o', 'u'):\n",
        "  print(alphabet,' is a vowel.')\n",
        "\n",
        "else:\n",
        "  print(alphabet,' is a constant.')  "
      ],
      "metadata": {
        "colab": {
          "base_uri": "https://localhost:8080/"
        },
        "id": "Zqv94DCrJ30v",
        "outputId": "83371b26-42f6-43d0-9217-60c48ad70b29"
      },
      "execution_count": null,
      "outputs": [
        {
          "output_type": "stream",
          "name": "stdout",
          "text": [
            "Enter the alphabet: e\n",
            "e  is a vowel.\n"
          ]
        }
      ]
    },
    {
      "cell_type": "markdown",
      "source": [
        "If-elif-else\n",
        "Take two numbers from the user, compare and print the smaller number. Also consider a condition where both the numbers can be same."
      ],
      "metadata": {
        "id": "3IvpygyVqlaH"
      }
    },
    {
      "cell_type": "code",
      "source": [
        "number1=int(input(\"First number.\"))\n",
        "number2=int(input('Second number.'))\n",
        "if number1 > number2:\n",
        "   print('The first number is greater than second number')\n",
        "\n",
        "elif number1 < number2:\n",
        "  print('The first number is less than second number.')\n",
        "\n",
        "else:\n",
        "  print('The numbers are equal.')     "
      ],
      "metadata": {
        "colab": {
          "base_uri": "https://localhost:8080/"
        },
        "id": "ddMN85-6uiGq",
        "outputId": "2a43e9f8-835d-4b61-d0f0-dc823c7ff612"
      },
      "execution_count": null,
      "outputs": [
        {
          "output_type": "stream",
          "name": "stdout",
          "text": [
            "First number.4\n",
            "Second number.7\n",
            "The first number is less than second number.\n"
          ]
        }
      ]
    },
    {
      "cell_type": "markdown",
      "source": [
        "List type data+ for loop\n",
        "Write a program to print the all the elements in a list data type using for loop."
      ],
      "metadata": {
        "id": "FxdlAmsHv55A"
      }
    },
    {
      "cell_type": "code",
      "source": [
        "list_of_cars = ['Rolls Royce', 'Mercedes', 'Bently', 'Nissan', 'Toyota', 'GMC']\n",
        "\n",
        "# access items of a list while using for loop\n",
        "for car in list_of_cars:\n",
        "    print(car)"
      ],
      "metadata": {
        "colab": {
          "base_uri": "https://localhost:8080/"
        },
        "id": "k1a22P8Wydnn",
        "outputId": "6764c906-aa5e-4626-d79e-b17a5b30e244"
      },
      "execution_count": null,
      "outputs": [
        {
          "output_type": "stream",
          "name": "stdout",
          "text": [
            "Rolls Royce\n",
            "Mercedes\n",
            "Bently\n",
            "Nissan\n",
            "Toyota\n",
            "GMC\n"
          ]
        }
      ]
    },
    {
      "cell_type": "markdown",
      "source": [
        "Dictionary type\n",
        "Create a dictionary data-type of a student with name, id and course. Write a program to print all the key-value pair in the dictionary. Add another key-value pair called gender to update the dictionary and print the updated dictionary."
      ],
      "metadata": {
        "id": "TQCu3slmLKI6"
      }
    },
    {
      "cell_type": "code",
      "source": [
        "student = {'Name': 'Taha Nasir', 'ID': '2022-519' , 'Course': 'BSC CC'}\n",
        "print('Display key-value pairs')\n",
        "for key,value in student.items():\n",
        "  print(f'\\nKey: {key}')\n",
        "  print(f'\\nValue: {value}')\n",
        "\n",
        "student['gender'] = 'Male'\n",
        "print(student)"
      ],
      "metadata": {
        "colab": {
          "base_uri": "https://localhost:8080/"
        },
        "id": "4SYBT873LRnZ",
        "outputId": "e28b1c82-129f-4203-e2c6-a6fad26118ce"
      },
      "execution_count": null,
      "outputs": [
        {
          "output_type": "stream",
          "name": "stdout",
          "text": [
            "Display key-value pairs\n",
            "\n",
            "Key: Name\n",
            "\n",
            "Value: Taha Nasir\n",
            "\n",
            "Key: ID\n",
            "\n",
            "Value: 2022-519\n",
            "\n",
            "Key: Course\n",
            "\n",
            "Value: BSC CC\n",
            "{'Name': 'Taha Nasir', 'ID': '2022-519', 'Course': 'BSC CC', 'gender': 'Male'}\n"
          ]
        }
      ]
    },
    {
      "cell_type": "markdown",
      "source": [
        "Refer Session 10\n",
        "Tuple data type\n",
        "Declare 2 Tuples comprising of 4 leap years and 4 non leap years\n",
        "i.\tPrint tuples\n",
        "ii.\tConcatenate 2 tuples\n",
        "iii.\tMultiple each tuple 3 times\n",
        "iv.\tCompare 2 tuples\n",
        "v.\tFind the length of tuples\n",
        "vi.\tFind the sum of elements in each of the tuples\n",
        "vii.\tSort the elements in each of the tuples\n",
        "viii.\tSwap the tuples"
      ],
      "metadata": {
        "id": "4-UOPkVIO7dG"
      }
    },
    {
      "cell_type": "code",
      "source": [
        "#integer tuples comprising of leap years and non leap years seprately\n",
        "leap_years = (2000,2004,2008,2012)\n",
        "non_leap_years = (2023,2025,2026,2027)\n",
        "print('List of 4 leap years:', leap_years[0:5])\n",
        "print('List of 4 non leap years:', non_leap_years[0:5])\n",
        "\n",
        "#concatenate 2 tuples\n",
        "print('The list of few leap years and non leap years are:\\n ', leap_years+non_leap_years)\n",
        "\n",
        "#multiplying each tuples 3 times by using * operator\n",
        "print(leap_years*3)\n",
        "\n",
        "#comparing 2 tuples\n",
        "print(leap_years==non_leap_years)\n",
        "\n",
        "#finding the lenght of tuples\n",
        "print(len(leap_years))\n",
        "print(len(non_leap_years))\n",
        "\n",
        "#finding the sum of elements in each of the tuples\n",
        "print(sum(leap_years))\n",
        "print(sum(non_leap_years))\n",
        "\n",
        "#sorting the elements in each of tuples\n",
        "print(sorted(leap_years))\n",
        "print(sorted(non_leap_years))\n",
        "\n",
        "#swapping two tuples\n",
        "leap_years,non_leap_years=non_leap_years,leap_years\n",
        "print('4 non leap years:', leap_years)\n",
        "print('4 leap years:', non_leap_years)"
      ],
      "metadata": {
        "colab": {
          "base_uri": "https://localhost:8080/"
        },
        "id": "vso4FN8-PEnn",
        "outputId": "59d2db34-c8b2-471c-99c8-9968a2cc4505"
      },
      "execution_count": null,
      "outputs": [
        {
          "output_type": "stream",
          "name": "stdout",
          "text": [
            "List of 4 leap years: (2000, 2004, 2008, 2012)\n",
            "List of 4 non leap years: (2023, 2025, 2026, 2027)\n",
            "The list of few leap years and non leap years are:\n",
            "  (2000, 2004, 2008, 2012, 2023, 2025, 2026, 2027)\n",
            "(2000, 2004, 2008, 2012, 2000, 2004, 2008, 2012, 2000, 2004, 2008, 2012)\n",
            "False\n",
            "4\n",
            "4\n",
            "8024\n",
            "8101\n",
            "[2000, 2004, 2008, 2012]\n",
            "[2023, 2025, 2026, 2027]\n",
            "4 non leap years: (2023, 2025, 2026, 2027)\n",
            "4 leap years: (2000, 2004, 2008, 2012)\n"
          ]
        }
      ]
    },
    {
      "cell_type": "markdown",
      "source": [
        "Nested for loop\n",
        "Write a program to print the following number pattern."
      ],
      "metadata": {
        "id": "092YuSW8mKg3"
      }
    },
    {
      "cell_type": "code",
      "source": [
        "#printing odd numbers pyramid by using while loop\n",
        "\n",
        "n=int(input('Enter the number of rows: '))\n",
        "i=1\n",
        "while i<=n:\n",
        "  j=1\n",
        "  while j<=i:\n",
        "    print((i*2-1),end=' ')\n",
        "    j=j+1\n",
        "  i=i+1\n",
        "  print() "
      ],
      "metadata": {
        "colab": {
          "base_uri": "https://localhost:8080/"
        },
        "id": "-6Q-jRq9mOvP",
        "outputId": "7364f4f4-a2e5-4fd2-a99a-cd55c4a9df20"
      },
      "execution_count": null,
      "outputs": [
        {
          "output_type": "stream",
          "name": "stdout",
          "text": [
            "Enter the number of rows: 9\n",
            "1 \n",
            "3 3 \n",
            "5 5 5 \n",
            "7 7 7 7 \n",
            "9 9 9 9 9 \n",
            "11 11 11 11 11 11 \n",
            "13 13 13 13 13 13 13 \n",
            "15 15 15 15 15 15 15 15 \n",
            "17 17 17 17 17 17 17 17 17 \n"
          ]
        }
      ]
    },
    {
      "cell_type": "markdown",
      "source": [
        "String + for loop\n",
        "Write a  program to Count the Number of Occurrence of a Character in String."
      ],
      "metadata": {
        "id": "EE3sbgixnNDb"
      }
    },
    {
      "cell_type": "code",
      "source": [
        "#counting the number of occurence of a character in string\n",
        "\n",
        "count = 0\n",
        "my_string = 'Possessionlessnesses'\n",
        "my_char = 's'\n",
        "for i in my_string:\n",
        "  if i == my_char:\n",
        "    count+=1\n",
        "print(count)"
      ],
      "metadata": {
        "colab": {
          "base_uri": "https://localhost:8080/"
        },
        "id": "Wr3G18ArnSqM",
        "outputId": "6f53bfb4-6539-42c6-fd6c-61304c785e44"
      },
      "execution_count": null,
      "outputs": [
        {
          "output_type": "stream",
          "name": "stdout",
          "text": [
            "9\n"
          ]
        }
      ]
    },
    {
      "cell_type": "markdown",
      "source": [
        "Array\n",
        "Write a program to create and print Zero, one, Two and multi dimensional array importing NumPy module as array function."
      ],
      "metadata": {
        "id": "W_ltu_M8t6bN"
      }
    },
    {
      "cell_type": "code",
      "source": [
        "import numpy as np\n",
        "#zero dimensional array\n",
        "arr=np.array(30)\n",
        "print('Zero dimensional array: ',arr)\n",
        "#one dimensional array\n",
        "arr1=np.array([1,2,3,4,5])\n",
        "print('One dimensional array: ',arr1)\n",
        "#two dimensional array\n",
        "arr2=np.array([[2,4,16],[3,9,81]])\n",
        "print('Two dimensional array:\\n',arr2)\n",
        "#multi dimensional array\n",
        "arr3=np.array([[[5,5,5,5],[6,6,6,6],[7,7,7,7],[8,8,8,8]]])\n",
        "print('Multi dimensional array:\\n',arr3)"
      ],
      "metadata": {
        "colab": {
          "base_uri": "https://localhost:8080/"
        },
        "id": "ms5kmzH9uDnk",
        "outputId": "f20b1de0-3c7c-4823-a828-05c2ac72c4e3"
      },
      "execution_count": null,
      "outputs": [
        {
          "output_type": "stream",
          "name": "stdout",
          "text": [
            "Zero dimensional array:  30\n",
            "One dimensional array:  [1 2 3 4 5]\n",
            "Two dimensional array:\n",
            " [[ 2  4 16]\n",
            " [ 3  9 81]]\n",
            "Multi dimensional array:\n",
            " [[[5 5 5 5]\n",
            "  [6 6 6 6]\n",
            "  [7 7 7 7]\n",
            "  [8 8 8 8]]]\n"
          ]
        }
      ]
    },
    {
      "cell_type": "markdown",
      "source": [
        "Write a program to draw a draw square in Python Turtle with different color sides."
      ],
      "metadata": {
        "id": "678h-M87vRIc"
      }
    },
    {
      "cell_type": "code",
      "source": [
        "import ColabTurtle.Turtle as t\n",
        "initializeTurtle()\n",
        "#drawing 1st side\n",
        "t.color('orange')\n",
        "t.forward(100)        #Forwarded turtle by 100 units\n",
        "t.left(90)            #Turned turtle by 90 degree\n",
        "\n",
        "#drawing 2nd side\n",
        "t.color('purple')\n",
        "t.forward(100)        #Forwarded turtle by 100 units  \n",
        "t.left(90)            #Turned turtle by 90 degree\n",
        "\n",
        "#drawing 3rd side\n",
        "t.color('pink')\n",
        "t.forward(100)        #Forwarded turtle by 100 units\n",
        "t.left(90)            #Turned turtle by 90 degree\n",
        "\n",
        "#drawing 4th side\n",
        "t.color('Green')\n",
        "t.forward(100)        #Forwarded turtle by 100 units\n",
        "t.left(90)            #Turned turtle by 90 degrees"
      ],
      "metadata": {
        "colab": {
          "base_uri": "https://localhost:8080/",
          "height": 521
        },
        "id": "tyCmUlnU2XKW",
        "outputId": "de307505-280e-4f70-c817-42a27f2d5cce"
      },
      "execution_count": null,
      "outputs": [
        {
          "output_type": "display_data",
          "data": {
            "text/plain": [
              "<IPython.core.display.HTML object>"
            ],
            "text/html": [
              "\n",
              "      <svg width=\"800\" height=\"500\">\n",
              "        <rect width=\"100%\" height=\"100%\" fill=\"black\"/>\n",
              "        <line x1=\"400\" y1=\"250\" x2=\"400.0\" y2=\"150.0\" stroke-linecap=\"round\" style=\"stroke:orange;stroke-width:4\"/><line x1=\"400.0\" y1=\"150.0\" x2=\"300.0\" y2=\"150.0\" stroke-linecap=\"round\" style=\"stroke:purple;stroke-width:4\"/><line x1=\"300.0\" y1=\"150.0\" x2=\"300.0\" y2=\"250.0\" stroke-linecap=\"round\" style=\"stroke:pink;stroke-width:4\"/><line x1=\"300.0\" y1=\"250.0\" x2=\"400.0\" y2=\"250.0\" stroke-linecap=\"round\" style=\"stroke:green;stroke-width:4\"/>\n",
              "        <g visibility=visible transform=\"rotate(360,400.0,250.0) translate(382.0, 232.0)\">\n",
              "<path style=\" stroke:none;fill-rule:evenodd;fill:green;fill-opacity:1;\" d=\"M 18.214844 0.632812 C 16.109375 1.800781 15.011719 4.074219 15.074219 7.132812 L 15.085938 7.652344 L 14.785156 7.496094 C 13.476562 6.824219 11.957031 6.671875 10.40625 7.066406 C 8.46875 7.550781 6.515625 9.15625 4.394531 11.992188 C 3.0625 13.777344 2.679688 14.636719 3.042969 15.027344 L 3.15625 15.152344 L 3.519531 15.152344 C 4.238281 15.152344 4.828125 14.886719 8.1875 13.039062 C 9.386719 12.378906 10.371094 11.839844 10.378906 11.839844 C 10.386719 11.839844 10.355469 11.929688 10.304688 12.035156 C 9.832031 13.09375 9.257812 14.820312 8.96875 16.078125 C 7.914062 20.652344 8.617188 24.53125 11.070312 27.660156 C 11.351562 28.015625 11.363281 27.914062 10.972656 28.382812 C 8.925781 30.84375 7.945312 33.28125 8.238281 35.1875 C 8.289062 35.527344 8.28125 35.523438 8.917969 35.523438 C 10.941406 35.523438 13.074219 34.207031 15.136719 31.6875 C 15.359375 31.417969 15.328125 31.425781 15.5625 31.574219 C 16.292969 32.042969 18.023438 32.964844 18.175781 32.964844 C 18.335938 32.964844 19.941406 32.210938 20.828125 31.71875 C 20.996094 31.625 21.136719 31.554688 21.136719 31.558594 C 21.203125 31.664062 21.898438 32.414062 22.222656 32.730469 C 23.835938 34.300781 25.5625 35.132812 27.582031 35.300781 C 27.90625 35.328125 27.9375 35.308594 28.007812 34.984375 C 28.382812 33.242188 27.625 30.925781 25.863281 28.425781 L 25.542969 27.96875 L 25.699219 27.785156 C 28.945312 23.960938 29.132812 18.699219 26.257812 11.96875 L 26.207031 11.84375 L 27.945312 12.703125 C 31.53125 14.476562 32.316406 14.800781 33.03125 14.800781 C 33.976562 14.800781 33.78125 13.9375 32.472656 12.292969 C 28.519531 7.355469 25.394531 5.925781 21.921875 7.472656 L 21.558594 7.636719 L 21.578125 7.542969 C 21.699219 6.992188 21.761719 5.742188 21.699219 5.164062 C 21.496094 3.296875 20.664062 1.964844 19.003906 0.855469 C 18.480469 0.503906 18.457031 0.5 18.214844 0.632812\"/>\n",
              "</g>\n",
              "      </svg>\n",
              "    "
            ]
          },
          "metadata": {}
        }
      ]
    },
    {
      "cell_type": "markdown",
      "source": [
        "Array + nested for loop\n",
        "Write a program to Sort Array in Descending Order."
      ],
      "metadata": {
        "id": "ythFupsl3bKA"
      }
    },
    {
      "cell_type": "code",
      "source": [
        "import numpy as np \n",
        "arr=np.array([45, 52, 16, 22, 37, 88, 64, 78])\n",
        "temp=0;\n",
        "print(\"Elements of original array: \");    \n",
        "for i in range(0, len(arr)):     \n",
        "    print(arr[i]), \n",
        "for i in range(0, len(arr)):    \n",
        "    for j in range(i+1, len(arr)):    \n",
        "        if(arr[i] < arr[j]):    \n",
        "            temp = arr[i];    \n",
        "            arr[i] = arr[j];    \n",
        "            arr[j] = temp;    \n",
        "     \n",
        "print();  \n",
        "print(\"Elements of array sorted in descending order: \");    \n",
        "for i in range(0, len(arr)):     \n",
        "    print(arr[i]),"
      ],
      "metadata": {
        "colab": {
          "base_uri": "https://localhost:8080/"
        },
        "id": "PSFQGGVD3i3A",
        "outputId": "92c53a71-dad3-4c14-81da-97278b011176"
      },
      "execution_count": null,
      "outputs": [
        {
          "output_type": "stream",
          "name": "stdout",
          "text": [
            "Elements of original array: \n",
            "45\n",
            "52\n",
            "16\n",
            "22\n",
            "37\n",
            "88\n",
            "64\n",
            "78\n",
            "\n",
            "Elements of array sorted in descending order: \n",
            "88\n",
            "78\n",
            "64\n",
            "52\n",
            "45\n",
            "37\n",
            "22\n",
            "16\n"
          ]
        }
      ]
    }
  ]
}