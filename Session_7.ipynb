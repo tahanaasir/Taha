{
  "nbformat": 4,
  "nbformat_minor": 0,
  "metadata": {
    "colab": {
      "provenance": [],
      "authorship_tag": "ABX9TyOwyYYaniPk/+qgbF+7iEJk",
      "include_colab_link": true
    },
    "kernelspec": {
      "name": "python3",
      "display_name": "Python 3"
    },
    "language_info": {
      "name": "python"
    }
  },
  "cells": [
    {
      "cell_type": "markdown",
      "metadata": {
        "id": "view-in-github",
        "colab_type": "text"
      },
      "source": [
        "<a href=\"https://colab.research.google.com/github/tahanaasir/Taha/blob/main/Session_7.ipynb\" target=\"_parent\"><img src=\"https://colab.research.google.com/assets/colab-badge.svg\" alt=\"Open In Colab\"/></a>"
      ]
    },
    {
      "cell_type": "markdown",
      "source": [
        "Program 1: \n",
        "Write a program to print a number only if it is positive."
      ],
      "metadata": {
        "id": "2n0pMivled64"
      }
    },
    {
      "cell_type": "code",
      "execution_count": null,
      "metadata": {
        "colab": {
          "base_uri": "https://localhost:8080/"
        },
        "id": "GLoauW81ebVC",
        "outputId": "0424739b-b6be-4c1f-f59e-6a0afa5a700e"
      },
      "outputs": [
        {
          "output_type": "stream",
          "name": "stdout",
          "text": [
            "7  is positive.\n"
          ]
        }
      ],
      "source": [
        "#writing a program to print a number only if it is positive\n",
        "\n",
        "x = 7\n",
        "if x>0:\n",
        "  print(x, ' is positive.')"
      ]
    },
    {
      "cell_type": "markdown",
      "source": [
        "Program 2: \n",
        "Take two numbers from the user and print the first number only if it is smaller than the second number."
      ],
      "metadata": {
        "id": "OiJ113XVk0Ju"
      }
    },
    {
      "cell_type": "code",
      "source": [
        "#asking two numbers from the user and print the first number only if it is smaller than the second number\n",
        "\n",
        "print('Enter first number: ')\n",
        "x=int(input())\n",
        "print('Enter second number: ')\n",
        "y=int(input())\n",
        "\n",
        "if x<y:\n",
        "  print(x,' is smaller number than second number.')"
      ],
      "metadata": {
        "colab": {
          "base_uri": "https://localhost:8080/"
        },
        "id": "zdAhOE9Pk_6w",
        "outputId": "a5fcbdab-3e57-4bbb-e650-2ebfa109e301"
      },
      "execution_count": null,
      "outputs": [
        {
          "output_type": "stream",
          "name": "stdout",
          "text": [
            "Enter first number: \n",
            "23\n",
            "Enter second number: \n",
            "45\n",
            "23  is smaller number than second number.\n"
          ]
        }
      ]
    },
    {
      "cell_type": "markdown",
      "source": [
        "Program 3: \n",
        "Take two numbers from the user, compare and print the smaller number."
      ],
      "metadata": {
        "id": "8CdIVMqOl7gK"
      }
    },
    {
      "cell_type": "code",
      "source": [
        "#asking two numbers from the user, compare and print the smaller number\n",
        "\n",
        "print('Enter first number: ')\n",
        "x=int(input())\n",
        "print('Enter second number: ')\n",
        "y=int(input())\n",
        "\n",
        "if x<y:\n",
        "  print(x,' is smaller number than ', y)\n",
        "\n",
        "else:\n",
        "  print(y,' is smaller number than ', x)  "
      ],
      "metadata": {
        "colab": {
          "base_uri": "https://localhost:8080/"
        },
        "id": "Trqt-urdmA9b",
        "outputId": "a888aeda-4953-4a73-d7bc-87a17eb816d0"
      },
      "execution_count": null,
      "outputs": [
        {
          "output_type": "stream",
          "name": "stdout",
          "text": [
            "Enter first number: \n",
            "23\n",
            "Enter second number: \n",
            "111111\n",
            "23  is smaller number than  111111\n"
          ]
        }
      ]
    },
    {
      "cell_type": "markdown",
      "source": [
        "Program 4: \n",
        "Take two numbers from the user, compare and print the smaller number. Also consider a condition where both the numbers can be same."
      ],
      "metadata": {
        "id": "dqkk4Jg5qxd5"
      }
    },
    {
      "cell_type": "code",
      "source": [
        "#asking two numbers from the user, comparing and printing smaller number.\n",
        "\n",
        "print('Enter first number: ')\n",
        "x=int(input())\n",
        "print('Enter second number: ')\n",
        "y=int(input())\n",
        "\n",
        "if x<y:\n",
        "  print(x,' is smaller than', y)\n",
        "\n",
        "elif x==y:\n",
        "  print(x,' is the first number and', y,' is the second number and both are equal.')\n",
        "\n",
        "else:\n",
        "  print(y,' is the second number and it is smaller than first number',x)    "
      ],
      "metadata": {
        "colab": {
          "base_uri": "https://localhost:8080/"
        },
        "id": "1O4Fexdoq4nB",
        "outputId": "d8c6752e-b0ea-47d2-c636-1361bfc91c30"
      },
      "execution_count": null,
      "outputs": [
        {
          "output_type": "stream",
          "name": "stdout",
          "text": [
            "Enter first number: \n",
            "6\n",
            "Enter second number: \n",
            "6\n",
            "6  is the first number and 6  is the second number and both are equal.\n"
          ]
        }
      ]
    },
    {
      "cell_type": "markdown",
      "source": [
        "Program 5:  \n",
        "Write a program for a shipment company is having the following offer-\n",
        "For US: $50 for first 50 shipments and $25 for more than 5 shipments\n",
        "For Australia: $150 for first 100 shipments and $15 for more than 100 shipments."
      ],
      "metadata": {
        "id": "OBYScgNBtbTD"
      }
    },
    {
      "cell_type": "code",
      "source": [
        "print('Select country: US\\Australia')\n",
        "country=str(input())\n",
        "print('Enter number of shipments')\n",
        "shipment=int(input())\n",
        "\n",
        "if country=='US':\n",
        "  if shipment<=50:\n",
        "    print('Shipping cost is $50.')\n",
        "  elif shipment>50:\n",
        "    print('Shipment cost is $25.')\n",
        "  else:\n",
        "    print('Please contact customer service.')\n",
        "else:\n",
        "  if country == 'Australia':\n",
        "    if shipment<=150:\n",
        "      print('Shipping cost is $100.')\n",
        "    elif shipment>150:\n",
        "      print('Shipment cost is $15.')\n",
        "    else:\n",
        "      print('Please contact our customer service.')            "
      ],
      "metadata": {
        "colab": {
          "base_uri": "https://localhost:8080/"
        },
        "id": "Ihv8MT3ttgwH",
        "outputId": "698c5965-3f0c-451e-ca52-614b5c911da4"
      },
      "execution_count": null,
      "outputs": [
        {
          "output_type": "stream",
          "name": "stdout",
          "text": [
            "Select country: US\\Australia\n",
            "US\n",
            "Enter number of shipments\n",
            "1000\n",
            "Shipment cost is $25.\n"
          ]
        }
      ]
    },
    {
      "cell_type": "markdown",
      "source": [
        "Program 6:\n",
        "•\tCreate a list of flowers comprising of 3 flowers\n",
        "•\tPrint the list\n",
        "•\tAccess list elements using index function ( index value will be placed within the square bracket after the variable name)\n",
        "•\tReplace the first element of the list with some other flower\t\n",
        "•\tadd an element at the end of the list use append() function\n",
        "•\tinsert elements in the list use the insert() function.\n",
        "•\tRemove element in a List using value\n",
        "•\tRemove last element in a List using pop() function\n",
        "•\tSort list alphabetically"
      ],
      "metadata": {
        "id": "AVGItenohWOJ"
      }
    },
    {
      "cell_type": "code",
      "source": [
        "flowers=[\"rose\",\"jasmine\",\"sunflower\",\"lily\"]\n",
        "print(\"rose\",\"jasmine\",\"sunflower\")\n",
        "print(flowers[0])\n",
        "print(flowers[1])\n",
        "print(flowers[2])\n",
        "flowers[3]=\"lily\"\n",
        "flowers.append(\"lily\")\n",
        "flowers.insert(3,\"lilly\")\n",
        "flowers.insert(0,\"rose\")\n",
        "flowers.insert(1,\"jasmine\")\n",
        "flowers.insert(2,\"sunflower\")\n",
        "print(flowers)\n",
        "flowers.remove(\"lily\")\n",
        "popped=flowers.pop()\n",
        "print(popped)\n",
        "print(flowers)\n",
        "print(flowers)\n",
        "flowers.sort()\n",
        "print(flowers)\n",
        "flowers.reverse()\n",
        "print(flowers)\n",
        "del flowers [0:3]"
      ],
      "metadata": {
        "colab": {
          "base_uri": "https://localhost:8080/"
        },
        "id": "QGG5Mhz0hh4O",
        "outputId": "69a03db0-7680-4ba2-e5a6-55c137589702"
      },
      "execution_count": null,
      "outputs": [
        {
          "output_type": "stream",
          "name": "stdout",
          "text": [
            "rose jasmine sunflower\n",
            "rose\n",
            "jasmine\n",
            "sunflower\n",
            "['rose', 'jasmine', 'sunflower', 'rose', 'jasmine', 'sunflower', 'lilly', 'lily', 'lily']\n",
            "lily\n",
            "['rose', 'jasmine', 'sunflower', 'rose', 'jasmine', 'sunflower', 'lilly']\n",
            "['rose', 'jasmine', 'sunflower', 'rose', 'jasmine', 'sunflower', 'lilly']\n",
            "['jasmine', 'jasmine', 'lilly', 'rose', 'rose', 'sunflower', 'sunflower']\n",
            "['sunflower', 'sunflower', 'rose', 'rose', 'lilly', 'jasmine', 'jasmine']\n"
          ]
        }
      ]
    },
    {
      "cell_type": "markdown",
      "source": [
        "Program 7: \n",
        "Write a program to create a dictionary comprising of students name, id, Course. Print the dictionary and each element of the dictionary separately."
      ],
      "metadata": {
        "id": "hHoo7PHQiep0"
      }
    },
    {
      "cell_type": "code",
      "source": [
        "student={'Name':'Taha Nasir','id':'10','Course':'Creative Computing'}\n",
        "print(student)\n",
        "print(student['Name'])\n",
        "print(student['id'])\n",
        "print(student['Course'])"
      ],
      "metadata": {
        "colab": {
          "base_uri": "https://localhost:8080/"
        },
        "id": "D1GodqZwigPZ",
        "outputId": "85228075-a879-472f-969f-ec2d3394ec91"
      },
      "execution_count": null,
      "outputs": [
        {
          "output_type": "stream",
          "name": "stdout",
          "text": [
            "{'Name': 'Taha Nasir', 'id': '10', 'Course': 'Creative Computing'}\n",
            "Taha Nasir\n",
            "10\n",
            "Creative Computing\n"
          ]
        }
      ]
    }
  ]
}