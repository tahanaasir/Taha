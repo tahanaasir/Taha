{
  "nbformat": 4,
  "nbformat_minor": 0,
  "metadata": {
    "colab": {
      "provenance": [],
      "authorship_tag": "ABX9TyP5jMwus62PNbhP7HVou9jx",
      "include_colab_link": true
    },
    "kernelspec": {
      "name": "python3",
      "display_name": "Python 3"
    },
    "language_info": {
      "name": "python"
    }
  },
  "cells": [
    {
      "cell_type": "markdown",
      "metadata": {
        "id": "view-in-github",
        "colab_type": "text"
      },
      "source": [
        "<a href=\"https://colab.research.google.com/github/tahanaasir/Taha/blob/main/Chapter_1_Assignment.ipynb\" target=\"_parent\"><img src=\"https://colab.research.google.com/assets/colab-badge.svg\" alt=\"Open In Colab\"/></a>"
      ]
    },
    {
      "cell_type": "code",
      "execution_count": null,
      "metadata": {
        "colab": {
          "base_uri": "https://localhost:8080/"
        },
        "id": "GHAyuMBuPoCB",
        "outputId": "7efe3b0c-c216-408b-ae38-0e5c013294ac"
      },
      "outputs": [
        {
          "output_type": "stream",
          "name": "stdout",
          "text": [
            "My name is Taha Muhammad Nasir. \n",
            " I am 20 years old. \n",
            " I am from Pakistan.\n"
          ]
        }
      ],
      "source": [
        "Exercise 4: Strings Concatination ☑️\n",
        "Write three strings in different variables and print the output as one string.  \n",
        "\n",
        "# a program to store strings in different variables and printing the output as one string\n",
        "\n",
        "string_1= 'My name is Taha Muhammad Nasir.'\n",
        "string_2= 'I am 20 years old.'\n",
        "string_3= 'I am from Pakistan.'\n",
        "\n",
        "print(string_1,'\\n',string_2,'\\n',string_3)"
      ]
    },
    {
      "cell_type": "markdown",
      "source": [
        "Exercise 5: Compute area of Circle ☑️\n",
        "Write a Python program which accepts the radius of a circle from the user and compute the area."
      ],
      "metadata": {
        "id": "J8f71B7znWUi"
      }
    },
    {
      "cell_type": "code",
      "source": [
        "# a program of how to find the radius of the circle\n",
        "\n",
        "print('Enter the radius of circle=')\n",
        "radius= float(input())\n",
        "\n",
        "pi=3.14\n",
        "area = pi = radius * radius\n",
        "\n",
        "print('The area of the circle with radius ' +str(radius)+'units is'+str(area)+ 'sq.units')"
      ],
      "metadata": {
        "colab": {
          "base_uri": "https://localhost:8080/"
        },
        "id": "KENRPxfgRj30",
        "outputId": "6b681276-6adc-465d-e927-4f9d48ebc9aa"
      },
      "execution_count": null,
      "outputs": [
        {
          "output_type": "stream",
          "name": "stdout",
          "text": [
            "Enter the radius of circle=\n",
            "8\n",
            "The area of the circle with radius 8.0units is64.0sq.units\n"
          ]
        }
      ]
    },
    {
      "cell_type": "markdown",
      "source": [
        "Exercise 3: Print date and Time ☑️\n",
        "Write a Python program to display the current date and time."
      ],
      "metadata": {
        "id": "XXdAceDtnn-I"
      }
    },
    {
      "cell_type": "code",
      "source": [
        "# a program of how to display current date and time\n",
        "\n",
        "import time # importing time module \n",
        "from datetime import date # from the datetime and importing date module \n",
        "from datetime import datetime\n",
        "\n",
        "date= date.today()\n",
        "print(\"today's date is\", date)\n",
        "print(\"\\n\")\n",
        "\n",
        "t= time.localtime()\n",
        "current_time=  time.strftime(\"%H:%M:%S\", t)\n",
        "print('The current time is', current_time)\n",
        "\n",
        "print(\"\\n\")\n",
        "# both time and date together \n",
        "\n",
        "date_time = datetime.now()\n",
        "print(\"The date is\", date_time)"
      ],
      "metadata": {
        "colab": {
          "base_uri": "https://localhost:8080/"
        },
        "id": "HccQhj7ESoAj",
        "outputId": "f2b2b61b-30f9-44cb-dba4-aaab31b53ba7"
      },
      "execution_count": null,
      "outputs": [
        {
          "output_type": "stream",
          "name": "stdout",
          "text": [
            "today's date is 2022-10-20\n",
            "\n",
            "\n",
            "The current time is 16:12:56\n",
            "\n",
            "\n",
            "The date is 2022-10-20 16:12:56.724601\n"
          ]
        }
      ]
    },
    {
      "cell_type": "markdown",
      "source": [
        "Exercise 2: Print the Version of Python ☑️\n",
        "Write a Python program to get the Python version you are using."
      ],
      "metadata": {
        "id": "JnIJGrwBnEMA"
      }
    },
    {
      "cell_type": "code",
      "source": [
        "# a program to display the version of python you are using currently\n",
        "\n",
        "import sys # sys module/library called by import function \n",
        "\n",
        "print('Python Version') # prints the simple version info\n",
        "print(sys.version)\n",
        "\n",
        "#print the complete details of python version info \n",
        "print('Python Version Information')\n",
        "print(sys.version_info)"
      ],
      "metadata": {
        "colab": {
          "base_uri": "https://localhost:8080/"
        },
        "id": "F3NG6usMVENS",
        "outputId": "5b24a5b9-cf3a-4643-8624-fb5c51d9bfcd"
      },
      "execution_count": null,
      "outputs": [
        {
          "output_type": "stream",
          "name": "stdout",
          "text": [
            "Python Version\n",
            "3.7.15 (default, Oct 12 2022, 19:14:55) \n",
            "[GCC 7.5.0]\n",
            "Python Version Information\n",
            "sys.version_info(major=3, minor=7, micro=15, releaselevel='final', serial=0)\n"
          ]
        }
      ]
    },
    {
      "cell_type": "markdown",
      "source": [
        "\n",
        "Exercise 4: Strings Concatination ☑️\n",
        "Write three strings in different variables and print the output as one string."
      ],
      "metadata": {
        "id": "oldB1TxJoT3Y"
      }
    },
    {
      "cell_type": "code",
      "source": [
        "# writing my favourite poem\n",
        "# using print() statement for every line, the text between the single/double quotes\n",
        "#will displayed as it is.\n",
        "\n",
        "print('Twinkle twinkle little star')\n",
        "print('How I wonder what you are')\n",
        "print('Up about the world so high')\n",
        "print('Like a diamond in the sky')\n",
        "print('Twinkle twinkle little star')\n",
        "print('How I wonder what you are')"
      ],
      "metadata": {
        "colab": {
          "base_uri": "https://localhost:8080/"
        },
        "id": "KMxf2FQlV4DJ",
        "outputId": "41b17ed9-5e09-4ca9-f49a-e90597e960a8"
      },
      "execution_count": null,
      "outputs": [
        {
          "output_type": "stream",
          "name": "stdout",
          "text": [
            "Twinkle twinkle little star\n",
            "How I wonder what you are\n",
            "Up about the world so high\n",
            "Like a diamond in the sky\n",
            "Twinkle twinkle little star\n",
            "How I wonder what you are\n"
          ]
        }
      ]
    }
  ]
}