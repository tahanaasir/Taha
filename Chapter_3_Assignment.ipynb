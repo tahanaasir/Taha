{
  "nbformat": 4,
  "nbformat_minor": 0,
  "metadata": {
    "colab": {
      "provenance": [],
      "collapsed_sections": [],
      "authorship_tag": "ABX9TyPKtVcJOZ3fTXEcqrUg9nXF",
      "include_colab_link": true
    },
    "kernelspec": {
      "name": "python3",
      "display_name": "Python 3"
    },
    "language_info": {
      "name": "python"
    }
  },
  "cells": [
    {
      "cell_type": "markdown",
      "metadata": {
        "id": "view-in-github",
        "colab_type": "text"
      },
      "source": [
        "<a href=\"https://colab.research.google.com/github/tahanaasir/Taha/blob/main/Chapter_3_Assignment.ipynb\" target=\"_parent\"><img src=\"https://colab.research.google.com/assets/colab-badge.svg\" alt=\"Open In Colab\"/></a>"
      ]
    },
    {
      "cell_type": "code",
      "execution_count": null,
      "metadata": {
        "colab": {
          "base_uri": "https://localhost:8080/"
        },
        "id": "A1GDtia10fwi",
        "outputId": "3a7c4791-bfc3-488d-c406-45f6c5177d6e"
      },
      "outputs": [
        {
          "output_type": "stream",
          "name": "stdout",
          "text": [
            "Ameer\n",
            "Mustafa\n",
            "Hassan\n",
            "Farooq\n",
            "Ziyan\n",
            "Salim\n"
          ]
        }
      ],
      "source": [
        "Exercise 1: Names ☑️\n",
        "Store the names of a few of your friends in a list called names. Print each person’s name by accessing each element in the list, one at a\n",
        "\n",
        "time.\n",
        "\n",
        "# a program of listing your friends names\n",
        "\n",
        "names = ['Ameer', 'Mustafa', 'Hassan', 'Farooq', 'Ziyan', 'Salim']\n",
        "\n",
        "print(names[0])\n",
        "print(names[1])\n",
        "print(names[2])\n",
        "print(names[3])\n",
        "print(names[4])\n",
        "print(names[5])"
      ]
    },
    {
      "cell_type": "markdown",
      "source": [
        "Exercise 2: Greetings ☑️\n",
        "Start with the list you used in Exercise 1, but instead of just\n",
        "\n",
        "printing each person’s name, print a message to them. The text of each message should be the same, but each message should be\n",
        "\n",
        "personalized with the person’s name."
      ],
      "metadata": {
        "id": "2Gf1wLQoqD1n"
      }
    },
    {
      "cell_type": "code",
      "source": [
        "# a program to write personalized messages to friends in the lists\n",
        "\n",
        "names = ['Ameer', 'Mustafa', 'Hassan', 'Farooq', 'Ziyan', 'Salim']\n",
        "\n",
        "print('Hello ' + names[0] +', Please let me know when you leave for home.' )\n",
        "print('Hello ' + names[1] +', Wanna hang out this  weekend?')\n",
        "print('Hello ' + names[2] +', How are you?')\n",
        "print('Hello ' + names[3] +', Lets have dinner at your favorite restranunt')\n",
        "print('Hello ' + names[4] +', Send me notes of Business Maths.')\n",
        "print('Hello ' + names[5] +', Have a safe flight. ENJOY YOUR VACATION!!!')"
      ],
      "metadata": {
        "colab": {
          "base_uri": "https://localhost:8080/"
        },
        "id": "U_7VmJlG1V_O",
        "outputId": "c8245639-533d-4f8e-e13e-6e2397ebbd16"
      },
      "execution_count": null,
      "outputs": [
        {
          "output_type": "stream",
          "name": "stdout",
          "text": [
            "Hello Ameer, Please let me know when you leave for home.\n",
            "Hello Mustafa, Wanna hang out this  weekend?\n",
            "Hello Hassan, How are you?\n",
            "Hello Farooq, Lets have dinner at your favorite restranunt\n",
            "Hello Ziyan, Send me notes of Business Maths.\n",
            "Hello Salim, Have a safe flight. ENJOY YOUR VACATION!!!\n"
          ]
        }
      ]
    },
    {
      "cell_type": "markdown",
      "source": [
        "Exercise 3: Your Own List ☑️\n",
        "Think of your favorite mode of transportation, such as a motorcycle or a car, and make a list that stores several examples. Use your list\n",
        "\n",
        "to print a series of statements about these items, such as “I would like to own a Honda motorcycle.”"
      ],
      "metadata": {
        "id": "aYMivqtzqmbg"
      }
    },
    {
      "cell_type": "code",
      "source": [
        "# a program to work with lists\n",
        "\n",
        "transport_modes = ['Car', 'Metro', 'Bus', 'Bike']\n",
        "\n",
        "print('Travelling by ' + transport_modes[0].title() + ' is really easy.')\n",
        "print('Travelling in ' + transport_modes[1].title() + ' is really hard.')\n",
        "print('Travelling in ' + transport_modes[2].title() + ' is hard to find seat.')\n",
        "print('Travelling by ' + transport_modes[3].title() + ' is really fun and easy.')"
      ],
      "metadata": {
        "colab": {
          "base_uri": "https://localhost:8080/"
        },
        "id": "70idAcO_39LR",
        "outputId": "c6d8dd7b-c8d4-4bcb-837e-f0a077921f3f"
      },
      "execution_count": null,
      "outputs": [
        {
          "output_type": "stream",
          "name": "stdout",
          "text": [
            "Travelling by Car is really easy.\n",
            "Travelling in Metro is really hard.\n",
            "Travelling in Bus is hard to find seat.\n",
            "Travelling by Bike is really fun and easy.\n"
          ]
        }
      ]
    },
    {
      "cell_type": "markdown",
      "source": [
        "Exercise 4: Guest List ☑️\n",
        "If you could invite anyone, living or deceased, to dinner, who would you invite? Make a list that includes at least three people you’d\n",
        "\n",
        "like to invite to dinner. Then use your list to print a message to each person, invitingthem to dinner."
      ],
      "metadata": {
        "id": "JKe74J_3rEZK"
      }
    },
    {
      "cell_type": "code",
      "source": [
        "# a program to make a list of guests and inviting them to a dinner\n",
        "\n",
        "guest_lists = ['Joe', 'Rafael', 'Patrick']\n",
        "\n",
        "print('Hi ' + guest_lists[0] + ', I am inviting you for a dinner at my house tomorrow.')\n",
        "print('Hi ' + guest_lists[1] + ', I am inviting you for a dinner at my house tomorrow.')\n",
        "print('Hi ' + guest_lists[2] + ', I am inviting you for a dinner at my house tomorrow.')"
      ],
      "metadata": {
        "colab": {
          "base_uri": "https://localhost:8080/"
        },
        "id": "7xHIOF4m6jo8",
        "outputId": "3d9542d0-2d73-41e6-a210-d62b1193d707"
      },
      "execution_count": null,
      "outputs": [
        {
          "output_type": "stream",
          "name": "stdout",
          "text": [
            "Hi Joe, I am inviting you for a dinner at my house tomorrow.\n",
            "Hi Rafael, I am inviting you for a dinner at my house tomorrow.\n",
            "Hi Patrick, I am inviting you for a dinner at my house tomorrow.\n"
          ]
        }
      ]
    },
    {
      "cell_type": "markdown",
      "source": [
        "Exercise 5: Change Guest List ☑️\n",
        "You just heard that one of your guests can’t make the dinner, so you need to send out a new set of invitations. You’ll have to think of someone else to invite.\n",
        "\n",
        "•Start with your program from Exercise 3-4. Add a print() call at the end of your program stating the name of the guest who can’t make it.\n",
        "\n",
        "•Modify your list, replacing the name of the guest who can’t make it with the name of the new person you are inviting.\n",
        "\n",
        "•Print a second set of invitation messages, one for each person who is still in your list."
      ],
      "metadata": {
        "id": "gstFg2tcrdZ0"
      }
    },
    {
      "cell_type": "code",
      "source": [
        "# a program to makes changes in the guest list \n",
        "\n",
        "guest_lists = ['Joe', 'Rafael', 'Patrick']\n",
        "\n",
        "print('Just heard that '+ guest_lists[2] + \"would'nt be able to make it...\")\n",
        "\n",
        "guest_lists[2]= 'Kristian'\n",
        "print(guest_lists)\n",
        "\n",
        "print('Hi again ' + guest_lists[0] + ', You are invites for dinner at my house. ')\n",
        "print('Hi again ' + guest_lists[1] + ', You are invites for dinner at my house. ')\n",
        "print('Hi again ' + guest_lists[2] + ', You are invites for dinner at my house. ')"
      ],
      "metadata": {
        "colab": {
          "base_uri": "https://localhost:8080/"
        },
        "id": "KYz_0E0T728r",
        "outputId": "96ad3b0d-adf3-46c1-cfd1-bd7afe39729e"
      },
      "execution_count": null,
      "outputs": [
        {
          "output_type": "stream",
          "name": "stdout",
          "text": [
            "Just heard that Patrickwould'nt be able to make it...\n",
            "['Joe', 'Rafael', 'Kristian']\n",
            "Hi again Joe, You are invites for dinner at my house. \n",
            "Hi again Rafael, You are invites for dinner at my house. \n",
            "Hi again Kristian, You are invites for dinner at my house. \n"
          ]
        }
      ]
    },
    {
      "cell_type": "markdown",
      "source": [
        "Exercise 6: Shrinking Guest List ☑️\n",
        "You just found out that your new dinner table won’t arrive in time for the dinner, and you have space for only two guests.\n",
        "\n",
        "•Start with your program from Exercise 3-5. Add a new line that prints a message saying that you can invite only two people for dinner.\n",
        "\n",
        "•Use pop() to remove guests from your list one at a time until only two names remain in your list. Each time you pop a name from your list, print a message to that person letting them know you’re sorry you can’t invite them to dinner.\n",
        "\n",
        "•Print a message to each of the two people still on your list, letting them know they’re still invited.\n",
        "\n",
        "•Use del to remove the last two names from your list, so you have an empty list. Print your list to make sure you actually have an empty list at the end of your program.  "
      ],
      "metadata": {
        "id": "0ff7FKCtrhXJ"
      }
    },
    {
      "cell_type": "code",
      "source": [
        "# a program to shrink the guest list\n",
        "\n",
        "guest_lists = ['Andrew Tate', 'Tristan Tate', 'Messi', 'Ronaldo']\n",
        "\n",
        "print('Bad news guys, I can only invite two people for dinner...')\n",
        "\n",
        "print('Sorry my dear friend ' + guest_lists[3] + ', You are not invited for dinner.')\n",
        "guest_lists.pop(3)\n",
        "print(guest_lists) \n",
        "\n",
        "print('Sorry my dear friend ' + guest_lists[2] + ', You are not invited for dinner.')\n",
        "guest_lists.pop(2)\n",
        "print(guest_lists)\n",
        "\n",
        "print('Dear ' + guest_lists[0] + ', you are still invited for dinner.')\n",
        "print('Dear ' + guest_lists[1] + ', you are still invited for dinner.')\n",
        "\n",
        "del guest_lists[:]\n",
        "print('Guest list: ', guest_lists)"
      ],
      "metadata": {
        "colab": {
          "base_uri": "https://localhost:8080/"
        },
        "id": "BZ1xHrEI9XVe",
        "outputId": "5641772f-71b0-499d-87c5-ac0b7501d409"
      },
      "execution_count": null,
      "outputs": [
        {
          "output_type": "stream",
          "name": "stdout",
          "text": [
            "Bad news guys, I can only invite two people for dinner...\n",
            "Sorry my dear friend Ronaldo, You are not invited for dinner.\n",
            "['Andrew Tate', 'Tristan Tate', 'Messi']\n",
            "Sorry my dear friend Messi, You are not invited for dinner.\n",
            "['Andrew Tate', 'Tristan Tate']\n",
            "Dear Andrew Tate, you are still invited for dinner.\n",
            "Dear Tristan Tate, you are still invited for dinner.\n",
            "Guest list:  []\n"
          ]
        }
      ]
    },
    {
      "cell_type": "markdown",
      "source": [
        "Exercise 7: Seeing the World ☑️\n",
        "Think of at least five places in the world you’d like to visit. • Store the locations in a list. Make sure the list is not in alphabetical order.\n",
        "\n",
        "• Print your list in its original order. Don’t worry about printing the list neatly,just print it as a raw Python list.\n",
        "\n",
        "• Use sorted() to print your list in alphabetical order without modifying the actual list.\n",
        "\n",
        "• Show that your list is still in its original order by printing it.\n",
        "\n",
        "• Use sorted() to print your list in reverse alphabetical order without changing the order of the original list.\n",
        "\n",
        "• Show that your list is still in its original order by printing it again.\n",
        "\n",
        "• Use reverse() to change the order of your list. Print the list to show that its order has changed.\n",
        "\n",
        "• Use reverse() to change the order of your list again. Print the list to show it’s back to its original order.\n",
        "\n",
        "• Use sort() to change your list so it’s stored in alphabetical order. Print the list to show that its order has been changed.\n",
        "\n",
        "• Use sort() to change your list so it’s stored in reverse alphabetical order. Print the list to show that its order has changed."
      ],
      "metadata": {
        "id": "YJaM2kI0rnoq"
      }
    },
    {
      "cell_type": "code",
      "source": [
        "\n",
        "\n",
        "places = ['Las Vegas', 'Dubai', 'Abu Dhabi', 'Los Angeles', 'Karachi', 'Peshawar']\n",
        "print(places)\n",
        "print('\\n')\n",
        "\n",
        "print(sorted(places))                  # alphabetical order\n",
        "print(places)                          # checking the original list\n",
        "\n",
        "print('\\n')\n",
        "\n",
        "print(sorted(places, reverse=True))    # reverse order list\n",
        "print(places)                          # checking the original list\n",
        "\n",
        "print('\\n')\n",
        "\n",
        "places = list(reversed(places))        # reversing the order\n",
        "print(places)                          # prints reversed orders\n",
        "\n",
        "print('\\n')\n",
        "\n",
        "places = list(reversed(places))        # reversing again back to it's original form\n",
        "print(places)                          # prints original order\n",
        "\n",
        "print('\\n')\n",
        "\n",
        "places.sort()                          # changes the original list to alphabetical order\n",
        "print(places)                          # prints the changes in the order of the list\n",
        "\n",
        "places.sort(reverse=True)              # changes to reverse alphabetical order\n",
        "print(places)                          # prints the changes made"
      ],
      "metadata": {
        "colab": {
          "base_uri": "https://localhost:8080/"
        },
        "id": "IyqcBzGUW9jv",
        "outputId": "94342778-8079-42e2-9e76-3ef47aa92529"
      },
      "execution_count": null,
      "outputs": [
        {
          "output_type": "stream",
          "name": "stdout",
          "text": [
            "['Las Vegas', 'Dubai', 'Abu Dhabi', 'Los Angeles', 'Karachi', 'Peshawar']\n",
            "\n",
            "\n",
            "['Abu Dhabi', 'Dubai', 'Karachi', 'Las Vegas', 'Los Angeles', 'Peshawar']\n",
            "['Las Vegas', 'Dubai', 'Abu Dhabi', 'Los Angeles', 'Karachi', 'Peshawar']\n",
            "\n",
            "\n",
            "['Peshawar', 'Los Angeles', 'Las Vegas', 'Karachi', 'Dubai', 'Abu Dhabi']\n",
            "['Las Vegas', 'Dubai', 'Abu Dhabi', 'Los Angeles', 'Karachi', 'Peshawar']\n",
            "\n",
            "\n",
            "['Peshawar', 'Karachi', 'Los Angeles', 'Abu Dhabi', 'Dubai', 'Las Vegas']\n",
            "\n",
            "\n",
            "['Las Vegas', 'Dubai', 'Abu Dhabi', 'Los Angeles', 'Karachi', 'Peshawar']\n",
            "\n",
            "\n",
            "['Abu Dhabi', 'Dubai', 'Karachi', 'Las Vegas', 'Los Angeles', 'Peshawar']\n",
            "['Peshawar', 'Los Angeles', 'Las Vegas', 'Karachi', 'Dubai', 'Abu Dhabi']\n"
          ]
        }
      ]
    }
  ]
}