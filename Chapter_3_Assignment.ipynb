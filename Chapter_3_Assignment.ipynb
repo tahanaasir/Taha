{
  "nbformat": 4,
  "nbformat_minor": 0,
  "metadata": {
    "colab": {
      "provenance": [],
      "collapsed_sections": [],
      "authorship_tag": "ABX9TyM6Q6FmQ4yomiZctG0BVUTP",
      "include_colab_link": true
    },
    "kernelspec": {
      "name": "python3",
      "display_name": "Python 3"
    },
    "language_info": {
      "name": "python"
    }
  },
  "cells": [
    {
      "cell_type": "markdown",
      "metadata": {
        "id": "view-in-github",
        "colab_type": "text"
      },
      "source": [
        "<a href=\"https://colab.research.google.com/github/tahanaasir/Taha/blob/main/Chapter_3_Assignment.ipynb\" target=\"_parent\"><img src=\"https://colab.research.google.com/assets/colab-badge.svg\" alt=\"Open In Colab\"/></a>"
      ]
    },
    {
      "cell_type": "code",
      "execution_count": null,
      "metadata": {
        "colab": {
          "base_uri": "https://localhost:8080/"
        },
        "id": "A1GDtia10fwi",
        "outputId": "3a7c4791-bfc3-488d-c406-45f6c5177d6e"
      },
      "outputs": [
        {
          "output_type": "stream",
          "name": "stdout",
          "text": [
            "Ameer\n",
            "Mustafa\n",
            "Hassan\n",
            "Farooq\n",
            "Ziyan\n",
            "Salim\n"
          ]
        }
      ],
      "source": [
        "# a program to save names in a list and printing one by one\n",
        "\n",
        "names = ['Ameer', 'Mustafa', 'Hassan', 'Farooq', 'Ziyan', 'Salim']\n",
        "\n",
        "print(names[0])\n",
        "print(names[1])\n",
        "print(names[2])\n",
        "print(names[3])\n",
        "print(names[4])\n",
        "print(names[5])"
      ]
    },
    {
      "cell_type": "code",
      "source": [
        "# a program to write personalized messages for names in lists\n",
        "\n",
        "names = ['Ameer', 'Mustafa', 'Hassan', 'Farooq', 'Ziyan', 'Salim']\n",
        "\n",
        "print('Hello ' + names[0] +', Please let me know when you leave for home.' )\n",
        "print('Hello ' + names[1] +', Wanna hang out this  weekend?')\n",
        "print('Hello ' + names[2] +', How are you?')\n",
        "print('Hello ' + names[3] +', Lets have dinner at your favorite restranunt')\n",
        "print('Hello ' + names[4] +', Send me notes of Business Maths.')\n",
        "print('Hello ' + names[5] +', Have a safe flight. ENJOY YOUR VACATION!!!')"
      ],
      "metadata": {
        "colab": {
          "base_uri": "https://localhost:8080/"
        },
        "id": "U_7VmJlG1V_O",
        "outputId": "c8245639-533d-4f8e-e13e-6e2397ebbd16"
      },
      "execution_count": null,
      "outputs": [
        {
          "output_type": "stream",
          "name": "stdout",
          "text": [
            "Hello Ameer, Please let me know when you leave for home.\n",
            "Hello Mustafa, Wanna hang out this  weekend?\n",
            "Hello Hassan, How are you?\n",
            "Hello Farooq, Lets have dinner at your favorite restranunt\n",
            "Hello Ziyan, Send me notes of Business Maths.\n",
            "Hello Salim, Have a safe flight. ENJOY YOUR VACATION!!!\n"
          ]
        }
      ]
    },
    {
      "cell_type": "code",
      "source": [
        "# a program to work with lists\n",
        "\n",
        "transport_modes = ['Car', 'Metro', 'Bus', 'Bike']\n",
        "\n",
        "print('Travelling by ' + transport_modes[0].title() + ' is really easy.')\n",
        "print('Travelling in ' + transport_modes[1].title() + ' is really hard.')\n",
        "print('Travelling in ' + transport_modes[2].title() + ' is hard to find seat.')\n",
        "print('Travelling by ' + transport_modes[3].title() + ' is really fun and easy.')"
      ],
      "metadata": {
        "colab": {
          "base_uri": "https://localhost:8080/"
        },
        "id": "70idAcO_39LR",
        "outputId": "c6d8dd7b-c8d4-4bcb-837e-f0a077921f3f"
      },
      "execution_count": null,
      "outputs": [
        {
          "output_type": "stream",
          "name": "stdout",
          "text": [
            "Travelling by Car is really easy.\n",
            "Travelling in Metro is really hard.\n",
            "Travelling in Bus is hard to find seat.\n",
            "Travelling by Bike is really fun and easy.\n"
          ]
        }
      ]
    },
    {
      "cell_type": "code",
      "source": [
        "# a program to make a list of guests to be invites and send a personal message\n",
        "\n",
        "guest_lists = ['Joe', 'Rafael', 'Patrick', 'Chris']\n",
        "\n",
        "print('Hi ' + guest_lists[0] + ', I would like to invite you for dinner at my house tomorrow.')\n",
        "print('Hi ' + guest_lists[1] + ', I would like to invite you for dinner at my house tomorrow.')\n",
        "print('Hi ' + guest_lists[2] + ', I would like to invite you for dinner at my house tomorrow.')\n",
        "print('Hi ' + guest_lists[3] + ', I would like to invite you for dinner at my house tomorrow.')"
      ],
      "metadata": {
        "colab": {
          "base_uri": "https://localhost:8080/"
        },
        "id": "7xHIOF4m6jo8",
        "outputId": "bcf897f9-16e9-42f7-89f7-934c2933e8da"
      },
      "execution_count": null,
      "outputs": [
        {
          "output_type": "stream",
          "name": "stdout",
          "text": [
            "Hi Joe, I would like to invite you for dinner at my house tomorrow.\n",
            "Hi Rafael, I would like to invite you for dinner at my house tomorrow.\n",
            "Hi Patrick, I would like to invite you for dinner at my house tomorrow.\n",
            "Hi Chris, I would like to invite you for dinner at my house tomorrow.\n"
          ]
        }
      ]
    },
    {
      "cell_type": "code",
      "source": [
        "# a program to modify guest list \n",
        "\n",
        "guest_lists = ['Joe', 'Rafael', 'Patrick', 'Chris']\n",
        "\n",
        "print('Just heard that '+ guest_lists[2] + \"would'nt be able to make it...\")\n",
        "\n",
        "guest_lists[2]= 'Kristian'\n",
        "print(guest_lists)\n",
        "\n",
        "print('Hi again ' + guest_lists[0] + ', You are invites for dinner at my house. ')\n",
        "print('Hi again ' + guest_lists[1] + ', You are invites for dinner at my house. ')\n",
        "print('Hi again ' + guest_lists[2] + ', You are invites for dinner at my house. ')\n",
        "print('Hi again ' + guest_lists[3] + ', You are invites for dinner at my house. ')"
      ],
      "metadata": {
        "colab": {
          "base_uri": "https://localhost:8080/"
        },
        "id": "KYz_0E0T728r",
        "outputId": "37baaf7a-89c7-48ea-df78-8569e605755d"
      },
      "execution_count": null,
      "outputs": [
        {
          "output_type": "stream",
          "name": "stdout",
          "text": [
            "Just heard that Patrickwould'nt be able to make it...\n",
            "['Joe', 'Rafael', 'Kristian', 'Chris']\n",
            "Hi again Joe, You are invites for dinner at my house. \n",
            "Hi again Rafael, You are invites for dinner at my house. \n",
            "Hi again Kristian, You are invites for dinner at my house. \n",
            "Hi again Chris, You are invites for dinner at my house. \n"
          ]
        }
      ]
    },
    {
      "cell_type": "code",
      "source": [
        "# a program to shrink guest list\n",
        "\n",
        "guest_lists = ['Andrew Tate', 'Tristan Tate', 'Messi', 'Ronaldo']\n",
        "\n",
        "print('Bad news guys, I can only invite two people for dinner...')\n",
        "\n",
        "print('Sorry my dear friend ' + guest_lists[3] + ', You are not invited for dinner.')\n",
        "guest_lists.pop(3)\n",
        "print(guest_lists) \n",
        "\n",
        "print('Sorry my dear friend ' + guest_lists[2] + ', You are not invited for dinner.')\n",
        "guest_lists.pop(2)\n",
        "print(guest_lists)\n",
        "\n",
        "print('Dear ' + guest_lists[0] + ', you are still invited for dinner.')\n",
        "print('Dear ' + guest_lists[1] + ', you are still invited for dinner.')\n",
        "\n",
        "del guest_lists[:]\n",
        "print('Guest list: ', guest_lists)"
      ],
      "metadata": {
        "colab": {
          "base_uri": "https://localhost:8080/"
        },
        "id": "BZ1xHrEI9XVe",
        "outputId": "5641772f-71b0-499d-87c5-ac0b7501d409"
      },
      "execution_count": null,
      "outputs": [
        {
          "output_type": "stream",
          "name": "stdout",
          "text": [
            "Bad news guys, I can only invite two people for dinner...\n",
            "Sorry my dear friend Ronaldo, You are not invited for dinner.\n",
            "['Andrew Tate', 'Tristan Tate', 'Messi']\n",
            "Sorry my dear friend Messi, You are not invited for dinner.\n",
            "['Andrew Tate', 'Tristan Tate']\n",
            "Dear Andrew Tate, you are still invited for dinner.\n",
            "Dear Tristan Tate, you are still invited for dinner.\n",
            "Guest list:  []\n"
          ]
        }
      ]
    },
    {
      "cell_type": "code",
      "source": [
        "\n",
        "\n",
        "places = ['Las Vegas', 'Dubai', 'Abu Dhabi', 'Los Angeles', 'Karachi', 'Peshawar']\n",
        "print(places)\n",
        "print('\\n')\n",
        "\n",
        "print(sorted(places))                  # alphabetical order\n",
        "print(places)                          # checking the original list\n",
        "\n",
        "print('\\n')\n",
        "\n",
        "print(sorted(places, reverse=True))    # reverse order list\n",
        "print(places)                          # checking the original list\n",
        "\n",
        "print('\\n')\n",
        "\n",
        "places = list(reversed(places))        # reversing the order\n",
        "print(places)                          # prints reversed orders\n",
        "\n",
        "print('\\n')\n",
        "\n",
        "places = list(reversed(places))        # reversing again back to it's original form\n",
        "print(places)                          # prints original order\n",
        "\n",
        "print('\\n')\n",
        "\n",
        "places.sort()                          # changes the original list to alphabetical order\n",
        "print(places)                          # prints the changes in the order of the list\n",
        "\n",
        "places.sort(reverse=True)              # changes to reverse alphabetical order\n",
        "print(places)                          # prints the changes made"
      ],
      "metadata": {
        "colab": {
          "base_uri": "https://localhost:8080/"
        },
        "id": "IyqcBzGUW9jv",
        "outputId": "94342778-8079-42e2-9e76-3ef47aa92529"
      },
      "execution_count": null,
      "outputs": [
        {
          "output_type": "stream",
          "name": "stdout",
          "text": [
            "['Las Vegas', 'Dubai', 'Abu Dhabi', 'Los Angeles', 'Karachi', 'Peshawar']\n",
            "\n",
            "\n",
            "['Abu Dhabi', 'Dubai', 'Karachi', 'Las Vegas', 'Los Angeles', 'Peshawar']\n",
            "['Las Vegas', 'Dubai', 'Abu Dhabi', 'Los Angeles', 'Karachi', 'Peshawar']\n",
            "\n",
            "\n",
            "['Peshawar', 'Los Angeles', 'Las Vegas', 'Karachi', 'Dubai', 'Abu Dhabi']\n",
            "['Las Vegas', 'Dubai', 'Abu Dhabi', 'Los Angeles', 'Karachi', 'Peshawar']\n",
            "\n",
            "\n",
            "['Peshawar', 'Karachi', 'Los Angeles', 'Abu Dhabi', 'Dubai', 'Las Vegas']\n",
            "\n",
            "\n",
            "['Las Vegas', 'Dubai', 'Abu Dhabi', 'Los Angeles', 'Karachi', 'Peshawar']\n",
            "\n",
            "\n",
            "['Abu Dhabi', 'Dubai', 'Karachi', 'Las Vegas', 'Los Angeles', 'Peshawar']\n",
            "['Peshawar', 'Los Angeles', 'Las Vegas', 'Karachi', 'Dubai', 'Abu Dhabi']\n"
          ]
        }
      ]
    }
  ]
}