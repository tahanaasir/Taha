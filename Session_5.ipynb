{
  "nbformat": 4,
  "nbformat_minor": 0,
  "metadata": {
    "colab": {
      "provenance": [],
      "authorship_tag": "ABX9TyOK5odDckv4VIaXc+R7/jkE",
      "include_colab_link": true
    },
    "kernelspec": {
      "name": "python3",
      "display_name": "Python 3"
    },
    "language_info": {
      "name": "python"
    }
  },
  "cells": [
    {
      "cell_type": "markdown",
      "metadata": {
        "id": "view-in-github",
        "colab_type": "text"
      },
      "source": [
        "<a href=\"https://colab.research.google.com/github/tahanaasir/Taha/blob/main/Session_5.ipynb\" target=\"_parent\"><img src=\"https://colab.research.google.com/assets/colab-badge.svg\" alt=\"Open In Colab\"/></a>"
      ]
    },
    {
      "cell_type": "code",
      "execution_count": null,
      "metadata": {
        "colab": {
          "base_uri": "https://localhost:8080/"
        },
        "id": "hgF7yN0LzO89",
        "outputId": "2a65571e-93db-4cf2-81b4-c561c0d7d76d"
      },
      "outputs": [
        {
          "output_type": "stream",
          "name": "stdout",
          "text": [
            "Today is 6th October,2022,Thursday\n"
          ]
        }
      ],
      "source": [
        "sentence='Today is 6th October,2022,Thursday'\n",
        "print(sentence)"
      ]
    },
    {
      "cell_type": "code",
      "source": [
        "sentence1='Today is 6th October,2022,Thursday'\n",
        "print(sentence1)"
      ],
      "metadata": {
        "colab": {
          "base_uri": "https://localhost:8080/"
        },
        "id": "JbL62dXn0uuG",
        "outputId": "88d2b6d4-a261-41db-8184-24bbf70ebd9e"
      },
      "execution_count": null,
      "outputs": [
        {
          "output_type": "stream",
          "name": "stdout",
          "text": [
            "Today is 6th October,2022,Thursday\n"
          ]
        }
      ]
    },
    {
      "cell_type": "code",
      "source": [
        "1sentence='Today is 6th October,2022,Thursday'\n",
        "print(1sentence)"
      ],
      "metadata": {
        "colab": {
          "base_uri": "https://localhost:8080/",
          "height": 131
        },
        "id": "vCterk4w1J4z",
        "outputId": "565b9965-044f-49d7-ab33-a5b5fd910723"
      },
      "execution_count": null,
      "outputs": [
        {
          "output_type": "error",
          "ename": "SyntaxError",
          "evalue": "ignored",
          "traceback": [
            "\u001b[0;36m  File \u001b[0;32m\"<ipython-input-4-46547f740ee9>\"\u001b[0;36m, line \u001b[0;32m1\u001b[0m\n\u001b[0;31m    1sentence='Today is 6th October,2022,Thursday'\u001b[0m\n\u001b[0m            ^\u001b[0m\n\u001b[0;31mSyntaxError\u001b[0m\u001b[0;31m:\u001b[0m invalid syntax\n"
          ]
        }
      ]
    },
    {
      "cell_type": "code",
      "source": [
        "*sentence='Today is 6th October,2022,Thursday'\n",
        "print(*sentence)"
      ],
      "metadata": {
        "colab": {
          "base_uri": "https://localhost:8080/",
          "height": 96
        },
        "id": "unyuO6n31hMN",
        "outputId": "38d22f7e-54fe-4fa3-b59b-7541797572c4"
      },
      "execution_count": null,
      "outputs": [
        {
          "output_type": "error",
          "ename": "SyntaxError",
          "evalue": "ignored",
          "traceback": [
            "\u001b[0;36m  File \u001b[0;32m\"<ipython-input-5-874b34640167>\"\u001b[0;36m, line \u001b[0;32m4\u001b[0m\n\u001b[0;31mSyntaxError\u001b[0m\u001b[0;31m:\u001b[0m starred assignment target must be in a list or tuple\n"
          ]
        }
      ]
    },
    {
      "cell_type": "code",
      "source": [
        "Sentence-1='Today is 6th October,2022,Thursday'\n",
        "print(Sentence-1)"
      ],
      "metadata": {
        "colab": {
          "base_uri": "https://localhost:8080/",
          "height": 131
        },
        "id": "S7avR40O13DQ",
        "outputId": "1be2ad54-16a1-4959-a044-d24fb496c54e"
      },
      "execution_count": null,
      "outputs": [
        {
          "output_type": "error",
          "ename": "SyntaxError",
          "evalue": "ignored",
          "traceback": [
            "\u001b[0;36m  File \u001b[0;32m\"<ipython-input-6-8786ceee785c>\"\u001b[0;36m, line \u001b[0;32m1\u001b[0m\n\u001b[0;31m    Sentence-1='Today is 6th October,2022,Thursday'\u001b[0m\n\u001b[0m                                                   ^\u001b[0m\n\u001b[0;31mSyntaxError\u001b[0m\u001b[0;31m:\u001b[0m can't assign to operator\n"
          ]
        }
      ]
    },
    {
      "cell_type": "code",
      "source": [
        "a, b = 100,200\n",
        "print(a) #100\n",
        "print(b) #200"
      ],
      "metadata": {
        "colab": {
          "base_uri": "https://localhost:8080/"
        },
        "id": "PL8qV5yX2Elf",
        "outputId": "dda5848d-a5fe-45ed-e46e-6441e02d0931"
      },
      "execution_count": null,
      "outputs": [
        {
          "output_type": "stream",
          "name": "stdout",
          "text": [
            "100\n",
            "200\n"
          ]
        }
      ]
    },
    {
      "cell_type": "code",
      "source": [
        "x=4\n",
        "y=8\n",
        "z=12\n",
        "print(x,y,z)\n",
        "print(\"Type of x is,\"type(x))\n",
        "print()"
      ],
      "metadata": {
        "colab": {
          "base_uri": "https://localhost:8080/",
          "height": 131
        },
        "id": "bHw1MuWg2l29",
        "outputId": "f908f5d7-2a91-48eb-88af-00dd70eeb070"
      },
      "execution_count": null,
      "outputs": [
        {
          "output_type": "error",
          "ename": "SyntaxError",
          "evalue": "ignored",
          "traceback": [
            "\u001b[0;36m  File \u001b[0;32m\"<ipython-input-17-05a9ef2c8feb>\"\u001b[0;36m, line \u001b[0;32m5\u001b[0m\n\u001b[0;31m    print(\"Type of x is,\"type(x))\u001b[0m\n\u001b[0m                            ^\u001b[0m\n\u001b[0;31mSyntaxError\u001b[0m\u001b[0;31m:\u001b[0m invalid syntax\n"
          ]
        }
      ]
    },
    {
      "cell_type": "code",
      "source": [
        "x=2.5\n",
        "y=6.5\n",
        "z=7.5\n",
        "print(x,y,z)"
      ],
      "metadata": {
        "colab": {
          "base_uri": "https://localhost:8080/"
        },
        "id": "HPLVlpc63cm6",
        "outputId": "c7bc2462-6501-4384-f276-4875ef2d63e1"
      },
      "execution_count": null,
      "outputs": [
        {
          "output_type": "stream",
          "name": "stdout",
          "text": [
            "2.5 6.5 7.5\n"
          ]
        }
      ]
    },
    {
      "cell_type": "code",
      "source": [
        "x=3+7j\n",
        "y=5+8j\n",
        "z=4+9j\n",
        "print(x,y,z)"
      ],
      "metadata": {
        "colab": {
          "base_uri": "https://localhost:8080/"
        },
        "id": "so3OX2UY3neg",
        "outputId": "20c0982b-7d83-481c-a486-1b99b6e8bc0a"
      },
      "execution_count": null,
      "outputs": [
        {
          "output_type": "stream",
          "name": "stdout",
          "text": [
            "(3+7j) (5+8j) (4+9j)\n"
          ]
        }
      ]
    },
    {
      "cell_type": "code",
      "source": [
        "\n",
        "print(\"enter marks\")\n",
        "marks=int(input())\n",
        "print(\"Marks obatined are\",marks)"
      ],
      "metadata": {
        "colab": {
          "base_uri": "https://localhost:8080/"
        },
        "id": "adORHNw04uV4",
        "outputId": "10293caa-978c-4e79-d4a0-d93848c150c5"
      },
      "execution_count": null,
      "outputs": [
        {
          "output_type": "stream",
          "name": "stdout",
          "text": [
            "enter marks\n",
            "100\n",
            "Marks obatined are 100\n"
          ]
        }
      ]
    },
    {
      "cell_type": "code",
      "source": [
        "print('Print enter the side of square')\n",
        "side=int(input())\n",
        "print('side of the square=',side)\n",
        "print('the area of a square with side'+str(side)+'units='+str(side**2)+'sq units')"
      ],
      "metadata": {
        "colab": {
          "base_uri": "https://localhost:8080/"
        },
        "id": "CDzLU-9E8Vdx",
        "outputId": "2115197d-ac2f-49c9-8764-93d1a821ca6a"
      },
      "execution_count": null,
      "outputs": [
        {
          "output_type": "stream",
          "name": "stdout",
          "text": [
            "Print enter the side of square\n",
            "8\n",
            "side of the square= 8\n",
            "the area of a square with side8units=64sq units\n"
          ]
        }
      ]
    },
    {
      "cell_type": "code",
      "source": [
        "PI=3.142\n",
        "print('Please enter the radius of circle')\n",
        "r=int(input())\n",
        "print('the area of the circle with radius'+str(r)+'units=:'+str(PI*r**2)+'sq units')"
      ],
      "metadata": {
        "colab": {
          "base_uri": "https://localhost:8080/"
        },
        "id": "o2kgJsdJ9ulq",
        "outputId": "799f3321-8171-4afd-da4c-c6643a87cc8b"
      },
      "execution_count": null,
      "outputs": [
        {
          "output_type": "stream",
          "name": "stdout",
          "text": [
            "Please enter the radius of circle\n",
            "8\n",
            "the area of the circle with radius8units=:201.088sq units\n"
          ]
        }
      ]
    },
    {
      "cell_type": "code",
      "source": [
        "sentence1= 'Today is 6th October,2022,Thursday'\n",
        "print(sentence1)"
      ],
      "metadata": {
        "colab": {
          "base_uri": "https://localhost:8080/"
        },
        "id": "BZvhDQ6EAdVm",
        "outputId": "cf093d70-4aff-45be-8f43-38b0756a280d"
      },
      "execution_count": null,
      "outputs": [
        {
          "output_type": "stream",
          "name": "stdout",
          "text": [
            "Today is 6th October,2022,Thursday\n"
          ]
        }
      ]
    },
    {
      "cell_type": "code",
      "source": [
        "sentence1= 'Today is 6th October,2022,Thursday'\n",
        "print(sentence1[0])"
      ],
      "metadata": {
        "colab": {
          "base_uri": "https://localhost:8080/"
        },
        "id": "RYT_jnx2I4Ml",
        "outputId": "ba1f12b4-312e-415b-f028-d84182893179"
      },
      "execution_count": null,
      "outputs": [
        {
          "output_type": "stream",
          "name": "stdout",
          "text": [
            "T\n"
          ]
        }
      ]
    },
    {
      "cell_type": "code",
      "source": [
        "sentence1= 'Today is 6th October,2022,Thursday'\n",
        "print(sentence1[0:5])"
      ],
      "metadata": {
        "colab": {
          "base_uri": "https://localhost:8080/"
        },
        "id": "fgHxL_JgJH1K",
        "outputId": "fff296ba-144d-4f1b-fa56-69201a3427a2"
      },
      "execution_count": null,
      "outputs": [
        {
          "output_type": "stream",
          "name": "stdout",
          "text": [
            "Today\n"
          ]
        }
      ]
    },
    {
      "cell_type": "code",
      "source": [
        "sentence1= 'Today is 6th October,2022,Thursday'\n",
        "print(sentence1[4:])"
      ],
      "metadata": {
        "colab": {
          "base_uri": "https://localhost:8080/"
        },
        "id": "nbQTjZz5JYAT",
        "outputId": "7675e352-e6ad-445f-87f6-b39cc8bb1e58"
      },
      "execution_count": null,
      "outputs": [
        {
          "output_type": "stream",
          "name": "stdout",
          "text": [
            "y is 6th October,2022,Thursday\n"
          ]
        }
      ]
    },
    {
      "cell_type": "code",
      "source": [
        "sentence1= 'Today is 6th October,2022,Thursday'\n",
        "print(sentence1*4)"
      ],
      "metadata": {
        "colab": {
          "base_uri": "https://localhost:8080/"
        },
        "id": "MwQYBqSaJvXm",
        "outputId": "41e52558-814c-4416-87e2-0974361f6e00"
      },
      "execution_count": null,
      "outputs": [
        {
          "output_type": "stream",
          "name": "stdout",
          "text": [
            "Today is 6th October,2022,ThursdayToday is 6th October,2022,ThursdayToday is 6th October,2022,ThursdayToday is 6th October,2022,Thursday\n"
          ]
        }
      ]
    },
    {
      "cell_type": "code",
      "source": [
        "sentence1= 'Today is 6th October,2022,Thursday'\n",
        "print(sentence1[0:])"
      ],
      "metadata": {
        "colab": {
          "base_uri": "https://localhost:8080/"
        },
        "id": "aRhkXrXJKEq1",
        "outputId": "71e3128e-837a-4ac1-ab82-5b656ce42e6b"
      },
      "execution_count": null,
      "outputs": [
        {
          "output_type": "stream",
          "name": "stdout",
          "text": [
            "Today is 6th October,2022,Thursday\n"
          ]
        }
      ]
    },
    {
      "cell_type": "code",
      "source": [
        "date='Today is 6th october,2022,thursday'\n",
        "print(date.lower())"
      ],
      "metadata": {
        "colab": {
          "base_uri": "https://localhost:8080/"
        },
        "id": "0oAAYmSwLTyf",
        "outputId": "72f8bae3-e0ad-429c-ce37-fd927a9ae8a2"
      },
      "execution_count": null,
      "outputs": [
        {
          "output_type": "stream",
          "name": "stdout",
          "text": [
            "today is 6th october,2022,thursday\n"
          ]
        }
      ]
    },
    {
      "cell_type": "code",
      "source": [
        "date= 'today is 6th october,2022,thursday'\n",
        "print(date.upper())"
      ],
      "metadata": {
        "colab": {
          "base_uri": "https://localhost:8080/"
        },
        "id": "sSxH6Nc4LoAe",
        "outputId": "b024fbcb-8000-41a9-94f0-0540c753dc0d"
      },
      "execution_count": null,
      "outputs": [
        {
          "output_type": "stream",
          "name": "stdout",
          "text": [
            "TODAY IS 6TH OCTOBER,2022,THURSDAY\n"
          ]
        }
      ]
    },
    {
      "cell_type": "code",
      "source": [
        "date='today is 6th october'\n",
        "print(date.title())"
      ],
      "metadata": {
        "colab": {
          "base_uri": "https://localhost:8080/"
        },
        "id": "fpP4xRXBL4o9",
        "outputId": "0a4542bc-5b8d-4b83-9767-18e20ae6f487"
      },
      "execution_count": null,
      "outputs": [
        {
          "output_type": "stream",
          "name": "stdout",
          "text": [
            "Today Is 6Th October\n"
          ]
        }
      ]
    },
    {
      "cell_type": "code",
      "source": [
        "word='  python'\n",
        "new_word=word.lstrip()\n",
        "print(word)\n",
        "print(new_word)"
      ],
      "metadata": {
        "colab": {
          "base_uri": "https://localhost:8080/"
        },
        "id": "laQu3Y8lMm_o",
        "outputId": "fd5ecd97-3a98-4e4e-a9b7-c6fc64eb345d"
      },
      "execution_count": null,
      "outputs": [
        {
          "output_type": "stream",
          "name": "stdout",
          "text": [
            "  python\n",
            "python\n"
          ]
        }
      ]
    },
    {
      "cell_type": "code",
      "source": [
        "word='  python'\n",
        "new_word=word.rstrip()\n",
        "print(word)\n",
        "print(new_word)"
      ],
      "metadata": {
        "colab": {
          "base_uri": "https://localhost:8080/"
        },
        "id": "jIRUE3brNYo1",
        "outputId": "92705a5b-1467-4b75-d6ec-07584adea541"
      },
      "execution_count": null,
      "outputs": [
        {
          "output_type": "stream",
          "name": "stdout",
          "text": [
            "  python\n",
            "  python\n"
          ]
        }
      ]
    },
    {
      "cell_type": "code",
      "source": [
        "print(\"The programming language is \\t Python\")"
      ],
      "metadata": {
        "colab": {
          "base_uri": "https://localhost:8080/"
        },
        "id": "eRRC2PQ_OEja",
        "outputId": "cd8f763a-7eed-4d2c-dfb7-e53df1388dc9"
      },
      "execution_count": null,
      "outputs": [
        {
          "output_type": "stream",
          "name": "stdout",
          "text": [
            "The programming language is \t Python\n"
          ]
        }
      ]
    },
    {
      "cell_type": "code",
      "source": [
        "\n",
        "print(\"Programming languages:\\nPython\\C\\nJavaScript\")"
      ],
      "metadata": {
        "colab": {
          "base_uri": "https://localhost:8080/"
        },
        "id": "Sh6JQAnlOsL9",
        "outputId": "8c09e790-7c62-41a3-b4af-6323e8c51f7c"
      },
      "execution_count": null,
      "outputs": [
        {
          "output_type": "stream",
          "name": "stdout",
          "text": [
            "Programming languages:\n",
            "Python\\C\n",
            "JavaScript\n"
          ]
        }
      ]
    },
    {
      "cell_type": "code",
      "source": [
        "print(\"Programming Languages:\\n\\tPython\\n\\tC\\n\\tJavaScript\")"
      ],
      "metadata": {
        "colab": {
          "base_uri": "https://localhost:8080/"
        },
        "id": "eFertn2iPDqq",
        "outputId": "39896761-eb8e-4941-b075-4860063f51c9"
      },
      "execution_count": null,
      "outputs": [
        {
          "output_type": "stream",
          "name": "stdout",
          "text": [
            "Programming Languages:\n",
            "\tPython\n",
            "\tC\n",
            "\tJavaScript\n"
          ]
        }
      ]
    }
  ]
}