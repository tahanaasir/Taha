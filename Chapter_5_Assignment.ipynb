{
  "nbformat": 4,
  "nbformat_minor": 0,
  "metadata": {
    "colab": {
      "provenance": [],
      "authorship_tag": "ABX9TyNXzg/WHbMWd5WM5ySY23LL",
      "include_colab_link": true
    },
    "kernelspec": {
      "name": "python3",
      "display_name": "Python 3"
    },
    "language_info": {
      "name": "python"
    }
  },
  "cells": [
    {
      "cell_type": "markdown",
      "metadata": {
        "id": "view-in-github",
        "colab_type": "text"
      },
      "source": [
        "<a href=\"https://colab.research.google.com/github/tahanaasir/Taha/blob/main/Chapter_5_Assignment.ipynb\" target=\"_parent\"><img src=\"https://colab.research.google.com/assets/colab-badge.svg\" alt=\"Open In Colab\"/></a>"
      ]
    },
    {
      "cell_type": "markdown",
      "source": [
        "Exercise 1: Person ☑️\n",
        "Use a dictionary to store information about a person you know.Store their first name, last name, age, and the city in which they live. You should have keys such as first_name, last_name, age, and city. Print each piece of information stored in your dictionary."
      ],
      "metadata": {
        "id": "InhRe4OsTTF9"
      }
    },
    {
      "cell_type": "code",
      "execution_count": 1,
      "metadata": {
        "id": "OUSYfjLKfTel",
        "colab": {
          "base_uri": "https://localhost:8080/"
        },
        "outputId": "368ff24f-2675-4e2e-b906-94f369a133d4"
      },
      "outputs": [
        {
          "output_type": "stream",
          "name": "stdout",
          "text": [
            "Taha\n",
            "Nasir\n",
            "20\n",
            "Dubai\n"
          ]
        }
      ],
      "source": [
        "# a program to store information in dictionary\n",
        "\n",
        "user_info = {'first_name' : 'Taha', 'last_name' : 'Nasir', 'age' : '20', 'city' : 'Dubai'}      #information in dictionary\n",
        "#printing all the elements in the dictionary\n",
        "print(user_info['first_name'])\n",
        "print(user_info['last_name'])\n",
        "print(user_info['age'])\n",
        "print(user_info['city'])"
      ]
    },
    {
      "cell_type": "markdown",
      "source": [
        "Exercise 2: Glossary ☑️\n",
        "A Python dictionary can be used to model an actual dictionary. However, to avoid confusion, let’s call it a glossary.\n",
        "\n",
        "Think of five programming words you’ve learned about in the previous chapters. Use these words as the keys in your glossary, and store\n",
        "their meanings as values.\n",
        "\n",
        "Print each word and its meaning as neatly formatted output. You might print the word followed by a colon and then its meaning, or print\n",
        "the word on one line and then print its meaning indented on a second line. Use the newline character (\\n) to insert a blank line between each word-meaning pair in your output.    "
      ],
      "metadata": {
        "id": "htIwsUItc-PA"
      }
    },
    {
      "cell_type": "code",
      "source": [
        "# glossary\n",
        "#a program to write the meaning by using \\n \n",
        "\n",
        "glossary={'concatenate':'to join two strings or other applicable object types together.', \n",
        "          'for loops':'for loops are used to perform some action on each item in a list.',\n",
        "          'lists':'lists are used to store multiple objects together.',\n",
        "          'if':'It allows for conditional execution of a statement or group of statements based on the value of an expression.',\n",
        "          'ifelse':'It is used to execute both the true part and false part of a given conditions.'}\n",
        "print('concatenate:')\n",
        "print(glossary['concatenate'] + '\\n')\n",
        "print('for loops:')\n",
        "print(glossary['for loops'] + '\\n')\n",
        "print('lists:')\n",
        "print(glossary['lists'] + '\\n')\n",
        "print('if:')\n",
        "print(glossary['if'] + '\\n')\n",
        "print('ifelse')\n",
        "print(glossary['ifelse'])"
      ],
      "metadata": {
        "colab": {
          "base_uri": "https://localhost:8080/"
        },
        "id": "2raSKG4cdLiQ",
        "outputId": "bbd89cd1-4dc3-4d5e-cdad-8e3168105265"
      },
      "execution_count": 3,
      "outputs": [
        {
          "output_type": "stream",
          "name": "stdout",
          "text": [
            "concatenate:\n",
            "to join two strings or other applicable object types together.\n",
            "\n",
            "for loops:\n",
            "for loops are used to perform some action on each item in a list.\n",
            "\n",
            "lists:\n",
            "lists are used to store multiple objects together.\n",
            "\n",
            "if:\n",
            "It allows for conditional execution of a statement or group of statements based on the value of an expression.\n",
            "\n",
            "ifelse\n",
            "It is used to execute both the true part and false part of a given conditions.\n"
          ]
        }
      ]
    },
    {
      "cell_type": "markdown",
      "source": [
        "Exercise 3: Glossary 2 ☑️\n",
        "Now that you know how to loop through a dictionary, clean up the code from Exercise 6-3 (page 99) by replacing your series of print() calls with a loop that runs through the dictionary’s keys and values. When you’re sure that your loop works, add five more Python terms to your glossary.When you run your program again, these new words and meanings should automatically be included in the output."
      ],
      "metadata": {
        "id": "J2F7b5coehER"
      }
    },
    {
      "cell_type": "code",
      "source": [
        "#glossary\n",
        "\n",
        "glossary={'concatenate':'to join two strings or other applicable object types together.', \n",
        "          'for loops':'for loops are used to perform some action on each item in a list.',\n",
        "          'lists':'lists are used to store multiple objects together.',\n",
        "          'if':'It allows for conditional execution of a statement or group of statements based on the value of an expression.',\n",
        "          'ifelse':'It is used to execute both the true part and false part of a given conditions.',\n",
        "          'Python':'Python is a high-level, general-purpose programming language. Its design philosophy emphasizes code readability with the use of significant indentation.',\n",
        "          'Functions':'A function is a block of code which only runs when it is called. You can pass data, known as parameters, into a function. A function can return data as a result.',\n",
        "          'GitHub':'GitHub is a web-based version-control and collaboration platform for software developers. It is a platform where we can store our code projects in the form of repositories.',\n",
        "          'Interpreter':'An interpreter is a kind of program that executes other programs. When you write Python programs , it converts source code written by the developer into intermediate language which is again translated into the native language / machine language that is executed.',\n",
        "          'Library':'A Python library is a collection of related modules. It contains bundles of code that can be used repeatedly in different programs. It makes Python Programming simpler and convenient for the programmer.'}\n",
        "\n",
        "# using for loops to print all the definitions of each elements\n",
        "\n",
        "for word, definition in glossary.items():\n",
        "  print(f'{word.upper()} : {definition.title()}')"
      ],
      "metadata": {
        "colab": {
          "base_uri": "https://localhost:8080/"
        },
        "id": "Iw74KuTLelzj",
        "outputId": "24690104-235b-4846-ac23-ecf4feae57ba"
      },
      "execution_count": 13,
      "outputs": [
        {
          "output_type": "stream",
          "name": "stdout",
          "text": [
            "CONCATENATE : To Join Two Strings Or Other Applicable Object Types Together.\n",
            "FOR LOOPS : For Loops Are Used To Perform Some Action On Each Item In A List.\n",
            "LISTS : Lists Are Used To Store Multiple Objects Together.\n",
            "IF : It Allows For Conditional Execution Of A Statement Or Group Of Statements Based On The Value Of An Expression.\n",
            "IFELSE : It Is Used To Execute Both The True Part And False Part Of A Given Conditions.\n",
            "PYTHON : Python Is A High-Level, General-Purpose Programming Language. Its Design Philosophy Emphasizes Code Readability With The Use Of Significant Indentation.\n",
            "FUNCTIONS : A Function Is A Block Of Code Which Only Runs When It Is Called. You Can Pass Data, Known As Parameters, Into A Function. A Function Can Return Data As A Result.\n",
            "GITHUB : Github Is A Web-Based Version-Control And Collaboration Platform For Software Developers. It Is A Platform Where We Can Store Our Code Projects In The Form Of Repositories.\n",
            "INTERPRETER : An Interpreter Is A Kind Of Program That Executes Other Programs. When You Write Python Programs , It Converts Source Code Written By The Developer Into Intermediate Language Which Is Again Translated Into The Native Language / Machine Language That Is Executed.\n",
            "LIBRARY : A Python Library Is A Collection Of Related Modules. It Contains Bundles Of Code That Can Be Used Repeatedly In Different Programs. It Makes Python Programming Simpler And Convenient For The Programmer.\n"
          ]
        }
      ]
    },
    {
      "cell_type": "markdown",
      "source": [
        "Exercise 4: Rivers ☑️\n",
        "Make a dictionary containing three major rivers and the country each river runs through. One key-value pair might be 'nile': 'egypt'.\n",
        "\n",
        "Use a loop to print a sentence about each river, such as The Nile runs through Egypt.\n",
        "\n",
        "Use a loop to print the name of each river included in the dictionary.\n",
        "\n",
        "Use a loop to print the name of each country included in the dictionary."
      ],
      "metadata": {
        "id": "QxJOE7IGnkXW"
      }
    },
    {
      "cell_type": "code",
      "source": [
        "#using loops to perform some action\n",
        "\n",
        "rivers={'Nile':'Egypt',\n",
        "        'Mississipi':'United States',\n",
        "        'Angara':'Russia'}\n",
        "\n",
        "print('printing key-value pairs:')\n",
        "\n",
        "for key, value in rivers.items():\n",
        "  print(f'\\nKey: {key}')\n",
        "  print(f'Value: {value}')\n",
        "  print(f'The river {key} runs through {value}')\n",
        "\n",
        "print('The following set are included the set:')\n",
        "for river in rivers.keys():\n",
        "  print(f\"{river.title()}\")\n",
        "\n",
        "print('\\nThe following countries are included in the set: ')\n",
        "for country in rivers.values():\n",
        "  print(f\"{country.upper()}\")  "
      ],
      "metadata": {
        "colab": {
          "base_uri": "https://localhost:8080/"
        },
        "id": "L2lj7EWAnqDX",
        "outputId": "42321726-1195-4b9b-deae-ffa9c8f5357e"
      },
      "execution_count": 15,
      "outputs": [
        {
          "output_type": "stream",
          "name": "stdout",
          "text": [
            "printing key-value pairs:\n",
            "\n",
            "Key: Nile\n",
            "Value: Egypt\n",
            "The river Nile runs through Egypt\n",
            "\n",
            "Key: Mississipi\n",
            "Value: United States\n",
            "The river Mississipi runs through United States\n",
            "\n",
            "Key: Angara\n",
            "Value: Russia\n",
            "The river Angara runs through Russia\n",
            "The following set are included the set:\n",
            "Nile\n",
            "Mississipi\n",
            "Angara\n",
            "\n",
            "The following countries are included in the set: \n",
            "EGYPT\n",
            "UNITED STATES\n",
            "RUSSIA\n"
          ]
        }
      ]
    },
    {
      "cell_type": "markdown",
      "source": [
        "Exercise 5: Pets ☑️\n",
        "Make several dictionaries, where each dictionary represents a different pet. In each dictionary, include the kind of animal and the owner’s name. Store these dictionaries in a list called pets. Next, loop through your list and as you do, print everything you know about each pet."
      ],
      "metadata": {
        "id": "UlNRSXb4rWFo"
      }
    },
    {
      "cell_type": "code",
      "source": [
        "#using program to insert the kind of pet and it's owner name\n",
        "\n",
        "pet_1={'animal': 'Dog',\n",
        "       'owner': 'Hassan',\n",
        "       'color': 'Black and brown'}\n",
        "\n",
        "pet_2={'animal':'Cat',\n",
        "       'owner':'Taha',\n",
        "       'color':'White'}       \n",
        "\n",
        "pet_3={'animal': 'Goat',\n",
        "       'owner':'Mustafa',\n",
        "       'color':'White'}\n",
        "\n",
        "pet_4={'animal':'Snake',\n",
        "       'owner':'Patrick',\n",
        "       'color':'Black'}\n",
        "\n",
        "pet_5={'animal':'Eagle',\n",
        "       'owner':'Abood',\n",
        "       'color':'Brown'}\n",
        "\n",
        "pets=[pet_1,pet_2,pet_3,pet_4,pet_5]\n",
        "\n",
        "for pet in pets:\n",
        "  print(pet)\n",
        "  print('\\n')"
      ],
      "metadata": {
        "colab": {
          "base_uri": "https://localhost:8080/"
        },
        "id": "MmAu8hONrgIF",
        "outputId": "3ba43150-a4ef-4e4f-8bc0-e8860de0b961"
      },
      "execution_count": 17,
      "outputs": [
        {
          "output_type": "stream",
          "name": "stdout",
          "text": [
            "{'animal': 'Dog', 'owner': 'Hassan', 'color': 'Black and brown'}\n",
            "\n",
            "\n",
            "{'animal': 'Cat', 'owner': 'Taha', 'color': 'White'}\n",
            "\n",
            "\n",
            "{'animal': 'Goat', 'owner': 'Mustafa', 'color': 'White'}\n",
            "\n",
            "\n",
            "{'animal': 'Snake', 'owner': 'Patrick', 'color': 'Black'}\n",
            "\n",
            "\n",
            "{'animal': 'Eagle', 'owner': 'Abood', 'color': 'Brown'}\n",
            "\n",
            "\n"
          ]
        }
      ]
    }
  ]
}