{
  "nbformat": 4,
  "nbformat_minor": 0,
  "metadata": {
    "colab": {
      "provenance": [],
      "authorship_tag": "ABX9TyPga8UWf6HUNx8pCpN3zvey",
      "include_colab_link": true
    },
    "kernelspec": {
      "name": "python3",
      "display_name": "Python 3"
    },
    "language_info": {
      "name": "python"
    }
  },
  "cells": [
    {
      "cell_type": "markdown",
      "metadata": {
        "id": "view-in-github",
        "colab_type": "text"
      },
      "source": [
        "<a href=\"https://colab.research.google.com/github/tahanaasir/Taha/blob/main/Session_11.ipynb\" target=\"_parent\"><img src=\"https://colab.research.google.com/assets/colab-badge.svg\" alt=\"Open In Colab\"/></a>"
      ]
    },
    {
      "cell_type": "code",
      "execution_count": null,
      "metadata": {
        "colab": {
          "base_uri": "https://localhost:8080/"
        },
        "id": "ChealiAvCaz3",
        "outputId": "828bffa2-7585-4a60-f668-3ccb75c8a9f6"
      },
      "outputs": [
        {
          "output_type": "stream",
          "name": "stdout",
          "text": [
            "enter your choice of car brand\n",
            "nissan\n",
            "NISSAN  is available.\n"
          ]
        }
      ],
      "source": [
        "cars=['toyota', 'bmw', 'nissan', 'mercedes']\n",
        "print('enter your choice of car brand')\n",
        "user_car_choice=str(input())\n",
        "if user_car_choice in cars:\n",
        "  print(user_car_choice.upper(),' is available.')\n",
        "\n",
        "else:\n",
        "  print('Sorry!', user_car_choice.upper(),' is not available.')  "
      ]
    },
    {
      "cell_type": "code",
      "source": [
        "cars=['toyota', 'bmw', 'nissan', 'mercedes']\n",
        "print('enter your choice of car brand')\n",
        "user_car_choice=str(input())\n",
        "if user_car_choice in cars:\n",
        "  print(user_car_choice.upper(),' is available.')\n",
        "\n",
        "else:\n",
        "  print('Sorry!', user_car_choice.upper(),' is not available.')"
      ],
      "metadata": {
        "colab": {
          "base_uri": "https://localhost:8080/"
        },
        "id": "qxxNxWSMGacb",
        "outputId": "f3da55d7-7257-4156-fa15-9d0e4dcebf34"
      },
      "execution_count": null,
      "outputs": [
        {
          "output_type": "stream",
          "name": "stdout",
          "text": [
            "enter your choice of car brand\n",
            "tesla\n",
            "Sorry! TESLA  is not available.\n"
          ]
        }
      ]
    },
    {
      "cell_type": "code",
      "source": [
        "cars=['tesla', 'bently', 'rolls royce', 'astin martin']\n",
        "colors=['baig', 'red', 'orange', 'white']\n",
        "print('Enter your choice of car brand:')\n",
        "user_car_choice=str(input())\n",
        "if user_car_choice in cars:\n",
        "  print(user_car_choice.title(),' is available')\n",
        "  print('Enter choice of color:')\n",
        "  user_color_choice=str(input())\n",
        "  if user_color_choice in colors:\n",
        "    print(user_color_choice.upper(),' color', user_car_choice.title(),' is available')\n",
        "else:\n",
        "  print('Sorry!', user_car_choice.title(),' car is not available')    "
      ],
      "metadata": {
        "colab": {
          "base_uri": "https://localhost:8080/"
        },
        "id": "5ltOsyirJBit",
        "outputId": "9aae5aaf-cb4e-4c4f-9407-ebd967ba2419"
      },
      "execution_count": null,
      "outputs": [
        {
          "output_type": "stream",
          "name": "stdout",
          "text": [
            "Enter your choice of car brand:\n",
            "tesla\n",
            "Tesla  is available\n",
            "Enter choice of color:\n",
            "baig\n",
            "BAIG  color Tesla  is available\n"
          ]
        }
      ]
    },
    {
      "cell_type": "code",
      "source": [
        "cars=['tesla', 'bently', 'rolls royce', 'astin martin']\n",
        "colors=['baig', 'red', 'orange', 'white']\n",
        "print('Enter your choice of car brand:')\n",
        "user_car_choice=str(input())\n",
        "if user_car_choice in cars:\n",
        "  print(user_car_choice.title(),' is available')\n",
        "  print('Enter choice of color:')\n",
        "  user_color_choice=str(input())\n",
        "  if user_color_choice in colors:\n",
        "    print(user_color_choice.upper(),' color', user_car_choice.title(),' is available')\n",
        "else:\n",
        "  print('Sorry!', user_car_choice.title(),' car is not available')"
      ],
      "metadata": {
        "colab": {
          "base_uri": "https://localhost:8080/"
        },
        "id": "v20oUOnwK5vu",
        "outputId": "e2bf46eb-8c12-4d64-ffeb-e1acd4719650"
      },
      "execution_count": null,
      "outputs": [
        {
          "output_type": "stream",
          "name": "stdout",
          "text": [
            "Enter your choice of car brand:\n",
            "honda\n",
            "Sorry! Honda  car is not available\n"
          ]
        }
      ]
    },
    {
      "cell_type": "code",
      "source": [
        "for i in range(11):\n",
        "  print(i)"
      ],
      "metadata": {
        "colab": {
          "base_uri": "https://localhost:8080/"
        },
        "id": "qitI-dH5MVfE",
        "outputId": "dda56e25-dbd1-4323-ae09-610ad6f0d8a3"
      },
      "execution_count": null,
      "outputs": [
        {
          "output_type": "stream",
          "name": "stdout",
          "text": [
            "0\n",
            "1\n",
            "2\n",
            "3\n",
            "4\n",
            "5\n",
            "6\n",
            "7\n",
            "8\n",
            "9\n",
            "10\n"
          ]
        }
      ]
    },
    {
      "cell_type": "code",
      "source": [
        "for i in range(1,20):\n",
        "  print(i)"
      ],
      "metadata": {
        "colab": {
          "base_uri": "https://localhost:8080/"
        },
        "id": "tnb_TSGRMsK1",
        "outputId": "adcc1554-7af9-43d6-cdbd-3397c19d2d74"
      },
      "execution_count": null,
      "outputs": [
        {
          "output_type": "stream",
          "name": "stdout",
          "text": [
            "1\n",
            "2\n",
            "3\n",
            "4\n",
            "5\n",
            "6\n",
            "7\n",
            "8\n",
            "9\n",
            "10\n",
            "11\n",
            "12\n",
            "13\n",
            "14\n",
            "15\n",
            "16\n",
            "17\n",
            "18\n",
            "19\n"
          ]
        }
      ]
    },
    {
      "cell_type": "code",
      "source": [
        "#print pyramid of successsive numbers\n",
        "\n",
        "n=int(input('Enter the number of rows:'))\n",
        "for i in range(0,n):\n",
        "  for j in range(0,i+1):\n",
        "    print(j,end='')\n",
        "  print()"
      ],
      "metadata": {
        "colab": {
          "base_uri": "https://localhost:8080/"
        },
        "id": "aeunSgnDUn7Z",
        "outputId": "adee39af-49f2-4ad1-f571-6fa4619423ca"
      },
      "execution_count": null,
      "outputs": [
        {
          "output_type": "stream",
          "name": "stdout",
          "text": [
            "Enter the number of rows:8\n",
            "0\n",
            "01\n",
            "012\n",
            "0123\n",
            "01234\n",
            "012345\n",
            "0123456\n",
            "01234567\n"
          ]
        }
      ]
    },
    {
      "cell_type": "code",
      "source": [
        "#print pyramid of successsive numbers\n",
        "\n",
        "n=int(input('Enter the number of rows:'))\n",
        "for i in range(0,n):\n",
        "  for j in range(0,i+1):\n",
        "    print(\"*\",end='')\n",
        "  print()"
      ],
      "metadata": {
        "colab": {
          "base_uri": "https://localhost:8080/"
        },
        "id": "IfmzM3BYUwub",
        "outputId": "ba31d9b3-606a-44fa-832b-a13e61c0dfe1"
      },
      "execution_count": null,
      "outputs": [
        {
          "output_type": "stream",
          "name": "stdout",
          "text": [
            "Enter the number of rows:8\n",
            "*\n",
            "**\n",
            "***\n",
            "****\n",
            "*****\n",
            "******\n",
            "*******\n",
            "********\n"
          ]
        }
      ]
    },
    {
      "cell_type": "code",
      "source": [
        "for i in range(10,50,5):\n",
        "  print(i,end=' ')"
      ],
      "metadata": {
        "colab": {
          "base_uri": "https://localhost:8080/"
        },
        "id": "BUpjHpPVegIT",
        "outputId": "29f2bd27-4acb-4536-8042-c8ef7e714fbb"
      },
      "execution_count": null,
      "outputs": [
        {
          "output_type": "stream",
          "name": "stdout",
          "text": [
            "10 15 20 25 30 35 40 45 "
          ]
        }
      ]
    },
    {
      "cell_type": "code",
      "source": [
        "for i in range(1,20,2):\n",
        "  print(i,end=' ')"
      ],
      "metadata": {
        "colab": {
          "base_uri": "https://localhost:8080/"
        },
        "id": "12jdNj2-e8Bw",
        "outputId": "28563d37-2cac-46b1-eef3-c0d9abb8ef34"
      },
      "execution_count": null,
      "outputs": [
        {
          "output_type": "stream",
          "name": "stdout",
          "text": [
            "1 3 5 7 9 11 13 15 17 19 "
          ]
        }
      ]
    },
    {
      "cell_type": "code",
      "source": [
        "n=int(input('Enter the number of rows:'))\n",
        "for i in range(n,0,-1):\n",
        "  for j in range(0,i-1):\n",
        "    print(\"*\",end='')\n",
        "  print()"
      ],
      "metadata": {
        "colab": {
          "base_uri": "https://localhost:8080/"
        },
        "id": "J9ceZMbwfG9t",
        "outputId": "5d7e8960-49f7-4ce0-8d4a-9f022b420fe4"
      },
      "execution_count": null,
      "outputs": [
        {
          "output_type": "stream",
          "name": "stdout",
          "text": [
            "Enter the number of rows:8\n",
            "*******\n",
            "******\n",
            "*****\n",
            "****\n",
            "***\n",
            "**\n",
            "*\n",
            "\n"
          ]
        }
      ]
    },
    {
      "cell_type": "code",
      "source": [
        "n=int(input('Enter the number of rows:'))\n",
        "for i in range(n,0,-1):\n",
        "  for j in range(0,i+1):\n",
        "    print(\"*\",end='')\n",
        "  print()"
      ],
      "metadata": {
        "colab": {
          "base_uri": "https://localhost:8080/"
        },
        "id": "U0SMm4UBgZ6L",
        "outputId": "c188dd5f-1f6d-492a-9486-138c1c57a0b8"
      },
      "execution_count": null,
      "outputs": [
        {
          "output_type": "stream",
          "name": "stdout",
          "text": [
            "Enter the number of rows:8\n",
            "*********\n",
            "********\n",
            "*******\n",
            "******\n",
            "*****\n",
            "****\n",
            "***\n",
            "**\n"
          ]
        }
      ]
    },
    {
      "cell_type": "code",
      "source": [
        "n=int(input('Enter the number of rows:'))\n",
        "for i in range(n,0,-1):\n",
        "  for j in range(0,i+1):\n",
        "    print(j,end='')\n",
        "  print()"
      ],
      "metadata": {
        "colab": {
          "base_uri": "https://localhost:8080/"
        },
        "id": "HmIaiQ1ugv7Z",
        "outputId": "4ad128c3-8702-4c29-cae2-8c19e15db57d"
      },
      "execution_count": null,
      "outputs": [
        {
          "output_type": "stream",
          "name": "stdout",
          "text": [
            "Enter the number of rows:8\n",
            "012345678\n",
            "01234567\n",
            "0123456\n",
            "012345\n",
            "01234\n",
            "0123\n",
            "012\n",
            "01\n"
          ]
        }
      ]
    },
    {
      "cell_type": "code",
      "source": [
        "n=int(input('Enter the number of rows: '))\n",
        "i=1\n",
        "while i<=n:\n",
        "  j=1\n",
        "  while j<=i:\n",
        "    print((i*2-1),end=' ')\n",
        "    j=j+1\n",
        "  i=i+1\n",
        "  print() "
      ],
      "metadata": {
        "colab": {
          "base_uri": "https://localhost:8080/"
        },
        "id": "gfeAySi2iTH6",
        "outputId": "77872c85-5fb7-46c0-db93-0719e3c08515"
      },
      "execution_count": null,
      "outputs": [
        {
          "output_type": "stream",
          "name": "stdout",
          "text": [
            "Enter the number of rows: 7\n",
            "1 \n",
            "3 3 \n",
            "5 5 5 \n",
            "7 7 7 7 \n",
            "9 9 9 9 9 \n",
            "11 11 11 11 11 11 \n",
            "13 13 13 13 13 13 13 \n"
          ]
        }
      ]
    },
    {
      "cell_type": "code",
      "source": [
        "n=int(input('Enter the number of rows: '))\n",
        "i=1\n",
        "while i<=n:\n",
        "  j=1\n",
        "  while j<=i:\n",
        "    print((i*2),end=' ')\n",
        "    j=j+1\n",
        "  i=i+1\n",
        "  print() "
      ],
      "metadata": {
        "colab": {
          "base_uri": "https://localhost:8080/"
        },
        "id": "t0MBreP9jvBB",
        "outputId": "518bdd09-b720-42a0-c3bf-3fab086b9df9"
      },
      "execution_count": null,
      "outputs": [
        {
          "output_type": "stream",
          "name": "stdout",
          "text": [
            "Enter the number of rows: 7\n",
            "2 \n",
            "4 4 \n",
            "6 6 6 \n",
            "8 8 8 8 \n",
            "10 10 10 10 10 \n",
            "12 12 12 12 12 12 \n",
            "14 14 14 14 14 14 14 \n"
          ]
        }
      ]
    },
    {
      "cell_type": "code",
      "source": [
        "n=int(input('Enter the number of rows: '))\n",
        "i=1\n",
        "while i<=n:\n",
        "  j=1\n",
        "  while j<=i:\n",
        "    print((i*1),end=' ')\n",
        "    j=j+1\n",
        "  i=i+1\n",
        "  print() "
      ],
      "metadata": {
        "colab": {
          "base_uri": "https://localhost:8080/"
        },
        "id": "-uh--iFikY4m",
        "outputId": "99a6090c-9f4f-44f7-da2f-d7a4b1003108"
      },
      "execution_count": null,
      "outputs": [
        {
          "output_type": "stream",
          "name": "stdout",
          "text": [
            "Enter the number of rows: 8\n",
            "1 \n",
            "2 2 \n",
            "3 3 3 \n",
            "4 4 4 4 \n",
            "5 5 5 5 5 \n",
            "6 6 6 6 6 6 \n",
            "7 7 7 7 7 7 7 \n",
            "8 8 8 8 8 8 8 8 \n"
          ]
        }
      ]
    },
    {
      "cell_type": "code",
      "source": [
        "n=int(input('Enter the number of rows:'))\n",
        "m = n\n",
        "for i in range(0,n):\n",
        "  for j in range(0, m):\n",
        "    print(end=' ')\n",
        "\n",
        "  m = m - 1\n",
        "  for j in range(0, i + 1):\n",
        "     print('*', end=' ')\n",
        "  print()    "
      ],
      "metadata": {
        "colab": {
          "base_uri": "https://localhost:8080/"
        },
        "id": "ZwkVXbZ0kdJu",
        "outputId": "34ef7986-587f-4849-ea99-27dedfde4aae"
      },
      "execution_count": null,
      "outputs": [
        {
          "output_type": "stream",
          "name": "stdout",
          "text": [
            "Enter the number of rows:8\n",
            "        * \n",
            "       * * \n",
            "      * * * \n",
            "     * * * * \n",
            "    * * * * * \n",
            "   * * * * * * \n",
            "  * * * * * * * \n",
            " * * * * * * * * \n"
          ]
        }
      ]
    }
  ]
}