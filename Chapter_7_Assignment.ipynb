{
  "nbformat": 4,
  "nbformat_minor": 0,
  "metadata": {
    "colab": {
      "provenance": [],
      "collapsed_sections": [],
      "authorship_tag": "ABX9TyOnF3TUgEWtjrQ637MQYz0o",
      "include_colab_link": true
    },
    "kernelspec": {
      "name": "python3",
      "display_name": "Python 3"
    },
    "language_info": {
      "name": "python"
    }
  },
  "cells": [
    {
      "cell_type": "markdown",
      "metadata": {
        "id": "view-in-github",
        "colab_type": "text"
      },
      "source": [
        "<a href=\"https://colab.research.google.com/github/tahanaasir/Taha/blob/main/Chapter_7_Assignment.ipynb\" target=\"_parent\"><img src=\"https://colab.research.google.com/assets/colab-badge.svg\" alt=\"Open In Colab\"/></a>"
      ]
    },
    {
      "cell_type": "markdown",
      "source": [
        "Exercise 1: Message ☑️\n",
        "Write a function called display_message() that prints one sentence telling everyone what you are learning about in this chapter. Call the function, and make sure the message displays correctly."
      ],
      "metadata": {
        "id": "9dzCHOCKLvhR"
      }
    },
    {
      "cell_type": "code",
      "execution_count": null,
      "metadata": {
        "colab": {
          "base_uri": "https://localhost:8080/"
        },
        "id": "70L-mkvJLoiw",
        "outputId": "4d5055bf-d592-46f7-ec73-8b52bccb8c2b"
      },
      "outputs": [
        {
          "output_type": "stream",
          "name": "stdout",
          "text": [
            "I am learning functions in Python! I love enjoying everything.\n"
          ]
        }
      ],
      "source": [
        "def display_message():                    #using def to create a user defined function\n",
        "  print('I am learning functions in Python! I love enjoying everything.')     #message in side the function\n",
        "#typing function name to call it out  \n",
        "display_message()  "
      ]
    },
    {
      "cell_type": "markdown",
      "source": [
        "Exercise 2: Favorite Book ☑️\n",
        "Write a function called favorite_book() that accepts one parameter, title. The function should print a message, such as One of my favorite books is Alice in Wonderland. Call the function, making sure to include a book title as an argument in the function call."
      ],
      "metadata": {
        "id": "nOPFPsMvOCnq"
      }
    },
    {
      "cell_type": "code",
      "source": [
        "def favourite_book(book):      #function that has one parameter\n",
        "  print(f'One of my favourite book is {book.upper()}.')    #message to be printed\n",
        "\n",
        "#calling out the data written between the brackets gets stored in parameter(book)\n",
        "favourite_book('Oliver Twist')  "
      ],
      "metadata": {
        "colab": {
          "base_uri": "https://localhost:8080/"
        },
        "id": "trNbDT2aOJHB",
        "outputId": "803568a0-44b9-4684-8e72-6f4ebddd892c"
      },
      "execution_count": null,
      "outputs": [
        {
          "output_type": "stream",
          "name": "stdout",
          "text": [
            "One of my favourite book is OLIVER TWIST.\n"
          ]
        }
      ]
    },
    {
      "cell_type": "markdown",
      "source": [
        "Exercise 3: T-Shirt ☑️\n",
        "Write a function called make_shirt() that accepts a size and the text of a message that should be printed on the shirt. The function should print a sentence summarizing the size of the shirt and the message printed on it. Call the function once using positional arguments to make a shirt. Call the function a second time using keyword arguments."
      ],
      "metadata": {
        "id": "ABK5idqEPd2v"
      }
    },
    {
      "cell_type": "code",
      "source": [
        "#definition with two parameters\n",
        "def make_shirt(size,message):\n",
        "  print(f\"\\nThe size of the shirt is {size} and message to be printed is {message.upper()}\")\n",
        "make_shirt(35, 'yolo')       #Function call with two parameters"
      ],
      "metadata": {
        "colab": {
          "base_uri": "https://localhost:8080/"
        },
        "id": "wSHbYVJtPj1b",
        "outputId": "6d157fc9-54d2-425d-8f80-18953f3aac92"
      },
      "execution_count": null,
      "outputs": [
        {
          "output_type": "stream",
          "name": "stdout",
          "text": [
            "\n",
            "The size of the shirt is 35 and message to be printed is YOLO\n"
          ]
        }
      ]
    },
    {
      "cell_type": "markdown",
      "source": [
        "Exercise 4: Large Shirts ☑️\n",
        "Modify the make_shirt() function so that shirts are large by default with a message that reads I love Python. Make a large shirt and a medium shirt with the default message, and a shirt of any size with a different message."
      ],
      "metadata": {
        "id": "O-iyOvJURN9I"
      }
    },
    {
      "cell_type": "code",
      "source": [
        "#a program to tell size of the shirt and message to be written on it\n",
        "def make_shirt(size='Large', message='I love Python'):\n",
        "  print(f\"\\nThe size of the shirt is {size} and message to be printed is message {message.title()}\")\n",
        "make_shirt()    #shirts size are large by the default with the message I love pyhton\n",
        "make_shirt(size='Medium and Large')\n",
        "make_shirt(size='XXL', message='Essentials'.upper())  "
      ],
      "metadata": {
        "colab": {
          "base_uri": "https://localhost:8080/"
        },
        "id": "Glx8lzB4RSpi",
        "outputId": "df993a20-cb56-4f11-8d4b-f5bf5259ea4a"
      },
      "execution_count": null,
      "outputs": [
        {
          "output_type": "stream",
          "name": "stdout",
          "text": [
            "\n",
            "The size of the shirt is Large and message to be printed is message I Love Python\n",
            "\n",
            "The size of the shirt is Medium and Large and message to be printed is message I Love Python\n",
            "\n",
            "The size of the shirt is XXL and message to be printed is message Essentials\n"
          ]
        }
      ]
    },
    {
      "cell_type": "markdown",
      "source": [
        "Exercise 5: Cities\n",
        "Write a function called describe_city() that accepts the name of a city and its country. The function should print a simple sentence, such as Reykjavik is in Iceland. Give the parameter for the country a default value.\n",
        "\n",
        "Call your function for three different cities, at least one of which is not in the default country."
      ],
      "metadata": {
        "id": "9Ewv9VsCSxwO"
      }
    },
    {
      "cell_type": "code",
      "source": [
        "#a program to describe a city and where it is located\n",
        "def describe_city(city, country='United Arab Emirates'):\n",
        "  print(f\"\\n{city.title()} is in {country.title()}\")\n",
        "\n",
        "describe_city('Abu Dhabi')\n",
        "describe_city('reykjavik', 'iceland')\n",
        "describe_city('Dubai')"
      ],
      "metadata": {
        "colab": {
          "base_uri": "https://localhost:8080/"
        },
        "id": "itaExveASuD_",
        "outputId": "62595708-d34c-43a6-bfd4-2da4ca526046"
      },
      "execution_count": null,
      "outputs": [
        {
          "output_type": "stream",
          "name": "stdout",
          "text": [
            "\n",
            "Abu Dhabi is in United Arab Emirates\n",
            "\n",
            "Reykjavik is in Iceland\n",
            "\n",
            "Dubai is in United Arab Emirates\n"
          ]
        }
      ]
    }
  ]
}