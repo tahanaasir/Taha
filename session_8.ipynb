{
  "nbformat": 4,
  "nbformat_minor": 0,
  "metadata": {
    "colab": {
      "provenance": [],
      "authorship_tag": "ABX9TyPDDDEMTOe+IeHjYY+zh43D",
      "include_colab_link": true
    },
    "kernelspec": {
      "name": "python3",
      "display_name": "Python 3"
    },
    "language_info": {
      "name": "python"
    }
  },
  "cells": [
    {
      "cell_type": "markdown",
      "metadata": {
        "id": "view-in-github",
        "colab_type": "text"
      },
      "source": [
        "<a href=\"https://colab.research.google.com/github/tahanaasir/Taha/blob/main/session_8.ipynb\" target=\"_parent\"><img src=\"https://colab.research.google.com/assets/colab-badge.svg\" alt=\"Open In Colab\"/></a>"
      ]
    },
    {
      "cell_type": "markdown",
      "source": [
        "Program 1:\n",
        "Write a program to print numbers from 1 to 10 using while loop."
      ],
      "metadata": {
        "id": "dzoBHw_X5aWs"
      }
    },
    {
      "cell_type": "code",
      "execution_count": null,
      "metadata": {
        "colab": {
          "base_uri": "https://localhost:8080/"
        },
        "id": "UHXf-Q1y3lhY",
        "outputId": "d1b8824b-7b2c-419e-9cd9-d04b9e7c975f"
      },
      "outputs": [
        {
          "output_type": "stream",
          "name": "stdout",
          "text": [
            "1\n",
            "2\n",
            "3\n",
            "4\n",
            "5\n",
            "6\n",
            "7\n",
            "8\n",
            "9\n",
            "10\n"
          ]
        }
      ],
      "source": [
        "# using while loop, print 1 to 10 \n",
        "count= 1\n",
        "\n",
        "while count<=10:\n",
        "  print(count)\n",
        "  count=count+1"
      ]
    },
    {
      "cell_type": "markdown",
      "source": [
        "Program 2: Consider a program that asks the user about places they love to visit. We can stop the while loop in this program by calling break as soon as the user enters the 'quit' value."
      ],
      "metadata": {
        "id": "U2KZsjpc5kOF"
      }
    },
    {
      "cell_type": "code",
      "source": [
        "# using while break, print the places you love to visit\n",
        "\n",
        "city_name= '\\nPlease enter the name the city that you would love to visit:'\n",
        "city_name+= '\\nEnter quit when you are finished'\n",
        "\n",
        "while True:\n",
        " city= input(city_name)\n",
        " if city=='quit':\n",
        "  break\n",
        " else:\n",
        "  print('I would love to go to', city.title(), '!')  "
      ],
      "metadata": {
        "colab": {
          "base_uri": "https://localhost:8080/"
        },
        "id": "jd8Yu6ja5DD6",
        "outputId": "5736edd7-43b7-47ee-eedb-39ee6ae18577"
      },
      "execution_count": null,
      "outputs": [
        {
          "name": "stdout",
          "output_type": "stream",
          "text": [
            "\n",
            "Please enter the name the city that you would love to visit:\n",
            "Enter quit when you are finishedLA\n",
            "I would love to go to La !\n",
            "\n",
            "Please enter the name the city that you would love to visit:\n",
            "Enter quit when you are finishedlas vegas\n",
            "I would love to go to Las Vegas !\n",
            "\n",
            "Please enter the name the city that you would love to visit:\n",
            "Enter quit when you are finishedquit\n"
          ]
        }
      ]
    },
    {
      "cell_type": "markdown",
      "source": [
        "Program 3:\n",
        "Write a loop that counts from 1 to 10 but prints only the odd numbers in that range."
      ],
      "metadata": {
        "id": "g32zNl675o7i"
      }
    },
    {
      "cell_type": "code",
      "source": [
        "# while loop -continue\n",
        "\n",
        "count=0 \n",
        "while count<10:\n",
        "  count+=1\n",
        "  if count%2==0:\n",
        "    continue\n",
        "  print(count)\n",
        "else:\n",
        "   print('Loop terminated as number exeeds 10')   "
      ],
      "metadata": {
        "colab": {
          "base_uri": "https://localhost:8080/"
        },
        "id": "TBD9vQb5-T47",
        "outputId": "5665089b-80db-43a3-da75-fecbe7248e5e"
      },
      "execution_count": null,
      "outputs": [
        {
          "output_type": "stream",
          "name": "stdout",
          "text": [
            "1\n",
            "3\n",
            "5\n",
            "7\n",
            "9\n",
            "Loop terminated as number exeeds 10\n"
          ]
        }
      ]
    },
    {
      "cell_type": "markdown",
      "source": [
        "Program 4:\n",
        "Write a program to print the all the elements in a list datatype using for loop."
      ],
      "metadata": {
        "id": "G-Eum1336PJy"
      }
    },
    {
      "cell_type": "code",
      "source": [
        "flowers=['jasmine', 'rose', 'sunflower', 'lily']\n",
        "for flowers in flowers:\n",
        "  print(flowers)"
      ],
      "metadata": {
        "colab": {
          "base_uri": "https://localhost:8080/"
        },
        "id": "WWZSYUntBjh7",
        "outputId": "10a01aba-403a-451e-accd-06bb88b4167e"
      },
      "execution_count": null,
      "outputs": [
        {
          "output_type": "stream",
          "name": "stdout",
          "text": [
            "jasmine\n",
            "rose\n",
            "sunflower\n",
            "lily\n"
          ]
        }
      ]
    },
    {
      "cell_type": "markdown",
      "source": [
        "Program 5:\n",
        "Create a dictionary data-type of a student with name, id and course.\n",
        "Write a program to use all items, keys and values in the dictionary variable using for loop."
      ],
      "metadata": {
        "id": "ToRYG37D6TlQ"
      }
    },
    {
      "cell_type": "code",
      "source": [
        "student = {'name': 'Taha Nasir', 'id': 2022-519 , 'course': 'BSC CC'}\n",
        "print('Display key-value pairs')\n",
        "for key, value in student.items():  #Read all items\n",
        " print(f\"\\nKey: {key}\")\n",
        " print(f\"Value: {value}\")\n",
        "\n",
        " print('\\nDisplay only keys')\n",
        " for key in student.keys():\n",
        "   print(key)\n",
        "\n",
        "   print('\\nDisplay only values')\n",
        "   for value in student.values():\n",
        "     print(value)\n",
        "\n",
        "student['gender']= 'Male'\n",
        "print(student)     "
      ],
      "metadata": {
        "colab": {
          "base_uri": "https://localhost:8080/"
        },
        "id": "MYWQcHLjCKTa",
        "outputId": "77e26b7b-e502-4f9a-f696-5862110a093b"
      },
      "execution_count": null,
      "outputs": [
        {
          "output_type": "stream",
          "name": "stdout",
          "text": [
            "Display key-value pairs\n",
            "\n",
            "Key: name\n",
            "Value: Taha Nasir\n",
            "\n",
            "Display only keys\n",
            "name\n",
            "\n",
            "Display only values\n",
            "Taha Nasir\n",
            "1503\n",
            "BSC CC\n",
            "id\n",
            "\n",
            "Display only values\n",
            "Taha Nasir\n",
            "1503\n",
            "BSC CC\n",
            "course\n",
            "\n",
            "Display only values\n",
            "Taha Nasir\n",
            "1503\n",
            "BSC CC\n",
            "\n",
            "Key: id\n",
            "Value: 1503\n",
            "\n",
            "Display only keys\n",
            "name\n",
            "\n",
            "Display only values\n",
            "Taha Nasir\n",
            "1503\n",
            "BSC CC\n",
            "id\n",
            "\n",
            "Display only values\n",
            "Taha Nasir\n",
            "1503\n",
            "BSC CC\n",
            "course\n",
            "\n",
            "Display only values\n",
            "Taha Nasir\n",
            "1503\n",
            "BSC CC\n",
            "\n",
            "Key: course\n",
            "Value: BSC CC\n",
            "\n",
            "Display only keys\n",
            "name\n",
            "\n",
            "Display only values\n",
            "Taha Nasir\n",
            "1503\n",
            "BSC CC\n",
            "id\n",
            "\n",
            "Display only values\n",
            "Taha Nasir\n",
            "1503\n",
            "BSC CC\n",
            "course\n",
            "\n",
            "Display only values\n",
            "Taha Nasir\n",
            "1503\n",
            "BSC CC\n",
            "{'name': 'Taha Nasir', 'id': 1503, 'course': 'BSC CC', 'gender': 'Male'}\n"
          ]
        }
      ]
    },
    {
      "cell_type": "markdown",
      "source": [
        "Program 7:\n",
        "Make a list of the students with name, id and course and gender. Use for loop to print your list."
      ],
      "metadata": {
        "id": "s9G6dL8j6o_G"
      }
    },
    {
      "cell_type": "code",
      "source": [
        "student1= {'name': 'Ralph', 'id': '5', 'course': 'BSC CC'}\n",
        "student2= {'name': 'Joe', 'id': '14', 'course': 'BSC CC'}\n",
        "student3= {'name': 'Anaya', 'id': '10', 'course': 'BSC CC'}\n",
        "student4= {'name': 'Kobe', 'id': '15', 'course': 'BSC CC'}\n",
        "student= [student1,student2,student3,student4]\n",
        "for std in student:\n",
        "  print(std)"
      ],
      "metadata": {
        "colab": {
          "base_uri": "https://localhost:8080/"
        },
        "id": "NO0NXUncF2Vc",
        "outputId": "19182aae-b605-471d-d6c8-0ed60382944b"
      },
      "execution_count": null,
      "outputs": [
        {
          "output_type": "stream",
          "name": "stdout",
          "text": [
            "{'name': 'Ralph', 'id': '5', 'course': 'BSC CC'}\n",
            "{'name': 'Joe', 'id': '14', 'course': 'BSC CC'}\n",
            "{'name': 'Anaya', 'id': '10', 'course': 'BSC CC'}\n",
            "{'name': 'Kobe', 'id': '15', 'course': 'BSC CC'}\n"
          ]
        }
      ]
    },
    {
      "cell_type": "markdown",
      "source": [
        "Program 8:\n",
        "Make a list called sandwich_orders and fill it with the names of various sandwiches. Then make an empty list called finished_sandwiches. Loop through the list of sandwich orders and print a message for each order, such as I made your tuna sandwich. As each sandwich is made, move it to the list of finished sandwiches. After all the sandwiches have been made, print a message listing each sandwich that was made."
      ],
      "metadata": {
        "id": "zuLuJTIG6ySb"
      }
    },
    {
      "cell_type": "code",
      "source": [
        "sandwich_orders=['Beef','Chicken','Turkey','Hotdog']\n",
        "finished_sandwich=[]\n",
        "\n",
        "while sandwich_orders:\n",
        "  current_sandwich = sandwich_orders.pop()\n",
        "  print(\"I made your \" + current_sandwich + \" sandwich.\")\n",
        "  finished_sandwich.append(current_sandwich)\n",
        "\n",
        "print(\"\\n\")\n",
        "print('Sandwich Orders:')\n",
        "for sandwich in finished_sandwich:\n",
        "  print(sandwich,'Sandwich')  "
      ],
      "metadata": {
        "colab": {
          "base_uri": "https://localhost:8080/"
        },
        "id": "1IG0vjppKdtl",
        "outputId": "e585a88d-6acb-43ca-cdb0-35dd39b3dc13"
      },
      "execution_count": null,
      "outputs": [
        {
          "output_type": "stream",
          "name": "stdout",
          "text": [
            "I made your Hotdog sandwich.\n",
            "I made your Turkey sandwich.\n",
            "I made your Chicken sandwich.\n",
            "I made your Beef sandwich.\n",
            "\n",
            "\n",
            "Sandwich Orders:\n",
            "Hotdog Sandwich\n",
            "Turkey Sandwich\n",
            "Chicken Sandwich\n",
            "Beef Sandwich\n"
          ]
        }
      ]
    },
    {
      "cell_type": "markdown",
      "source": [
        "Program 9:\n",
        "Create a function called greet_user that display simple greetings. Call the function to displays message."
      ],
      "metadata": {
        "id": "9JlPfFYh6-xn"
      }
    },
    {
      "cell_type": "code",
      "source": [
        "#creating a function definition\n",
        "def greet_user():\n",
        "  print('Hello! My name is Taha Nasir.')\n",
        "greet_user()"
      ],
      "metadata": {
        "colab": {
          "base_uri": "https://localhost:8080/"
        },
        "id": "j0d4UOR07Dth",
        "outputId": "c74817c7-d723-4966-d4c0-330213297727"
      },
      "execution_count": null,
      "outputs": [
        {
          "output_type": "stream",
          "name": "stdout",
          "text": [
            "Hello! My name is Taha Nasir.\n"
          ]
        }
      ]
    },
    {
      "cell_type": "markdown",
      "source": [
        "Program 10:\n",
        "Define a function with parameter to display simple greetings."
      ],
      "metadata": {
        "id": "QHRvYQUv7rj2"
      }
    },
    {
      "cell_type": "code",
      "source": [
        "#funtions definition with parameter to Display a simple greeting \n",
        "def greet_user(username):\n",
        "  print(f'Hello!, {username.title()}')\n",
        "greet_user('Taha Nasir')  "
      ],
      "metadata": {
        "colab": {
          "base_uri": "https://localhost:8080/"
        },
        "id": "w7bnE19e7vgW",
        "outputId": "0b8f395f-4ecd-4160-a1a7-6e784de3711a"
      },
      "execution_count": null,
      "outputs": [
        {
          "output_type": "stream",
          "name": "stdout",
          "text": [
            "Hello!, Taha Nasir\n"
          ]
        }
      ]
    },
    {
      "cell_type": "markdown",
      "source": [
        "Program  11:\n",
        "Define a function with two parameters."
      ],
      "metadata": {
        "id": "p3P6Ixfu8leh"
      }
    },
    {
      "cell_type": "code",
      "source": [
        "#funtions definitions with two parameters\n",
        "def student(name,id):\n",
        "  print(f'\\nStudent name is {name.title()} and ID is 2022519')\n",
        "student(name = 'Taha', id = '2022519')  "
      ],
      "metadata": {
        "colab": {
          "base_uri": "https://localhost:8080/"
        },
        "id": "SI62lUfZ8p4z",
        "outputId": "86983009-f072-424b-9c07-b1393453dc2f"
      },
      "execution_count": null,
      "outputs": [
        {
          "output_type": "stream",
          "name": "stdout",
          "text": [
            "\n",
            "Student name is Taha and ID is 2022519\n"
          ]
        }
      ]
    }
  ]
}