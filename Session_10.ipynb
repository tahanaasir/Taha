{
  "nbformat": 4,
  "nbformat_minor": 0,
  "metadata": {
    "colab": {
      "provenance": [],
      "authorship_tag": "ABX9TyNIyVk4FkBeRLqZrYpQRiTI",
      "include_colab_link": true
    },
    "kernelspec": {
      "name": "python3",
      "display_name": "Python 3"
    },
    "language_info": {
      "name": "python"
    }
  },
  "cells": [
    {
      "cell_type": "markdown",
      "metadata": {
        "id": "view-in-github",
        "colab_type": "text"
      },
      "source": [
        "<a href=\"https://colab.research.google.com/github/tahanaasir/Taha/blob/main/Session_10.ipynb\" target=\"_parent\"><img src=\"https://colab.research.google.com/assets/colab-badge.svg\" alt=\"Open In Colab\"/></a>"
      ]
    },
    {
      "cell_type": "markdown",
      "source": [
        "Program 1:\n",
        "Declare 2 Tuples comprising of flowers and vegetables. \n",
        "i.\tAccess the elements of the tuples using index.\n",
        "ii.\tAccess all the elements together in each tuple using index.\n",
        "iii.\tAccess all the elements together in each tuple using for loop."
      ],
      "metadata": {
        "id": "V_U0W_-DNb5B"
      }
    },
    {
      "cell_type": "code",
      "execution_count": null,
      "metadata": {
        "colab": {
          "base_uri": "https://localhost:8080/"
        },
        "id": "YOB-QjTD-nhO",
        "outputId": "7fea0a0f-8cce-4e7b-d793-6f3b895838dd"
      },
      "outputs": [
        {
          "output_type": "stream",
          "name": "stdout",
          "text": [
            "The 1st element of tuple_1 is  jasmine\n",
            "The 2nd element of tuple_1 is  rose\n",
            "The 3rd element of tuple_1 is  lily\n",
            "The 4th element of tuple_1 is  sunflower\n",
            "The 1st element of tuple_2 is  tomato\n",
            "The 2nd element of tuple_2 is  potato\n",
            "The 3rd element of tuple_2 is  cauliflower\n",
            "The 4th element of tuple_2 is  onion\n",
            "The elements of tuple_1 is  ('jasmine', 'rose', 'lily', 'sunflower')\n",
            "The elements of tuple_2 is  ('tomato', 'potato', 'cauliflower', 'onion')\n",
            "tuple_1 elements are: \n",
            "jasmine rose lily sunflower tuple_1 elements are: \n",
            "tomato potato cauliflower onion "
          ]
        }
      ],
      "source": [
        "tuple_1= ('jasmine', 'rose', 'lily', 'sunflower')\n",
        "tuple_2= ('tomato', 'potato', 'cauliflower', 'onion')\n",
        "\n",
        "print('The 1st element of tuple_1 is ',tuple_1[0])\n",
        "print('The 2nd element of tuple_1 is ',tuple_1[1])\n",
        "print('The 3rd element of tuple_1 is ',tuple_1[2])\n",
        "print('The 4th element of tuple_1 is ',tuple_1[3])\n",
        "print('The 1st element of tuple_2 is ',tuple_2[0])\n",
        "print('The 2nd element of tuple_2 is ',tuple_2[1])\n",
        "print('The 3rd element of tuple_2 is ',tuple_2[2])\n",
        "print('The 4th element of tuple_2 is ',tuple_2[3])\n",
        "\n",
        "print('The elements of tuple_1 is ',tuple_1[0:4])\n",
        "print('The elements of tuple_2 is ',tuple_2[0:4])\n",
        "\n",
        "print('tuple_1 elements are: ')\n",
        "for i in tuple_1:\n",
        "  print(i,end=' ')\n",
        "\n",
        "print('tuple_1 elements are: ')\n",
        "for i in tuple_2:\n",
        "  print(i,end=' ')  "
      ]
    },
    {
      "cell_type": "markdown",
      "source": [
        "Declare 2 Tuples comprising of 4 leap years and 4 non leap years\n",
        "i.\tPrint tuples\n",
        "ii.\tConcatenate 2 tuples\n",
        "iii.\tMultiple each tuple 3 times\n",
        "iv.\tCompare 2 tuples\n",
        "v.\tFind the length of tuples\n",
        "vi.\tFind the sum of elements in each of the tuples\n",
        "vii.\tSort the elements in each of the tuples\n",
        "viii.\tSwap the tuples"
      ],
      "metadata": {
        "id": "oJ8-7EOuNjPw"
      }
    },
    {
      "cell_type": "code",
      "source": [
        "leap_year=(2024,2028,2032,2036)\n",
        "non_leap_year=(2023,2025,2026,2027)\n",
        "\n",
        "print('The list of leap years is ',leap_year[0:5])\n",
        "print('The list non leap years is ',non_leap_year[0:5])\n",
        "\n",
        "print('The list of leap year and non leap are:\\n',leap_year+non_leap_year)\n",
        "\n",
        "print(leap_year*3)\n",
        "\n",
        "print(leap_year==non_leap_year)\n",
        "\n",
        "print(len(leap_year))\n",
        "print(len(non_leap_year))\n",
        "\n",
        "print(sum(leap_year))\n",
        "print(sum(non_leap_year))\n",
        "\n",
        "print(sorted(leap_year))\n",
        "print(sorted(non_leap_year))\n",
        "\n",
        "leap_year,non_leap_year=non_leap_year,leap_year\n",
        "print('4 leap years: ',leap_year)\n",
        "print('4 non leap years: ',non_leap_year)"
      ],
      "metadata": {
        "colab": {
          "base_uri": "https://localhost:8080/"
        },
        "id": "95nf7k9vE6f9",
        "outputId": "8feabde9-9878-4924-e61b-f7136b4f022e"
      },
      "execution_count": null,
      "outputs": [
        {
          "output_type": "stream",
          "name": "stdout",
          "text": [
            "The list of leap years is  (2024, 2028, 2032, 2036)\n",
            "The list non leap years is  (2023, 2025, 2026, 2027)\n",
            "The list of leap year and non leap are:\n",
            " (2024, 2028, 2032, 2036, 2023, 2025, 2026, 2027)\n",
            "(2024, 2028, 2032, 2036, 2024, 2028, 2032, 2036, 2024, 2028, 2032, 2036)\n",
            "False\n",
            "4\n",
            "4\n",
            "8120\n",
            "8101\n",
            "[2024, 2028, 2032, 2036]\n",
            "[2023, 2025, 2026, 2027]\n",
            "4 leap years:  (2023, 2025, 2026, 2027)\n",
            "4 non leap years:  (2024, 2028, 2032, 2036)\n"
          ]
        }
      ]
    },
    {
      "cell_type": "markdown",
      "source": [
        "Program 3:\n",
        "Using lambda within function - write a program to double the number."
      ],
      "metadata": {
        "id": "aD2xeGx3Nr6X"
      }
    },
    {
      "cell_type": "code",
      "source": [
        "def myfunc(n):\n",
        "  return lambda a : a * n\n",
        "mydoubler = myfunc(2) \n",
        "a = int(input('Enter the number to be doubled '))\n",
        "print('The doubled value is ', mydoubler(a))   "
      ],
      "metadata": {
        "colab": {
          "base_uri": "https://localhost:8080/"
        },
        "id": "aFO_eLUKNxRH",
        "outputId": "c2fe886d-9018-4b05-85b6-04dea05fdb58"
      },
      "execution_count": null,
      "outputs": [
        {
          "output_type": "stream",
          "name": "stdout",
          "text": [
            "Enter the number to be doubled 77\n",
            "The doubled value is  154\n"
          ]
        }
      ]
    }
  ]
}