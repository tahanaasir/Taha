{
  "nbformat": 4,
  "nbformat_minor": 0,
  "metadata": {
    "colab": {
      "provenance": [],
      "authorship_tag": "ABX9TyPXWjCE/YCZio6uc2snFu1K",
      "include_colab_link": true
    },
    "kernelspec": {
      "name": "python3",
      "display_name": "Python 3"
    },
    "language_info": {
      "name": "python"
    }
  },
  "cells": [
    {
      "cell_type": "markdown",
      "metadata": {
        "id": "view-in-github",
        "colab_type": "text"
      },
      "source": [
        "<a href=\"https://colab.research.google.com/github/tahanaasir/Taha/blob/main/Session_14.ipynb\" target=\"_parent\"><img src=\"https://colab.research.google.com/assets/colab-badge.svg\" alt=\"Open In Colab\"/></a>"
      ]
    },
    {
      "cell_type": "markdown",
      "source": [
        "Program 1: Write a program to find Largest Number and index position of the Largest Number in an Array."
      ],
      "metadata": {
        "id": "QZCiFeGQUCcN"
      }
    },
    {
      "cell_type": "code",
      "source": [
        "import numpy as np\n",
        "arr=np.array([14,12,36,8,5,26])\n",
        "\n",
        "largest=arr[0]\n",
        "\n",
        "for i in range (1, len(arr)-1):\n",
        "  if (largest < arr[i]):\n",
        "    largest = arr[i]\n",
        "    largest_number_position = i\n",
        "\n",
        "print('Largest Number in the array is: ', largest)\n",
        "print('Index Position of the largest number is: ', largest_number_position)    "
      ],
      "metadata": {
        "id": "XPVBCfIhUDeM",
        "colab": {
          "base_uri": "https://localhost:8080/"
        },
        "outputId": "46d69691-1d7b-4ccf-fecb-1bb63ab027d7"
      },
      "execution_count": null,
      "outputs": [
        {
          "output_type": "stream",
          "name": "stdout",
          "text": [
            "Largest Number in the array is:  36\n",
            "Index Position of the largest number is:  2\n"
          ]
        }
      ]
    },
    {
      "cell_type": "markdown",
      "source": [
        "Program 2: Write a program to Print Array Elements Present on Even Position."
      ],
      "metadata": {
        "id": "sSyGGEpPYGpT"
      }
    },
    {
      "cell_type": "code",
      "source": [
        "import numpy as np \n",
        "arr=np.array([1,2,3,4,5])\n",
        "arr = [1, 2, 3, 4, 5];\n",
        "print(\"Elements of given array present on even position: \");\n",
        "for i in range(1, len(arr), 2):    \n",
        "    print(arr[i]);  "
      ],
      "metadata": {
        "colab": {
          "base_uri": "https://localhost:8080/"
        },
        "id": "LJ_YLIrzYIdd",
        "outputId": "eeaf684d-b843-484d-9c1d-ae307dea8c25"
      },
      "execution_count": null,
      "outputs": [
        {
          "output_type": "stream",
          "name": "stdout",
          "text": [
            "Elements of given array present on even position: \n",
            "2\n",
            "4\n"
          ]
        }
      ]
    },
    {
      "cell_type": "markdown",
      "source": [
        "Program 3: Write a program to Print Array Elements Present on odd Position."
      ],
      "metadata": {
        "id": "w51HUXW8afnw"
      }
    },
    {
      "cell_type": "code",
      "source": [
        "import numpy as np \n",
        "arr=np.array([22,47,16,808,12,44,66,188])\n",
        "arr = [22,47,16,808,12,44,66,188]; \n",
        "print(\"Elements of given array present on odd position: \"); \n",
        "for i in range(0, len(arr), 2):    \n",
        "    print(arr[i]);     "
      ],
      "metadata": {
        "colab": {
          "base_uri": "https://localhost:8080/"
        },
        "id": "mOR0WiVMajgX",
        "outputId": "cfef869d-076f-43a4-eb0c-171d033e3037"
      },
      "execution_count": null,
      "outputs": [
        {
          "output_type": "stream",
          "name": "stdout",
          "text": [
            "Elements of given array present on odd position: \n",
            "22\n",
            "16\n",
            "12\n",
            "66\n"
          ]
        }
      ]
    },
    {
      "cell_type": "markdown",
      "source": [
        "Program 4: Write a program to Sort Array in Descending Order."
      ],
      "metadata": {
        "id": "-svYhcV4c1T2"
      }
    },
    {
      "cell_type": "code",
      "source": [
        "import numpy as np \n",
        "arr=np.array([12, 5, 8, 9, 10, 4, 2, 1])\n",
        "temp=0;\n",
        "print(\"Elements of original array: \");    \n",
        "for i in range(0, len(arr)):     \n",
        "    print(arr[i]), \n",
        "for i in range(0, len(arr)):    \n",
        "    for j in range(i+1, len(arr)):    \n",
        "        if(arr[i] < arr[j]):    \n",
        "            temp = arr[i];    \n",
        "            arr[i] = arr[j];    \n",
        "            arr[j] = temp;    \n",
        "     \n",
        "print();  \n",
        "print(\"Elements of array sorted in descending order: \");    \n",
        "for i in range(0, len(arr)):     \n",
        "    print(arr[i]), "
      ],
      "metadata": {
        "colab": {
          "base_uri": "https://localhost:8080/"
        },
        "id": "q-8ngAesc5Jm",
        "outputId": "a6924b3f-c885-45df-a685-dbf0fb5e2328"
      },
      "execution_count": null,
      "outputs": [
        {
          "output_type": "stream",
          "name": "stdout",
          "text": [
            "Elements of original array: \n",
            "12\n",
            "5\n",
            "8\n",
            "9\n",
            "10\n",
            "4\n",
            "2\n",
            "1\n",
            "\n",
            "Elements of array sorted in descending order: \n",
            "12\n",
            "10\n",
            "9\n",
            "8\n",
            "5\n",
            "4\n",
            "2\n",
            "1\n"
          ]
        }
      ]
    },
    {
      "cell_type": "markdown",
      "source": [
        "Program 5: Write a python program to Print Right Triangle Number Pattern using For Loop."
      ],
      "metadata": {
        "id": "Ld-GEH4ykajf"
      }
    },
    {
      "cell_type": "code",
      "source": [
        "# Python Program to Print Right Triangle Number Pattern\n",
        " \n",
        "rows = int(input(\"Please Enter the total Number of Rows  : \"))\n",
        "\n",
        "print(\"Right Triangle Pattern of Numbers\") \n",
        "i = 1\n",
        "while(i <= rows):\n",
        "    j = 1\n",
        "    while(j <= i):        \n",
        "        print('%d' %i, end = '  ')\n",
        "        j = j + 1\n",
        "    i = i + 1\n",
        "    print()"
      ],
      "metadata": {
        "colab": {
          "base_uri": "https://localhost:8080/"
        },
        "id": "O9nKbGKWRnhQ",
        "outputId": "cd382214-535a-4a6a-d354-5b23915657dd"
      },
      "execution_count": null,
      "outputs": [
        {
          "output_type": "stream",
          "name": "stdout",
          "text": [
            "Please Enter the total Number of Rows  : 12\n",
            "Right Triangle Pattern of Numbers\n",
            "1  \n",
            "2  2  \n",
            "3  3  3  \n",
            "4  4  4  4  \n",
            "5  5  5  5  5  \n",
            "6  6  6  6  6  6  \n",
            "7  7  7  7  7  7  7  \n",
            "8  8  8  8  8  8  8  8  \n",
            "9  9  9  9  9  9  9  9  9  \n",
            "10  10  10  10  10  10  10  10  10  10  \n",
            "11  11  11  11  11  11  11  11  11  11  11  \n",
            "12  12  12  12  12  12  12  12  12  12  12  12  \n"
          ]
        }
      ]
    },
    {
      "cell_type": "markdown",
      "source": [
        "Program 6: write a python program to Print Inverted Right Triangle of Numbers using For Loop."
      ],
      "metadata": {
        "id": "sa5jfA31U3E7"
      }
    },
    {
      "cell_type": "code",
      "source": [
        "# Python Program to Print Inverted Right Triangle of Numbers\n",
        " \n",
        "rows = int(input(\"Please Enter the total Number of Rows  : \"))\n",
        "\n",
        "print(\"Inverted Right Triangle Pattern of Numbers\") \n",
        "i = rows\n",
        "while(i >= 1):\n",
        "    j = 1\n",
        "    while(j <= i):      \n",
        "        print('%d ' %i, end = '  ')\n",
        "        j = j + 1\n",
        "    i = i - 1\n",
        "    print()"
      ],
      "metadata": {
        "colab": {
          "base_uri": "https://localhost:8080/"
        },
        "id": "4Oo68CRSU9Hz",
        "outputId": "9eac0ebf-3a26-4a67-9f37-665cf681d31a"
      },
      "execution_count": null,
      "outputs": [
        {
          "output_type": "stream",
          "name": "stdout",
          "text": [
            "Please Enter the total Number of Rows  : 12\n",
            "Inverted Right Triangle Pattern of Numbers\n",
            "12   12   12   12   12   12   12   12   12   12   12   12   \n",
            "11   11   11   11   11   11   11   11   11   11   11   \n",
            "10   10   10   10   10   10   10   10   10   10   \n",
            "9   9   9   9   9   9   9   9   9   \n",
            "8   8   8   8   8   8   8   8   \n",
            "7   7   7   7   7   7   7   \n",
            "6   6   6   6   6   6   \n",
            "5   5   5   5   5   \n",
            "4   4   4   4   \n",
            "3   3   3   \n",
            "2   2   \n",
            "1   \n"
          ]
        }
      ]
    },
    {
      "cell_type": "markdown",
      "source": [
        "Program 7: write a python program to draw one of you color filled favorite shape using turtle."
      ],
      "metadata": {
        "id": "YpB4KhxoVWqQ"
      }
    },
    {
      "cell_type": "code",
      "source": [
        "!pip3 install ColabTurtle\n",
        "from ColabTurtle.Turtle import *\n",
        "\n",
        "import ColabTurtle.Turtle as t \n",
        "initializeTurtle()\n",
        "\n",
        "t.forward(140)\n",
        "t.left(90)\n",
        "t.forward(70)\n",
        "t.left(90)\n",
        "t.forward(140)\n",
        "t.left(90)\n",
        "t.forward(70)\n",
        "t.left(90)"
      ],
      "metadata": {
        "colab": {
          "base_uri": "https://localhost:8080/",
          "height": 732
        },
        "id": "zgIZAJDvWOdQ",
        "outputId": "8c9f540a-a623-4c81-b5e8-e74705688a60"
      },
      "execution_count": null,
      "outputs": [
        {
          "output_type": "stream",
          "name": "stdout",
          "text": [
            "Looking in indexes: https://pypi.org/simple, https://us-python.pkg.dev/colab-wheels/public/simple/\n",
            "Collecting ColabTurtle\n",
            "  Downloading ColabTurtle-2.1.0.tar.gz (6.8 kB)\n",
            "  Preparing metadata (setup.py) ... \u001b[?25l\u001b[?25hdone\n",
            "Building wheels for collected packages: ColabTurtle\n",
            "  Building wheel for ColabTurtle (setup.py) ... \u001b[?25l\u001b[?25hdone\n",
            "  Created wheel for ColabTurtle: filename=ColabTurtle-2.1.0-py3-none-any.whl size=7656 sha256=59c024f74a6400ccfe4db4cb34a5d436afda82f6260b2d518bb0510ded4ee21a\n",
            "  Stored in directory: /root/.cache/pip/wheels/a9/85/dc/29b6b43c4c6c0fe37192ccad65fe2adcef1e52dd24b0eb61fc\n",
            "Successfully built ColabTurtle\n",
            "Installing collected packages: ColabTurtle\n",
            "Successfully installed ColabTurtle-2.1.0\n"
          ]
        },
        {
          "output_type": "display_data",
          "data": {
            "text/plain": [
              "<IPython.core.display.HTML object>"
            ],
            "text/html": [
              "\n",
              "      <svg width=\"800\" height=\"500\">\n",
              "        <rect width=\"100%\" height=\"100%\" fill=\"black\"/>\n",
              "        <line x1=\"400\" y1=\"250\" x2=\"400.0\" y2=\"110.0\" stroke-linecap=\"round\" style=\"stroke:white;stroke-width:4\"/><line x1=\"400.0\" y1=\"110.0\" x2=\"330.0\" y2=\"110.0\" stroke-linecap=\"round\" style=\"stroke:white;stroke-width:4\"/><line x1=\"330.0\" y1=\"110.0\" x2=\"330.0\" y2=\"250.0\" stroke-linecap=\"round\" style=\"stroke:white;stroke-width:4\"/><line x1=\"330.0\" y1=\"250.0\" x2=\"400.0\" y2=\"250.0\" stroke-linecap=\"round\" style=\"stroke:white;stroke-width:4\"/>\n",
              "        <g visibility=visible transform=\"rotate(360,400.0,250.0) translate(382.0, 232.0)\">\n",
              "<path style=\" stroke:none;fill-rule:evenodd;fill:white;fill-opacity:1;\" d=\"M 18.214844 0.632812 C 16.109375 1.800781 15.011719 4.074219 15.074219 7.132812 L 15.085938 7.652344 L 14.785156 7.496094 C 13.476562 6.824219 11.957031 6.671875 10.40625 7.066406 C 8.46875 7.550781 6.515625 9.15625 4.394531 11.992188 C 3.0625 13.777344 2.679688 14.636719 3.042969 15.027344 L 3.15625 15.152344 L 3.519531 15.152344 C 4.238281 15.152344 4.828125 14.886719 8.1875 13.039062 C 9.386719 12.378906 10.371094 11.839844 10.378906 11.839844 C 10.386719 11.839844 10.355469 11.929688 10.304688 12.035156 C 9.832031 13.09375 9.257812 14.820312 8.96875 16.078125 C 7.914062 20.652344 8.617188 24.53125 11.070312 27.660156 C 11.351562 28.015625 11.363281 27.914062 10.972656 28.382812 C 8.925781 30.84375 7.945312 33.28125 8.238281 35.1875 C 8.289062 35.527344 8.28125 35.523438 8.917969 35.523438 C 10.941406 35.523438 13.074219 34.207031 15.136719 31.6875 C 15.359375 31.417969 15.328125 31.425781 15.5625 31.574219 C 16.292969 32.042969 18.023438 32.964844 18.175781 32.964844 C 18.335938 32.964844 19.941406 32.210938 20.828125 31.71875 C 20.996094 31.625 21.136719 31.554688 21.136719 31.558594 C 21.203125 31.664062 21.898438 32.414062 22.222656 32.730469 C 23.835938 34.300781 25.5625 35.132812 27.582031 35.300781 C 27.90625 35.328125 27.9375 35.308594 28.007812 34.984375 C 28.382812 33.242188 27.625 30.925781 25.863281 28.425781 L 25.542969 27.96875 L 25.699219 27.785156 C 28.945312 23.960938 29.132812 18.699219 26.257812 11.96875 L 26.207031 11.84375 L 27.945312 12.703125 C 31.53125 14.476562 32.316406 14.800781 33.03125 14.800781 C 33.976562 14.800781 33.78125 13.9375 32.472656 12.292969 C 28.519531 7.355469 25.394531 5.925781 21.921875 7.472656 L 21.558594 7.636719 L 21.578125 7.542969 C 21.699219 6.992188 21.761719 5.742188 21.699219 5.164062 C 21.496094 3.296875 20.664062 1.964844 19.003906 0.855469 C 18.480469 0.503906 18.457031 0.5 18.214844 0.632812\"/>\n",
              "</g>\n",
              "      </svg>\n",
              "    "
            ]
          },
          "metadata": {}
        }
      ]
    },
    {
      "cell_type": "markdown",
      "source": [
        "Program 8: Write a Python program to print Christmas tree star pattern using for loop."
      ],
      "metadata": {
        "id": "91L_FBDeWXA0"
      }
    },
    {
      "cell_type": "code",
      "source": [
        "width = int(input(\"Enter Chirstmas Tree Width   = \"))\n",
        "height = int(input(\"Enter Chirstmas Tree Height = \"))\n",
        "\n",
        "space = width * height\n",
        "n = 1\n",
        "\n",
        "print(\"====The Chirstmas Tree Star Pattern====\")\n",
        "alphabet = 65\n",
        "\n",
        "for x in range(1, height + 1):\n",
        "    for i in range(n, width + 1):\n",
        "        for j in range(space, i - 1, -1):\n",
        "            print(end = ' ')\n",
        "        for k in range(1, i + 1):\n",
        "            print('*', end = ' ')\n",
        "        print()\n",
        "    n = n + 2\n",
        "    width = width + 2\n",
        "\n",
        "for i in range(1, height):\n",
        "    for j in range(space - 3, -1, -1):\n",
        "        print(end = ' ')\n",
        "    for k in range(1, height):\n",
        "        print('*', end = ' ')\n",
        "    print()"
      ],
      "metadata": {
        "colab": {
          "base_uri": "https://localhost:8080/"
        },
        "id": "ktfH1OeqW8t0",
        "outputId": "ab64d8fe-b074-4001-a276-7b808ca2d4dd"
      },
      "execution_count": null,
      "outputs": [
        {
          "output_type": "stream",
          "name": "stdout",
          "text": [
            "Enter Chirstmas Tree Width   = 5\n",
            "Enter Chirstmas Tree Height = 8\n",
            "====The Chirstmas Tree Star Pattern====\n",
            "                                        * \n",
            "                                       * * \n",
            "                                      * * * \n",
            "                                     * * * * \n",
            "                                    * * * * * \n",
            "                                      * * * \n",
            "                                     * * * * \n",
            "                                    * * * * * \n",
            "                                   * * * * * * \n",
            "                                  * * * * * * * \n",
            "                                    * * * * * \n",
            "                                   * * * * * * \n",
            "                                  * * * * * * * \n",
            "                                 * * * * * * * * \n",
            "                                * * * * * * * * * \n",
            "                                  * * * * * * * \n",
            "                                 * * * * * * * * \n",
            "                                * * * * * * * * * \n",
            "                               * * * * * * * * * * \n",
            "                              * * * * * * * * * * * \n",
            "                                * * * * * * * * * \n",
            "                               * * * * * * * * * * \n",
            "                              * * * * * * * * * * * \n",
            "                             * * * * * * * * * * * * \n",
            "                            * * * * * * * * * * * * * \n",
            "                              * * * * * * * * * * * \n",
            "                             * * * * * * * * * * * * \n",
            "                            * * * * * * * * * * * * * \n",
            "                           * * * * * * * * * * * * * * \n",
            "                          * * * * * * * * * * * * * * * \n",
            "                            * * * * * * * * * * * * * \n",
            "                           * * * * * * * * * * * * * * \n",
            "                          * * * * * * * * * * * * * * * \n",
            "                         * * * * * * * * * * * * * * * * \n",
            "                        * * * * * * * * * * * * * * * * * \n",
            "                          * * * * * * * * * * * * * * * \n",
            "                         * * * * * * * * * * * * * * * * \n",
            "                        * * * * * * * * * * * * * * * * * \n",
            "                       * * * * * * * * * * * * * * * * * * \n",
            "                      * * * * * * * * * * * * * * * * * * * \n",
            "                                      * * * * * * * \n",
            "                                      * * * * * * * \n",
            "                                      * * * * * * * \n",
            "                                      * * * * * * * \n",
            "                                      * * * * * * * \n",
            "                                      * * * * * * * \n",
            "                                      * * * * * * * \n"
          ]
        }
      ]
    }
  ]
}